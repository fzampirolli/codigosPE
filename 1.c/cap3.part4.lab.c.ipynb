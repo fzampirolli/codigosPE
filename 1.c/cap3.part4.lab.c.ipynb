{
    "nbformat": 4,
    "nbformat_minor": 0,
    "metadata": {
        "colab": {
            "provenance": [
                {
                    "file_id": "120HGhuQUsYqKDvUqyrl3bAJBrlWmHUC8",
                    "timestamp": 1616405504493
                },
                {
                    "file_id": "1IUumSmkO7OKjjjmphpRGVZm9XAQ106g2",
                    "timestamp": 1575381269264
                }
            ],
            "collapsed_sections": []
        },
        "kernelspec": {
            "name": "python3",
            "display_name": "Python 3"
        }
    },
    "cells": [
        {
            "cell_type": "markdown",
            "metadata": {},
            "source": [
                "## Processando a Informa\u00e7\u00e3o: Cap. 3: Desvios Condicionais - Pr\u00e1tica 3\n",
                "\n",
                "\n",
                "\n",
                "\n",
                "\n"
            ]
        },
        {
            "cell_type": "markdown",
            "metadata": {},
            "source": [
                "<img src=\"https://editora.ufabc.edu.br/images/Capa_Processando_Informacao.jpg\" alt=\"Capa\" width=\"150\" align=\"right\">\n",
                "\n",
                "![](\"figs/Capa_Processando_Informacao.jpg\")\n",
                "\n",
                "Este caderno (Notebook) \u00e9 parte complementar *online* do livro **[Processando a Informa\u00e7\u00e3o](https://editora.ufabc.edu.br/matematica-e-ciencias-da-computacao/58-processando-a-informacao): um livro pr\u00e1tico de programa\u00e7\u00e3o independente de linguagem**, que deve ser consultado no caso de d\u00favidas sobre os temas apresentados. \n",
                "\n",
                "> Este conte\u00fado pode ser copiado e alterado livremente e foi inspirado nesse livro. \n"
            ]
        },
        {
            "cell_type": "markdown",
            "metadata": {},
            "source": [
                "### Exerc\u00edcios\n",
                "\n",
                "[Fonte: [link](http://www.facom.ufu.br/~backes/gbt017/ListaPython02.pdf)]"
            ]
        },
        {
            "cell_type": "markdown",
            "metadata": {},
            "source": [
                "---\n",
                "1.  Fa\u00e7a um programa que leia 2 notas de um aluno, verifique se as notas sao v\u00e1lidas e\n",
                "exiba na tela a m\u00e9dia destas notas. Uma nota v\u00e1lida deve ser, obrigatoriamente, um valor entre 0.0 e 10.0, onde caso a nota n\u00e3o possua um valor v\u00e1lido, este fato deve ser informado ao usu\u00e1rio e o programa termina."
            ]
        },
        {
            "cell_type": "markdown",
            "metadata": {},
            "source": [
                "---\n",
                "2.   Escreva um programa que leia um n\u00famero inteiro maior do que zero e devolva, na tela, a soma de todos os seus algarismos. Por exemplo, ao numero 251 corresponder ao valor 8 (2 + 5 + 1). Se o numero lido n\u00e3o for maior do que zero, o programa terminar\u00e1 com a mensagem \u201cNumero inv\u00e1lido\u201d."
            ]
        },
        {
            "cell_type": "markdown",
            "metadata": {},
            "source": [
                "---\n",
                "3.  Escreva um programa que leia um inteiro entre 1 e 12 e imprima o m\u00eas correspondente a este n\u00famero. Isto \u00e9, janeiro se 1, fevereiro se 2, e assim por diante."
            ]
        },
        {
            "cell_type": "markdown",
            "metadata": {},
            "source": [
                "---\n",
                "4.   Fa\u00e7a uma fun\u00e7\u00e3o que calcule e retorne a \u00e1rea de um trap\u00e9zio (A). Lembre-se que a base maior e a base menor devem ser n\u00fameros maiores que zero.\n",
                "\n",
                "$$ A = \\frac{altura*(basemaior + basemenor)}{2}$$"
            ]
        },
        {
            "cell_type": "markdown",
            "metadata": {},
            "source": [
                "---\n",
                "5.   Fa\u00e7a um programa para verificar se um determinado n\u00famero inteiro e divis\u00edvel por 3 ou 5, mas nao simultaneamente pelos dois."
            ]
        },
        {
            "cell_type": "markdown",
            "metadata": {},
            "source": [
                "---\n",
                "6.   Escreva o menu de op\u00e7\u00f5es abaixo. Leia a op\u00e7\u00e3o do usu\u00e1rio e execute a opera\u00e7\u00e3o escolhida. Escreva uma mensagem de erro se a op\u00e7\u00e3o for inv\u00e1lida.\n",
                "\n",
                "```\n",
                "Escolha a op\u00e7\u00e3o:\n",
                "1- Soma de 2 n\u00fameros.\n",
                "2- Diferen\u00e7a entre 2 n\u00fameros (maior pelo menor).\n",
                "3- Produto entre 2 n\u00fameros.\n",
                "4- Divis\u00e3o entre 2 n\u00fameros (o denominador n\u00e3o pode ser zero).\n",
                "Op\u00e7\u00e3o\n",
                "```"
            ]
        },
        {
            "cell_type": "markdown",
            "metadata": {},
            "source": [
                "---\n",
                "7.  Leia a idade e o tempo de servi\u00e7o de um trabalhador e escreva se ele pode ou n\u00e3o se aposentar. As condi\u00e7\u00f5es para aposentadoria s\u00e3o:\n",
                "\n",
                "* Ter pelo menos 65 anos,\n",
                "* Ou ter trabalhado pelo menos 30 anos,\n",
                "* Ou ter pelo menos 60 anos e trabalhado pelo menos 25 anos."
            ]
        },
        {
            "cell_type": "markdown",
            "metadata": {},
            "source": [
                "---\n",
                "8.  Uma empresa vende o mesmo produto para quatro diferentes estados. Cada estado possui uma taxa diferente de imposto sobre o produto (MG 7%; SP 12%; RJ 15%; MS 8%). Fa\u00e7a um programa em que o usuario entre com o valor e o estado destino do produto e o programa retorne o pre\u00e7o final do produto acrescido do imposto do estado em que ele ser\u00e1 vendido. Se o estado digitado n\u00e3o for v\u00e1lido, mostrar uma mensagem de erro."
            ]
        },
        {
            "cell_type": "markdown",
            "metadata": {},
            "source": [
                "---\n",
                "9.  Leia a dist\u00e2ncia em Km e a quantidade de litros de gasolina consumidos por um carro em um percurso, calcule o consumo em Km/l e escreva uma mensagem de acordo com a tabela abaixo:\n",
                "\n",
                "| Consumo   \t| Km/l   \t| Mensagem         \t|\n",
                "|-----------\t|--------\t|------------------\t|\n",
                "| menor que \t| 8      \t| venda o carro!   \t|\n",
                "| entre     \t| 8 e 14 \t| econ\u00f4mico!       \t|\n",
                "| maior que \t| 14     \t| super econ\u00f4mico! \t|"
            ]
        },
        {
            "cell_type": "markdown",
            "metadata": {},
            "source": [
                "---\n",
                "10.  Escreva um programa que, dada a idade de um nadador, classifique-o em uma das seguintes categorias:\n",
                "\n",
                "| Categora   \t| Idade   \t| \n",
                "|-----------\t|--------\t|\n",
                "| Infantil A  | 5 a 7 |\n",
                "| Infantil B  | 8 a 10 |\n",
                "| Juvenil A  | 11 a 13 |\n",
                "| Juvenil B  | 14 a 17 |\n",
                "| S\u00eanior     | maior que 17 |\n"
            ]
        },
        {
            "cell_type": "markdown",
            "metadata": {},
            "source": [
                "---\n",
                "11.  Escrever um programa que leia o codigo do produto escolhido do card\u00e1pio de uma lanchonete e a quantidade. O programa deve calcular o valor a ser\u00e1 pago por aquele lanche.\n",
                "Considere que a cada execu\u00e7\u00e3o somente ser\u00e1 calculado um pedido. O card\u00e1pio da lanchonete segue o padrao abaixo: \n",
                "\n",
                "| Especifica\u00e7\u00e3o   \t| C\u00f3digo   \t| Pre\u00e7o |\n",
                "|-----------\t|--------\t|-------|\n",
                "| Cachorro quente  | 100 | 12.0 |\n",
                "| Bauru Simples  | 101 | 13.0 |\n",
                "| Bauru Simples  | 102 | 13.0 |\n",
                "| Hamburguer  | 103 | 12.0 |\n",
                "| Cheeseburguer  | 104 | 17.0 |\n",
                "| Suco  | 105 | 6.0 |\n",
                "| Refrigerante  | 106 | 4.0 |\n",
                "\n"
            ]
        }
    ]
}