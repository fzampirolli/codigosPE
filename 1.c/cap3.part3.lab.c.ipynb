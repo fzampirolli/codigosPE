{
    "nbformat": 4,
    "nbformat_minor": 0,
    "metadata": {
        "colab": {
            "name": "cap3.part3.lab.ipynb",
            "provenance": [
                {
                    "file_id": "120HGhuQUsYqKDvUqyrl3bAJBrlWmHUC8",
                    "timestamp": 1616405504493
                },
                {
                    "file_id": "1IUumSmkO7OKjjjmphpRGVZm9XAQ106g2",
                    "timestamp": 1575381269264
                }
            ],
            "collapsed_sections": []
        },
        "kernelspec": {
            "name": "python3",
            "display_name": "Python 3"
        }
    },
    "cells": [
        {
            "cell_type": "markdown",
            "metadata": {},
            "source": [
                "## Processando a Informa\u00e7\u00e3o: Cap. 3: Desvios Condicionais - Pr\u00e1tica 2\n",
                "\n",
                "\n",
                "\n",
                "\n",
                "\n"
            ]
        },
        {
            "cell_type": "markdown",
            "metadata": {},
            "source": [
                "<img src=\"https://editora.ufabc.edu.br/images/Capa_Processando_Informacao.jpg\" alt=\"Capa\" width=\"150\" align=\"right\">\n",
                "\n",
                "![](\"figs/Capa_Processando_Informacao.jpg\")\n",
                "\n",
                "Este caderno (Notebook) \u00e9 parte complementar *online* do livro **[Processando a Informa\u00e7\u00e3o](https://editora.ufabc.edu.br/matematica-e-ciencias-da-computacao/58-processando-a-informacao): um livro pr\u00e1tico de programa\u00e7\u00e3o independente de linguagem**, que deve ser consultado no caso de d\u00favidas sobre os temas apresentados. \n",
                "\n",
                "> Este conte\u00fado pode ser copiado e alterado livremente e foi inspirado nesse livro. \n"
            ]
        },
        {
            "cell_type": "markdown",
            "metadata": {},
            "source": [
                "### Exerc\u00edcios\n",
                "\n",
                "[Fonte: [link](https://www.studocu.com/pt-br/document/universidade-estadual-da-paraiba/algoritmos/tarefas-obrigatorias/lista-de-exercicio-respondido-em-python-estrutura-condicional/4958982/view)]"
            ]
        },
        {
            "cell_type": "markdown",
            "metadata": {},
            "source": [
                "---\n",
                "1.   Fazer um programa que leia a capacidade de um elevador e o peso de 5 pessoas. Informar se o elevador est\u00e1 liberado para subir ou se excedeu a carga m\u00e1xima."
            ]
        },
        {
            "cell_type": "code",
            "metadata": {},
            "source": [
                "# escreva o seu c\u00f3digo"
            ],
            "execution_count": null,
            "outputs": []
        },
        {
            "cell_type": "markdown",
            "metadata": {},
            "source": [
                "---\n",
                "2.   Fa\u00e7a um programa que leia 4 vari\u00e1veis A, B, C e D. A seguir, se B for maior do que C e se D for maior do que A e a soma de C com D for maior que a soma de A e B e se C e D, ambos, forem positivos e se a vari\u00e1vel A for par, escrever a mensagem \u201cvalores aceitos\u201d, sen\u00e3o escrever \u201cvalores n\u00e3o aceitos\u201d"
            ]
        },
        {
            "cell_type": "code",
            "metadata": {},
            "source": [
                "# escreva o seu c\u00f3digo"
            ],
            "execution_count": null,
            "outputs": []
        },
        {
            "cell_type": "markdown",
            "metadata": {},
            "source": [
                "---\n",
                "3.   Escreva um programa que informe se um dado ano \u00e9 ou n\u00e3o \u00e9 bissexto. Um ano \u00e9 bissexto se ele for divis\u00edvel por 400 ou se ele for divis\u00edvel por 4 e n\u00e3o por 100."
            ]
        },
        {
            "cell_type": "code",
            "metadata": {},
            "source": [
                "# escreva o seu c\u00f3digo"
            ],
            "execution_count": null,
            "outputs": []
        },
        {
            "cell_type": "markdown",
            "metadata": {},
            "source": [
                "---\n",
                "4.   Construa um programa que leia um n\u00famero inteiro e imprima a quantidade de centenas, dezenas e unidades desse n\u00famero. Considere o seguinte exemplo: o n\u00famero 345 possui 3 centenas, 4 dezenas e 5 unidades."
            ]
        },
        {
            "cell_type": "code",
            "metadata": {},
            "source": [
                "# escreva o seu c\u00f3digo"
            ],
            "execution_count": null,
            "outputs": []
        },
        {
            "cell_type": "markdown",
            "metadata": {},
            "source": [
                "---\n",
                "5.   Fa\u00e7a um programa que pergunte o nome do aluno, a quantidade de dias na semana e o tipo de curso (B para b\u00e1sico, I para intermedi\u00e1rio e A para avan\u00e7ado). Mostre o nome do aluno e o valor a ser pago. O valor total \u00e9 calculado com base nas informa\u00e7\u00f5es abaixo:\n",
                "* Caso a op\u00e7\u00e3o escolhida for B\u00e1sico, dever\u00e1 fazer a seguinte conta:\n",
                "> Valor Total = (Quantidade de dias na semana * 7 ) * 15\n",
                "* Caso a op\u00e7\u00e3o escolhida for Intermedi\u00e1rio, dever\u00e1 fazer a seguinte conta:\n",
                "> Valor Total = (Quantidade de dias na semana * 8,5 ) * 20\n",
                "* Caso a op\u00e7\u00e3o escolhida for Avan\u00e7ado, dever\u00e1 fazer a seguinte conta:\n",
                "> Valor Total = (Quantidade de dias na semana * 10 ) * 25"
            ]
        },
        {
            "cell_type": "code",
            "metadata": {},
            "source": [
                "# escreva o seu c\u00f3digo"
            ],
            "execution_count": null,
            "outputs": []
        }
    ]
}