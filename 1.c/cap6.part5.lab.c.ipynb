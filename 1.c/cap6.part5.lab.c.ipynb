{
    "nbformat": 4,
    "nbformat_minor": 0,
    "metadata": {
        "colab": {
            "name": "cap6.part5.lab.ipynb",
            "provenance": [
                {
                    "file_id": "120HGhuQUsYqKDvUqyrl3bAJBrlWmHUC8",
                    "timestamp": 1616405504493
                },
                {
                    "file_id": "1IUumSmkO7OKjjjmphpRGVZm9XAQ106g2",
                    "timestamp": 1575381269264
                }
            ],
            "collapsed_sections": [],
            "toc_visible": true
        },
        "kernelspec": {
            "name": "python3",
            "display_name": "Python 3"
        }
    },
    "cells": [
        {
            "cell_type": "markdown",
            "metadata": {},
            "source": [
                "## Processando a Informa\u00e7\u00e3o: Cap. 6: Matrizes - Pr\u00e1tica 4"
            ]
        },
        {
            "cell_type": "markdown",
            "metadata": {},
            "source": [
                "<img src=\"https://editora.ufabc.edu.br/images/Capa_Processando_Informacao.jpg\" alt=\"Capa\" width=\"150\" align=\"right\">\n",
                "\n",
                "![](\"figs/Capa_Processando_Informacao.jpg\")\n",
                "\n",
                "Este caderno (Notebook) \u00e9 parte complementar *online* do livro **[Processando a Informa\u00e7\u00e3o](https://editora.ufabc.edu.br/matematica-e-ciencias-da-computacao/58-processando-a-informacao): um livro pr\u00e1tico de programa\u00e7\u00e3o independente de linguagem**, que deve ser consultado no caso de d\u00favidas sobre os temas apresentados. \n",
                "\n",
                "> Este conte\u00fado pode ser copiado e alterado livremente e foi inspirado nesse livro. \n"
            ]
        },
        {
            "cell_type": "code",
            "metadata": {},
            "source": [
                "import numpy as np\n",
                "def escreverMatriz(m): # escreve matriz, linha por linha\n",
                "  for linha in m:\n",
                "    print(*linha)\n",
                "\n",
                "L,C = np.random.randint(2,10, size = 2) # INTERESSANTE para testar\n",
                "print(L,C)\n",
                "m = np.random.randint(10, size=(L,C))   # INTERESSANTE para testar\n",
                "escreverMatriz(m)"
            ],
            "execution_count": null,
            "outputs": []
        },
        {
            "cell_type": "markdown",
            "metadata": {},
            "source": [
                "### Exerc\u00edcios"
            ]
        },
        {
            "cell_type": "markdown",
            "metadata": {},
            "source": [
                "---\n",
                "EP5_1 - M\u00e9dia dos alunos\n"
            ]
        },
        {
            "cell_type": "markdown",
            "metadata": {},
            "source": [
                "#### Ler uma matriz considerando cada LINHA da matriz um `input()`:"
            ]
        },
        {
            "cell_type": "code",
            "metadata": {},
            "source": [
                "def lerMatriz(): # ler matriz de inteiros\n",
                "  m, ler_linha = [], input()\n",
                "  while ler_linha:\n",
                "    m.append([int(i) for i in ler_linha.split(' ') if i])\n",
                "    ler_linha = input()\n",
                "  return np.array(m, dtype=int)\n",
                "\n",
                "m1 = lerMatriz()\n",
                "L,C = m1.shape # para ler as dimens\u00f5es de uma matriz no numpy\n",
                "print(L,C)\n",
                "escreverMatriz(m1)"
            ],
            "execution_count": null,
            "outputs": []
        },
        {
            "cell_type": "markdown",
            "metadata": {},
            "source": [
                "O PROCESSAMENTO de um problema/quest\u00e3o INDEPENDE da forma como a matriz foi criada/lida com o comando `input()`: \n",
                "\n",
                "  * cada LINHA da matriz um `input()` ou \n",
                "  * cada ELEMENTO da matriz um `input()`"
            ]
        },
        {
            "cell_type": "code",
            "metadata": {},
            "source": [
                "# escreva o seu c\u00f3digo\n",
                "def calcMedia(m):\n",
                "  v = []\n",
                "  L, C = m.shape\n",
                "  m1 = np.zeros((L,C+1), dtype=float)\n",
                "  for i in range(L): # para cada linha/aluno\n",
                "    soma = 0\n",
                "    for j in range(C): # para cada coluna/nota do aluno\n",
                "      soma += m[i,j]\n",
                "      m1[i,j] = m[i,j]\n",
                "    m1[i,C] = round(soma / C,2)\n",
                "  return m1\n",
                "\n",
                "escreverMatriz(m)\n",
                "print()\n",
                "escreverMatriz(calcMedia(m))"
            ],
            "execution_count": null,
            "outputs": []
        },
        {
            "cell_type": "markdown",
            "metadata": {},
            "source": [
                "#### Ler uma matriz considerando cada ELEMENTO da matriz um `input()`:"
            ]
        },
        {
            "cell_type": "code",
            "metadata": {},
            "source": [
                "import numpy as np # muito \u00fatil para trabalhar com vetor!\n",
                "  \n",
                "def lerMatriz2(L,C):\n",
                "  m = np.zeros((L,C)).astype(int) # matriz de inteiro com Linhas x Colunas\n",
                "  for i in range(L):\n",
                "    for j in range(C):\n",
                "      m[i][j] = int(input())\n",
                "  return m\n",
                "\n",
                "# ENTRADA DE DADOS\n",
                "L = int(input(\"Digite o numero de alunos:\"))\n",
                "C = int(input(\"Digite o numero de avalia\u00e7\u00f5es:\"))\n",
                "m = lerMatriz2(L,C)\n",
                "# PROCESSAMENTO ?\n",
                "m1 = calcMedia(m)\n",
                "\n",
                "# SA\u00cdDA DE DADOS\n",
                "escreverMatriz(m1)"
            ],
            "execution_count": null,
            "outputs": []
        }
    ]
}