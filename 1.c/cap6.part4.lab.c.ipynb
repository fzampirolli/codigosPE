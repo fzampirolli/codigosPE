{
    "nbformat": 4,
    "nbformat_minor": 0,
    "metadata": {
        "colab": {
            "provenance": [
                {
                    "file_id": "120HGhuQUsYqKDvUqyrl3bAJBrlWmHUC8",
                    "timestamp": 1616405504493
                },
                {
                    "file_id": "1IUumSmkO7OKjjjmphpRGVZm9XAQ106g2",
                    "timestamp": 1575381269264
                }
            ],
            "collapsed_sections": []
        },
        "kernelspec": {
            "name": "python3",
            "display_name": "Python 3"
        }
    },
    "cells": [
        {
            "cell_type": "markdown",
            "metadata": {},
            "source": [
                "## Processando a Informa\u00e7\u00e3o: Cap. 6: Matrizes - Pr\u00e1tica 3"
            ]
        },
        {
            "cell_type": "markdown",
            "metadata": {},
            "source": [
                "<img src=\"https://editora.ufabc.edu.br/images/Capa_Processando_Informacao.jpg\" alt=\"Capa\" width=\"150\" align=\"right\">\n",
                "\n",
                "![](\"figs/Capa_Processando_Informacao.jpg\")\n",
                "\n",
                "Este caderno (Notebook) \u00e9 parte complementar *online* do livro **[Processando a Informa\u00e7\u00e3o](https://editora.ufabc.edu.br/matematica-e-ciencias-da-computacao/58-processando-a-informacao): um livro pr\u00e1tico de programa\u00e7\u00e3o independente de linguagem**, que deve ser consultado no caso de d\u00favidas sobre os temas apresentados. \n",
                "\n",
                "> Este conte\u00fado pode ser copiado e alterado livremente e foi inspirado nesse livro. \n"
            ]
        },
        {
            "cell_type": "markdown",
            "metadata": {},
            "source": [
                "### Exerc\u00edcios\n",
                "\n",
                "Fonte: [ref1](http://www.deinf.ufma.br/~csalles/prog/prog_lista2.pdf); [ref2](http://www.facom.ufu.br/~backes/wordpress/ListaC04.pdf)"
            ]
        },
        {
            "cell_type": "markdown",
            "metadata": {},
            "source": [
                "---\n",
                "1. Uma  matriz  quadrada NxN  l\u00f3gica  representa  as  posi\u00e7\u00f5es  minadas  de  um  jogo.  Quando  uma  posi\u00e7\u00e3o possui  o  valor  VERDADEIRO  significa  que  h\u00e1  uma  mina  ali.  Escreva  um  programa  que informa  se  \u00e9  poss\u00edvel  percorrer  o  tabuleiro  de  um  lado  ao  outro  em  linha  reta  (atravessando uma  linha inteira  ou coluna  inteira)  ou diagonal sem  passar  por  uma  mina  sequer.\n",
                "\n",
                "\n",
                "\n",
                "\n"
            ]
        },
        {
            "cell_type": "markdown",
            "metadata": {},
            "source": [
                "---\n",
                "2.  Uma imagem em n\u00edveis de cinza pode ser representada por uma matriz. Leia uma imagem A de n\u00fameros inteiros. Leia tamb\u00e9m um limiar inteiro. Fazer um m\u00e9todo para calcular e retornar uma imagem bin\u00e1ria de sa\u00edda B com as mesmas dimens\u00f5es de A, considerando para cada pixel A(i,j)>limear, B(i,j) deve receber o valor 1, caso contr\u00e1rio recebe o valor 0. Imprimir as imagens de entrada e sa\u00edda."
            ]
        },
        {
            "cell_type": "markdown",
            "metadata": {},
            "source": [
                "---\n",
                "3.  Leia uma matriz A de inteiros. Criar uma matriz B considerando que cada elemento de B \u00e9 o resultado do elemento de A multiplicado pela m\u00e9dia dos elementos da linha deste elemento. Arredondar cada elemento com o comando `round`."
            ]
        },
        {
            "cell_type": "markdown",
            "metadata": {},
            "source": [
                "---\n",
                "4.  Fa\u00e7a um programa para gerar automaticamente n\u00fameros entre 0 e 99 de uma cartela de bingo. Sabendo que cada cartela dever\u00e1 conter 5 linhas de 5 n\u00fameros, gere estes dados de modo a n\u00e3o ter n\u00fameros repetidos dentro das cartelas. O programa deve exibir na tela a cartela gerada."
            ]
        },
        {
            "cell_type": "markdown",
            "metadata": {},
            "source": [
                "---\n",
                "5.  Leia uma matriz 5 x 10 que se refere respostas de 10 quest\u00f5s de m\u00faltipla escolha, referentes a 50 candidatos de um processo seletivo. Leia tamb\u00e9m um vetor de 10 posi\u00e7\u00f5es contendo o gabarito de respostas que podem ser a, b, c, d ou e. Seu programa dever\u00e1 comparar as respostas de cada candidato com o gabarito e emitir um vetor denominado resultado, contendo a pontua\u00e7\u00e3o correspondente a cada candidato. Imprimir tamb\u00e9m a lista de aprovados e em seguinda a lista de reprovados, considernado m\u00e9dia 5."
            ]
        },
        {
            "cell_type": "markdown",
            "metadata": {},
            "source": [
                "---\n",
                "6.  Leia uma matriz A de inteiros. Qual \u00e9 o maior produto de quatro n\u00fameros adjacentes em qualquer dire\u00e7\u00e3o (cima, baixo, esquerda, direita, ou nas diagonais) na matriz de 20x20 e em qual(is) coordenada(s) ocorreu(ram)? Ou seja, em cada posi\u00e7\u00e3o `[i,j]` de A c\u00e1lcular o m\u00e1ximo valor entre as multiplica\u00e7\u00f5es dos elementos abaixo: \n",
                "\n",
                "| | vizinhan\u00e7a | |\n",
                "|:-------:\t|:-----:\t|:-------:\t|\n",
                "| `[i-1,j-1]` \t| `[i-1,j]` \t| `[i-1,j+1]` \t|\n",
                "| `[i  ,j-1]`  \t|**`[i ,j]`** | `[i  ,j+1]`  \t|\n",
                "| `[i+1,j-1]` \t| `[i+1,j]` \t| `[i+1,j+1]` \t|\n"
            ]
        },
        {
            "cell_type": "markdown",
            "metadata": {},
            "source": [
                "---\n",
                "\n",
                "7.   Uma matriz  de  caracteres  3x3  foi  utilizada  para  armazenar  uma  partida  de  jogo  da  velha.  Os caracteres  \u2018O\u2019  e  \u2018X\u2019  foram  utilizados  para  armazenar  a  jogada  de  cada  participante. Informe  na  tela  se  o  vencedor  foi  o  jogador  \u2018O\u2019,  o  jogador  \u2018X\u2019  ou  se  o  resultado  foi  empate. IMPORTANTE:   n\u00e3o  ser\u00e3o  informadas  partidas  com  dois  vencedores,  apenas  partidas v\u00e1lidas e  todas as 9 casas estar\u00e3o preenchidas  com  \u2018O\u2019 ou \u2018X\u2019."
            ]
        },
        {
            "cell_type": "markdown",
            "metadata": {},
            "source": [
                "---\n",
                "8.  Fa\u00e7a um programa para determinar a pr\u00f3xima jogada em um Jogo da Velha. Assumir que o tabuleiro \u00e9 representado por uma matriz de 3 x 3, onde cada posi\u00e7\u00e3o representa uma das casas do tabuleiro. A matriz pode conter os seguintes valores -1, 0, 1 representando respectivamente uma casa contendo uma pe\u00e7a minha (-1), uma casa vazia do tabuleiro (0), e uma casa contendo uma pe\u00e7a do meu oponente (1)."
            ]
        }
    ]
}