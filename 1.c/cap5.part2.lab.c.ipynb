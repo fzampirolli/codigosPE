{
    "nbformat": 4,
    "nbformat_minor": 0,
    "metadata": {
        "colab": {
            "name": "cap5.part2.lab.ipynb",
            "provenance": [
                {
                    "file_id": "120HGhuQUsYqKDvUqyrl3bAJBrlWmHUC8",
                    "timestamp": 1616405504493
                },
                {
                    "file_id": "1IUumSmkO7OKjjjmphpRGVZm9XAQ106g2",
                    "timestamp": 1575381269264
                }
            ],
            "collapsed_sections": []
        },
        "kernelspec": {
            "name": "python3",
            "display_name": "Python 3"
        }
    },
    "cells": [
        {
            "cell_type": "markdown",
            "metadata": {},
            "source": [
                "## Processando a Informa\u00e7\u00e3o: Cap. 5: Vetores - Pr\u00e1tica 1"
            ]
        },
        {
            "cell_type": "markdown",
            "metadata": {},
            "source": [
                "<img src=\"https://editora.ufabc.edu.br/images/Capa_Processando_Informacao.jpg\" alt=\"Capa\" width=\"150\" align=\"right\">\n",
                "\n",
                "![](\"figs/Capa_Processando_Informacao.jpg\")\n",
                "\n",
                "Este caderno (Notebook) \u00e9 parte complementar *online* do livro **[Processando a Informa\u00e7\u00e3o](https://editora.ufabc.edu.br/matematica-e-ciencias-da-computacao/58-processando-a-informacao): um livro pr\u00e1tico de programa\u00e7\u00e3o independente de linguagem**, que deve ser consultado no caso de d\u00favidas sobre os temas apresentados. \n",
                "\n",
                "> Este conte\u00fado pode ser copiado e alterado livremente e foi inspirado nesse livro. \n"
            ]
        },
        {
            "cell_type": "markdown",
            "metadata": {},
            "source": [
                "### Exerc\u00edcios\n",
                "\n",
                "[ref.: http://tiagodemelo.info/livros/logica/node4.html]"
            ]
        },
        {
            "cell_type": "markdown",
            "metadata": {},
            "source": [
                "---\n",
                "1.   Criar um vetor para armazenar as notas de uma turma com n alunos e imprimir a maior e a menor nota da turma."
            ]
        },
        {
            "cell_type": "code",
            "metadata": {},
            "source": [
                "# escreva o seu c\u00f3digo"
            ],
            "execution_count": null,
            "outputs": []
        },
        {
            "cell_type": "markdown",
            "metadata": {},
            "source": [
                "---\n",
                "2. Criar um vetor de inteiros com n elementos. Achar o menor valor e mostrar, junto com o n\u00famero de vezes ele ocorre no vetor.\n",
                "\n",
                "\n",
                "\n",
                "\n"
            ]
        },
        {
            "cell_type": "code",
            "metadata": {},
            "source": [
                "# escreva o seu c\u00f3digo"
            ],
            "execution_count": null,
            "outputs": []
        },
        {
            "cell_type": "markdown",
            "metadata": {},
            "source": [
                "---\n",
                "3.  Criar um vetor `v1` de inteiros com `n` elementos com valores de `0` at\u00e9 `9`. Criar um outro vetor `v2`, onde os elementos recebam a quantidade de ocorr\u00eancias dos valores de `0` a `10`, armazenando nas posi\u00e7\u00f5es `0` a `10` de `v2`. "
            ]
        },
        {
            "cell_type": "code",
            "metadata": {},
            "source": [
                "# escreva o seu c\u00f3digo"
            ],
            "execution_count": null,
            "outputs": []
        },
        {
            "cell_type": "markdown",
            "metadata": {},
            "source": [
                "---\n",
                "4. Criar um vetor de inteiros com n elementos e uma fun\u00e7\u00e3o que receba um vetor e duas posi\u00e7\u00f5es `i` e `j`, efetuando a troca dos valores das posi\u00e7\u00f5es `i` e `j` no vetor. Verificar na fun\u00e7\u00e3o se `0<=i<n` e `0<=j<n` antes de realizar a troca."
            ]
        },
        {
            "cell_type": "code",
            "metadata": {},
            "source": [
                "# escreva o seu c\u00f3digo"
            ],
            "execution_count": null,
            "outputs": []
        },
        {
            "cell_type": "markdown",
            "metadata": {},
            "source": [
                "---\n",
                "5.  Criar um vetor de inteiros com n elementos e ordenar os seus valores.\n",
                "\n",
                "Ver simula\u00e7\u00f5es de v\u00e1rios algoritmos de ordena\u00e7\u00e3o: [link](https://www.toptal.com/developers/sorting-algorithms)"
            ]
        },
        {
            "cell_type": "code",
            "metadata": {},
            "source": [
                "# escreva o seu c\u00f3digo"
            ],
            "execution_count": null,
            "outputs": []
        }
    ]
}