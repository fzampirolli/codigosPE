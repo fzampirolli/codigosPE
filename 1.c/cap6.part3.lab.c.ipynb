{
    "nbformat": 4,
    "nbformat_minor": 0,
    "metadata": {
        "colab": {
            "name": "cap6.part3.lab.ipynb",
            "provenance": [
                {
                    "file_id": "120HGhuQUsYqKDvUqyrl3bAJBrlWmHUC8",
                    "timestamp": 1616405504493
                },
                {
                    "file_id": "1IUumSmkO7OKjjjmphpRGVZm9XAQ106g2",
                    "timestamp": 1575381269264
                }
            ],
            "collapsed_sections": []
        },
        "kernelspec": {
            "name": "python3",
            "display_name": "Python 3"
        }
    },
    "cells": [
        {
            "cell_type": "markdown",
            "metadata": {},
            "source": [
                "## Processando a Informa\u00e7\u00e3o: Cap. 6: Matrizes - Pr\u00e1tica 2"
            ]
        },
        {
            "cell_type": "markdown",
            "metadata": {},
            "source": [
                "<img src=\"https://editora.ufabc.edu.br/images/Capa_Processando_Informacao.jpg\" alt=\"Capa\" width=\"150\" align=\"right\">\n",
                "\n",
                "![](\"figs/Capa_Processando_Informacao.jpg\")\n",
                "\n",
                "Este caderno (Notebook) \u00e9 parte complementar *online* do livro **[Processando a Informa\u00e7\u00e3o](https://editora.ufabc.edu.br/matematica-e-ciencias-da-computacao/58-processando-a-informacao): um livro pr\u00e1tico de programa\u00e7\u00e3o independente de linguagem**, que deve ser consultado no caso de d\u00favidas sobre os temas apresentados. \n",
                "\n",
                "> Este conte\u00fado pode ser copiado e alterado livremente e foi inspirado nesse livro. \n"
            ]
        },
        {
            "cell_type": "markdown",
            "metadata": {},
            "source": [
                "### Exerc\u00edcios"
            ]
        },
        {
            "cell_type": "markdown",
            "metadata": {},
            "source": [
                "---\n",
                "1.   Criar uma fun\u00e7\u00e3o/m\u00e9todo para calcular e retornar o determinante de uma matriz `3 x 3` de valores reais recebida como par\u00e2metro."
            ]
        },
        {
            "cell_type": "code",
            "metadata": {},
            "source": [
                "# escreva o seu c\u00f3digo"
            ],
            "execution_count": null,
            "outputs": []
        },
        {
            "cell_type": "markdown",
            "metadata": {},
            "source": [
                "---\n",
                "2. Criar um m\u00e9todo que receba uma matriz qualquer de inteiros e imprima na tela o valor m\u00e1ximo e o valor m\u00ednimo encontrados (n\u00e3o retornando nada).\n",
                "\n",
                "\n",
                "\n",
                "\n"
            ]
        },
        {
            "cell_type": "code",
            "metadata": {},
            "source": [
                "# escreva o seu c\u00f3digo"
            ],
            "execution_count": null,
            "outputs": []
        },
        {
            "cell_type": "markdown",
            "metadata": {},
            "source": [
                "---\n",
                "3.  Criar um m\u00e9todo que receba uma matriz de inteiros de qualquer dimens\u00e3o e retorne um vetor contendo a somat\u00f3ria dos valores contidos nas colunas."
            ]
        },
        {
            "cell_type": "code",
            "metadata": {},
            "source": [
                "# escreva o seu c\u00f3digo"
            ],
            "execution_count": null,
            "outputs": []
        },
        {
            "cell_type": "markdown",
            "metadata": {},
            "source": [
                "---\n",
                "4.Considere: \n",
                "  \n",
                "  * a) Criar um m\u00e9todo que receba uma matriz `m1` de inteiros positivos com `L` linhas e `C` colunas e retorne uma matriz `m2`, de mesma dimens\u00e3o, onde em cada posi\u00e7\u00e3o `[i,j]` seja atribu\u00eddo o c\u00e1lculo dos m\u00e1ximos entre o elemento de `m1` e seus oito vizinhos: \n",
                "\n",
                "| | vizinhan\u00e7a | |\n",
                "|:-------:\t|:-----:\t|:-------:\t|\n",
                "| `[i-1,j-1]` \t| `[i-1,j]` \t| `[i-1,j+1]` \t|\n",
                "| `[i  ,j-1]`  \t|**`[i ,j]`** | `[i  ,j+1]`  \t|\n",
                "| `[i+1,j-1]` \t| `[i+1,j]` \t| `[i+1,j+1]` \t|\n",
                "\n",
                "  * b) Generalize este c\u00f3digo para os `m` vizinhos da `m1` \u00e0 esquerde e \u00e0 direita e os n vizinhos acima e abaixo."
            ]
        },
        {
            "cell_type": "code",
            "metadata": {},
            "source": [
                "# escreva o seu c\u00f3digo"
            ],
            "execution_count": null,
            "outputs": []
        },
        {
            "cell_type": "markdown",
            "metadata": {},
            "source": [
                "---\n",
                "5.  Criar um m\u00e9todo que receba duas matrizes de valores reais e retorne \u00e0 multiplica\u00e7\u00e3o das duas matrizes."
            ]
        },
        {
            "cell_type": "code",
            "metadata": {},
            "source": [
                "# escreva o seu c\u00f3digo"
            ],
            "execution_count": null,
            "outputs": []
        }
    ]
}