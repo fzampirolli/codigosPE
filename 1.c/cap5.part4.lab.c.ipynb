{
    "nbformat": 4,
    "nbformat_minor": 0,
    "metadata": {
        "colab": {
            "name": "cap5.part4.lab.ipynb",
            "provenance": [
                {
                    "file_id": "1fBBywRIbppP10y_SYc4BEwi3rdaneGoo",
                    "timestamp": 1625511998832
                },
                {
                    "file_id": "120HGhuQUsYqKDvUqyrl3bAJBrlWmHUC8",
                    "timestamp": 1616405504493
                },
                {
                    "file_id": "1IUumSmkO7OKjjjmphpRGVZm9XAQ106g2",
                    "timestamp": 1575381269264
                }
            ],
            "collapsed_sections": []
        },
        "kernelspec": {
            "name": "python3",
            "display_name": "Python 3"
        }
    },
    "cells": [
        {
            "cell_type": "markdown",
            "metadata": {},
            "source": [
                "## Processando a Informa\u00e7\u00e3o: Cap. 5: Vetores - Pr\u00e1tica 3"
            ]
        },
        {
            "cell_type": "markdown",
            "metadata": {},
            "source": [
                "<img src=\"https://editora.ufabc.edu.br/images/Capa_Processando_Informacao.jpg\" alt=\"Capa\" width=\"150\" align=\"right\">\n",
                "\n",
                "![](\"figs/Capa_Processando_Informacao.jpg\")\n",
                "\n",
                "Este caderno (Notebook) \u00e9 parte complementar *online* do livro **[Processando a Informa\u00e7\u00e3o](https://editora.ufabc.edu.br/matematica-e-ciencias-da-computacao/58-processando-a-informacao): um livro pr\u00e1tico de programa\u00e7\u00e3o independente de linguagem**, que deve ser consultado no caso de d\u00favidas sobre os temas apresentados. \n",
                "\n",
                "> Este conte\u00fado pode ser copiado e alterado livremente e foi inspirado nesse livro. \n"
            ]
        },
        {
            "cell_type": "markdown",
            "metadata": {},
            "source": [
                "### Exerc\u00edcios\n",
                "\n",
                "Fontes: [ref1](http://www.deinf.ufma.br/~csalles/prog/prog_lista2.pdf), [ref2](http://www.sistemas24horas.com.br/aulas/files_dic1/lista-exercicios-vetores-1.pdf), [ref3](https://fit.faccat.br/~fpereira/apostilas/exerc_resp_alg_mar2007.pdf), [ref4](https://docplayer.com.br/54457072-Laboratorio-de-programacao-a-exercicios-sobre-vetores-e-matrizes.html), [ref5](https://docplayer.com.br/21195395-Exercicios-vetores-e-matrizes.html)"
            ]
        },
        {
            "cell_type": "markdown",
            "metadata": {},
            "source": [
                "---\n",
                "1.  Dado um vetor qualquer com $n$ n\u00fameros inteiros entre 0 e 9, fa\u00e7a um m\u00f3dulo que retorna o n\u00famero que mais se repete."
            ]
        },
        {
            "cell_type": "code",
            "metadata": {},
            "source": [
                "# escreva o seu c\u00f3digo"
            ],
            "execution_count": null,
            "outputs": []
        },
        {
            "cell_type": "markdown",
            "metadata": {},
            "source": [
                "---\n",
                "2. Escreva um m\u00f3dulo que retira todos os n\u00fameros repetidos das primeiras N posi\u00e7\u00f5es de um vetor em ordem crescente, colocando-os em ordem crescente no final do vetor. Exemplo: Para o vetor {1,2,2,3,3,4}, a solu\u00e7\u00e3o \u00e9 {1,2,3,4,2,3}.\n",
                "\n",
                "\n",
                "\n",
                "\n"
            ]
        },
        {
            "cell_type": "code",
            "metadata": {},
            "source": [
                "# escreva o seu c\u00f3digo"
            ],
            "execution_count": null,
            "outputs": []
        },
        {
            "cell_type": "markdown",
            "metadata": {},
            "source": [
                "---\n",
                "3. Escreva um m\u00f3dulo que recebe um vetor l\u00f3gico de 10 posi\u00e7\u00f5es e oferece como resultado o produto da opera\u00e7\u00e3o (((vet[0] E vet[1]) OU vet[2]) E vet[3]) ... e assim por diante."
            ]
        },
        {
            "cell_type": "code",
            "metadata": {},
            "source": [
                "# escreva o seu c\u00f3digo"
            ],
            "execution_count": null,
            "outputs": []
        },
        {
            "cell_type": "markdown",
            "metadata": {},
            "source": [
                "---\n",
                "4. Fa\u00e7a um programa que leia 30 valores do tipo inteiro e armazene-os em um vetor. A seguir, o programa dever\u00e1 informar (1) todos os n\u00fameros pares que existem no vetor; (2) o menor e o maior valor existente no vetor; (3) quantos dos valores do vetor s\u00e3o maiores que a m\u00e9dia desses valores."
            ]
        },
        {
            "cell_type": "code",
            "metadata": {},
            "source": [
                "# escreva o seu c\u00f3digo"
            ],
            "execution_count": null,
            "outputs": []
        },
        {
            "cell_type": "markdown",
            "metadata": {},
            "source": [
                "---\n",
                "5.  Escreva um algoritmo que permita a leitura dos nomes de 10 pessoas e armaze os nomes lidos em um vetor. Ap\u00f3s isto, o algoritmo deve permitir a leitura de mais 1 nome qualquer de pessoa e depois escrever a mensagem ACHEI, se o nome estiver entre os 10 nomes lidos anteriormente (guardados no vetor), ou N\u00c3O ACHEI caso contr\u00e1rio. "
            ]
        },
        {
            "cell_type": "code",
            "metadata": {},
            "source": [
                "# escreva o seu c\u00f3digo"
            ],
            "execution_count": null,
            "outputs": []
        },
        {
            "cell_type": "markdown",
            "metadata": {},
            "source": [
                "---\n",
                "6.  Escreva um algoritmo que permita a leitura das notas de uma turma de 20 alunos. Calcular a m\u00e9dia da turma e contar quantos alunos obtiveram nota acima desta m\u00e9dia calculada. Escrever a m\u00e9dia da turma e o resultado da contagem. "
            ]
        },
        {
            "cell_type": "code",
            "metadata": {},
            "source": [
                "# escreva o seu c\u00f3digo"
            ],
            "execution_count": null,
            "outputs": []
        },
        {
            "cell_type": "markdown",
            "metadata": {},
            "source": [
                "---\n",
                "7.  Ler um vetor Q de 20 posi\u00e7\u00f5es (aceitar somente n\u00fameros positivos). Escrever a seguir o valor do maior (e menor) elemento de Q e a respectiva posi\u00e7\u00e3o que ele ocupa no vetor. "
            ]
        },
        {
            "cell_type": "code",
            "metadata": {},
            "source": [
                "# escreva o seu c\u00f3digo"
            ],
            "execution_count": null,
            "outputs": []
        },
        {
            "cell_type": "markdown",
            "metadata": {},
            "source": [
                "---\n",
                "8.  Fa\u00e7a um algoritmo para ler um valor N qualquer (que ser\u00e1 o tamanho dos vetores). Ap\u00f3s, ler dois vetores A e B (de tamanho N cada um) e depois armazenar em um terceiro vetor Soma a soma dos elementos do vetor A com os do vetor B (respeitando as mesmas posi\u00e7\u00f5es) e escrever o vetor Soma.  "
            ]
        },
        {
            "cell_type": "code",
            "metadata": {},
            "source": [
                "# escreva o seu c\u00f3digo"
            ],
            "execution_count": null,
            "outputs": []
        },
        {
            "cell_type": "markdown",
            "metadata": {},
            "source": [
                "---\n",
                "9.  Fa\u00e7a um algoritmo para ler e armazenar em um vetor a temperatura m\u00e9dia de todos os dias do ano. Calcular e escrever:\n",
                "  -  Menor temperatura do ano\n",
                "  - Maior temperatura do ano\n",
                "  - Temperatura m\u00e9dia anual\n",
                "  - O n\u00famero de dias no ano em que a temperatura foi inferior a m\u00e9dia anual "
            ]
        },
        {
            "cell_type": "code",
            "metadata": {},
            "source": [
                "# escreva o seu c\u00f3digo"
            ],
            "execution_count": null,
            "outputs": []
        },
        {
            "cell_type": "markdown",
            "metadata": {},
            "source": [
                "---\n",
                "10.  Fa\u00e7a um algoritmo para ler 10 n\u00fameros e armazenar em um vetor. Ap\u00f3s isto, o algoritmo deve ordenar os n\u00fameros no vetor em ordem crescente. Depois de ordenar os elementos do vetor em ordem crescente, deve ser lido mais um n\u00famero qualquer e inserir esse novo n\u00famero na posi\u00e7\u00e3o correta, ou seja,\n",
                "mantendo a ordem crescente do vetor. "
            ]
        },
        {
            "cell_type": "code",
            "metadata": {},
            "source": [
                "# escreva o seu c\u00f3digo"
            ],
            "execution_count": null,
            "outputs": []
        },
        {
            "cell_type": "markdown",
            "metadata": {},
            "source": [
                "---\n",
                "11.  Fa\u00e7a um algoritmo para ler um vetor de 20 n\u00fameros. Ap\u00f3s isto, dever\u00e1 ser lido mais um n\u00famero qualquer e verificar se esse n\u00famero existe no vetor ou n\u00e3o. Se existir, o algoritmo deve gerar um novo vetor sem esse n\u00famero. (Considere que n\u00e3o haver\u00e3o n\u00fameros repetidos no vetor). "
            ]
        },
        {
            "cell_type": "code",
            "metadata": {},
            "source": [
                "# escreva o seu c\u00f3digo"
            ],
            "execution_count": null,
            "outputs": []
        },
        {
            "cell_type": "markdown",
            "metadata": {},
            "source": [
                "---\n",
                "12.  Fa\u00e7a um algoritmo para ler dois vetores V1 e V2 de 15 n\u00fameros cada. Calcular e escrever a quantidade de vezes que V1 e V2 possuem os mesmos n\u00fameros e nas mesmas posi\u00e7\u00f5es (tamb\u00e9m, alterar para n\u00e3o ter essa \u00faltima restri\u00e7\u00e3o)."
            ]
        },
        {
            "cell_type": "code",
            "metadata": {},
            "source": [
                "# escreva o seu c\u00f3digo"
            ],
            "execution_count": null,
            "outputs": []
        },
        {
            "cell_type": "markdown",
            "metadata": {},
            "source": [
                "---\n",
                "13.  Fa\u00e7a um programa que leia 2 vetores com 10 elementos cada. Considerando cada vetor   como   sendo   um   conjunto,   crie   um   terceiro   vetor,   que   seja   a   uni\u00e3o   dos   dois primeiros, e um quarto, que seja a intersec\u00e7\u00e3o entre os dois primeiros."
            ]
        },
        {
            "cell_type": "code",
            "metadata": {},
            "source": [
                "# escreva o seu c\u00f3digo"
            ],
            "execution_count": null,
            "outputs": []
        },
        {
            "cell_type": "markdown",
            "metadata": {},
            "source": [
                "---\n",
                "14.  Dado um vetor com n\u00fameros ordenados de forma n\u00e3o decrescente, fa\u00e7a uma fun\u00e7\u00e3o que imprime somente os n\u00fameros que n\u00e3o sejam repetidos."
            ]
        },
        {
            "cell_type": "code",
            "metadata": {},
            "source": [
                "# escreva o seu c\u00f3digo"
            ],
            "execution_count": null,
            "outputs": []
        },
        {
            "cell_type": "markdown",
            "metadata": {},
            "source": [
                "---\n",
                "15.  Fa\u00e7a   uma   fun\u00e7\u00e3o   que   recebe   dois   vetores   de   inteiros,   com   qualquer   n\u00famero   de elementos cada. Ela deve imprimir todos os valores presentes nos dois vetores. Ex: se v1={19, 5, 2, 6} e v2={5, 0, 9, 4, 18, 56} dever\u00e1 ser impresso somente o valor 5."
            ]
        },
        {
            "cell_type": "code",
            "metadata": {},
            "source": [
                "# escreva o seu c\u00f3digo"
            ],
            "execution_count": null,
            "outputs": []
        },
        {
            "cell_type": "markdown",
            "metadata": {},
            "source": [
                "---\n",
                "16.  Fa\u00e7a um programa que dado o vetor unidimensional [2; 4; 35; 50; 23; 17; 9; 12; 27; 5] retorne:  \n",
                "  - maior valor \n",
                "  - m\u00e9dia dos valores \n",
                "  - os valores dispostos em ordem crescente \n",
                "  - sub conjunto de valores primos que est\u00e1 contido no vetor"
            ]
        },
        {
            "cell_type": "code",
            "metadata": {},
            "source": [
                "# escreva o seu c\u00f3digo"
            ],
            "execution_count": null,
            "outputs": []
        },
        {
            "cell_type": "markdown",
            "metadata": {},
            "source": [
                "---\n",
                "17.  Fa\u00e7a um programa que:\n",
                " - leia 7 valores inteiros e os armazene em um vetor. Listar o vetor com as referidasposi\u00e7\u00f5es de armazenamento de cada valor.\n",
                " - ofere\u00e7a uma fun\u00e7\u00e3o de pesquisa onde dado um valor inteiro qualquer de entrada retornar   a   posi\u00e7\u00e3o   deste   valor   dentro   do   vetor,   e   caso   este   valor   n\u00e3o   esteja presente no vetor retornar \u20131. \n",
                " - ofere\u00e7a uma fun\u00e7\u00e3o que troque os valores contido no vetor pela seguinte pol\u00edtica: cada   elemento   i     dentro   do   vetor   ser\u00e1   substitu\u00eddo   pela   soma   de   todos   os   (i-1) elementos mais o elemento i. Por exemplo, dado um vetor [1; 2; 3; 4; 5] ap\u00f3s a aplica\u00e7\u00e3o da fun\u00e7\u00e3o ter\u00edamos esse vetor preenchido com os seguintes valores [1;3; 6; 10; 15]. "
            ]
        },
        {
            "cell_type": "code",
            "metadata": {},
            "source": [
                "# escreva o seu c\u00f3digo"
            ],
            "execution_count": null,
            "outputs": []
        },
        {
            "cell_type": "markdown",
            "metadata": {},
            "source": [
                "---\n",
                "18.  Escrever um programa para ler um vetor de 25 elementos do tipo inteiro e que, ap\u00f3sos valores serem lidos, verifique se existem n\u00fameros repetidos dentro do vetor. Caso exista, dever\u00e3o ser informados quais s\u00e3o estes n\u00fameros e quantas vezes eles foram repetidos."
            ]
        },
        {
            "cell_type": "code",
            "metadata": {},
            "source": [
                "# escreva o seu c\u00f3digo"
            ],
            "execution_count": null,
            "outputs": []
        },
        {
            "cell_type": "markdown",
            "metadata": {},
            "source": [
                "---\n",
                "19.  Escreva um programa em C para ler um vetor de 10 elementos inteiros. Excluir o1 o  elemento do vetor deslocando os elementos subsequentes de uma posi\u00e7\u00e3o parao inicio. Imprimir o vetor ap\u00f3s a retirada do primeiro elemento."
            ]
        },
        {
            "cell_type": "code",
            "metadata": {},
            "source": [
                "# escreva o seu c\u00f3digo"
            ],
            "execution_count": null,
            "outputs": []
        },
        {
            "cell_type": "markdown",
            "metadata": {},
            "source": [
                "---\n",
                "20.  Escreva   um   programa   em   C   para   ler   um   vetor   X   de   10   elementos   e   um   valor   P(aceitar apenas valores entre 0 e 9) que representa a posi\u00e7\u00e3o de um elemento dentrodo vetor X. Imprimir o valor do elemento que ocupa a posi\u00e7\u00e3o informada. Logo ap\u00f3s excluir   esse   elemento   do   vetor   fazendo   com   que   os   elementos   subseq\u00fcentes   (sehouverem) sejam deslocados de 1 posi\u00e7\u00e3o para o inicio. Imprimir o vetor   X ap\u00f3s a exclus\u00e3o ter sido executada."
            ]
        },
        {
            "cell_type": "code",
            "metadata": {},
            "source": [
                "# escreva o seu c\u00f3digo"
            ],
            "execution_count": null,
            "outputs": []
        },
        {
            "cell_type": "markdown",
            "metadata": {},
            "source": [
                "---\n",
                "21.  Fa\u00e7a um programa que receba uma lista com  nomes de  alunos,  as  notas de cada aluno e a nota m\u00ednima para aprova\u00e7\u00e3o na disciplina. O aluno \u00e9 considerado aprovadose  a m\u00e9dia  de  suas  notas  forma  maior  ou  igual  a  nota  m\u00ednima  para  aprova\u00e7\u00e3o.   O programa deve informar uma lista de alunos aprovados e outra de alunos reprovados."
            ]
        },
        {
            "cell_type": "code",
            "metadata": {},
            "source": [
                "# escreva o seu c\u00f3digo"
            ],
            "execution_count": null,
            "outputs": []
        },
        {
            "cell_type": "markdown",
            "metadata": {},
            "source": [
                "---\n",
                "22.  Escreva um programa para ler $n$ palavras. A seguir imprimir as palavras em ordem alfab\u00e9tica."
            ]
        },
        {
            "cell_type": "code",
            "metadata": {},
            "source": [
                "# escreva o seu c\u00f3digo"
            ],
            "execution_count": null,
            "outputs": []
        },
        {
            "cell_type": "markdown",
            "metadata": {},
            "source": [
                "---\n",
                "23.  Escreva um programa para ler uma frase e contar o n\u00famero de ocorr\u00eancias de cada uma das 15 primeiras letras do alfabeto. Imprimir as contagens."
            ]
        },
        {
            "cell_type": "code",
            "metadata": {},
            "source": [
                "# escreva o seu c\u00f3digo"
            ],
            "execution_count": null,
            "outputs": []
        },
        {
            "cell_type": "markdown",
            "metadata": {},
            "source": [
                "---\n",
                "24.  Escreva um programa para ler uma frase e uma letra. A seguir retirar da frase, todas as letras iguais a informada. Imprimir a frase modificada."
            ]
        },
        {
            "cell_type": "code",
            "metadata": {},
            "source": [
                "# escreva o seu c\u00f3digo"
            ],
            "execution_count": null,
            "outputs": []
        },
        {
            "cell_type": "markdown",
            "metadata": {},
            "source": [
                "---\n",
                "25.  Escreva   um   programa  para   ler   uma   frase   e   contar   o   n\u00famero   de   palavras existentes na frase. Considere palavra um conjunto qualquer de caracteres separados por um conjunto qualquer de espa\u00e7os em branco."
            ]
        },
        {
            "cell_type": "code",
            "metadata": {},
            "source": [
                "# escreva o seu c\u00f3digo"
            ],
            "execution_count": null,
            "outputs": []
        },
        {
            "cell_type": "markdown",
            "metadata": {},
            "source": [
                "---\n",
                "26.   Escreva  um  programa  que  leia  n  n\u00fameros  inteiros  no  intervalo  [0,50]  e  os  armazeneem um vetor estaticamente alocado com 100 posi\u00e7\u00f5es.   Preencha um segundo vetor, tamb\u00e9m alocado estaticamente, apenas com os n\u00fameros \u00edmpares do primeiro vetor. Imprima os dois vetores, 10 elementos por linha."
            ]
        },
        {
            "cell_type": "code",
            "metadata": {},
            "source": [
                "# escreva o seu c\u00f3digo"
            ],
            "execution_count": null,
            "outputs": []
        },
        {
            "cell_type": "markdown",
            "metadata": {},
            "source": [
                "---\n",
                "27.   Leia 10 n\u00fameros inteiros e armazene em um vetor v.  Crie dois novos vetores v1 e v2. Copie os valores \u00edmpares de v para v1, e os valores pares de v para v2. Note que cada um dos vetores v1 e v2 t\u00eam no m\u00e1ximo 10 elementos, mas nem todos os elementos s\u00e3o utilizados. No final escreva os elementos UTILIZADOS de v1 e v2."
            ]
        },
        {
            "cell_type": "code",
            "metadata": {},
            "source": [
                "# escreva o seu c\u00f3digo"
            ],
            "execution_count": null,
            "outputs": []
        },
        {
            "cell_type": "markdown",
            "metadata": {},
            "source": [
                "---\n",
                "28.    Fa\u00e7a um programa para ler 10 n\u00fameros DIFERENTES a serem armazenados em um vetor.  Os dados dever\u00e3o ser armazenados no vetor na ordem que forem sendo lidos, sendo que caso o usu\u00e1rio digite um n\u00famero que j\u00e1 foi digitado anteriormente, o programadever\u00e1 pedir para ele digitar outro n\u00famero.  Note que cada valor digitado pelo usu\u00e1rio deve ser pesquisado no vetor, verificando se ele existe entre os n\u00fameros que j\u00e1 foram fornecidos. Exibir na tela o vetor final que foi digitado."
            ]
        },
        {
            "cell_type": "code",
            "metadata": {},
            "source": [
                "# escreva o seu c\u00f3digo"
            ],
            "execution_count": null,
            "outputs": []
        },
        {
            "cell_type": "markdown",
            "metadata": {},
            "source": [
                "---\n",
                "29.   Fa\u00e7a um programa que leia dez conjuntos de dois valores, o primeiro representando o n\u00famero do aluno e o segundo representando a sua altura em metros.  Encontre o aluno mais baixo e o mais alto. Mostre o n\u00famero do aluno mais baixo e do mais alto, juntamente com suas alturas."
            ]
        },
        {
            "cell_type": "code",
            "metadata": {},
            "source": [
                "# escreva o seu c\u00f3digo"
            ],
            "execution_count": null,
            "outputs": []
        },
        {
            "cell_type": "markdown",
            "metadata": {},
            "source": [
                "---\n",
                "30.   Fa\u00e7a um programa que leia dois n\u00fameros a e b (positivos menores que 10000) e:\u000fCrie um vetor onde cada posi\u00e7\u00e3o \u00e9 um algarismo do n\u00famero. A primeira posi\u00e7\u00e3o \u00e9 o algarismo menos significativo;\u000fCrie um vetor que seja a soma de a e b,  mas fa\u00e7a-o usando apenas os vetores constru\u00eddos anteriormente. Dica:  some as posi\u00e7\u00f5es correspondentes.   Se a soma ultrapassar 10,  subtraia 10 do resultado e some 1 \u00e0 pr\u00f3xima posi\u00e7\u00e3o."
            ]
        },
        {
            "cell_type": "code",
            "metadata": {},
            "source": [
                "# escreva o seu c\u00f3digo"
            ],
            "execution_count": null,
            "outputs": []
        },
        {
            "cell_type": "markdown",
            "metadata": {},
            "source": [
                "---\n",
                "31. Fa\u00e7a um programa que leia dois n\u00fameros n e m e:\u000fCrie e leia um vetor de inteiros de n posi\u00e7\u00f5es;\u000fCrie e leia um vetor de inteiros de m posi\u00e7\u00f5es;\u000fCrie e construa um vetor de inteiros que seja a interse\u00e7\u00e3o entre os dois vetores anteriores, ou seja, que cont\u00e9m apenas os n\u00fameros que est\u00e3o em ambos os vetores.Crie e construa um quarto vetor de inteiros que seja a uni\u00e3oo entre os dois vetores anteriores lidos, ou seja, que cont\u00e9m os elementos dos dois vetores."
            ]
        },
        {
            "cell_type": "code",
            "metadata": {},
            "source": [
                "# escreva o seu c\u00f3digo"
            ],
            "execution_count": null,
            "outputs": []
        },
        {
            "cell_type": "markdown",
            "metadata": {},
            "source": [
                "---\n",
                "32.    Fa\u00e7a um programa que receba o nome de $n$ clientes e armazene-os em um vetor. Em um segundo vetor, armazene a quantidade de DVDs locados em 2009 por cada um dos clientes.  Sabe-se que, para cada dez loca\u00e7\u00f5es, o cliente tem direito a uma loca\u00e7\u00e3o gr\u00e1tis. Fa\u00e7a um programa que mostre o nome de todos os clientes, com a quantidade de loca\u00e7\u00f5es gr\u00e1tis a que ele tem direito."
            ]
        },
        {
            "cell_type": "code",
            "metadata": {},
            "source": [
                "# escreva o seu c\u00f3digo"
            ],
            "execution_count": null,
            "outputs": []
        },
        {
            "cell_type": "markdown",
            "metadata": {},
            "source": [
                "---\n",
                "33.   Fa\u00e7a um programa que preencha tr\u00eas vetores com $n$ posi\u00e7\u00f5es cada um: o primeiro vetor, com os nomes dos produtos; o segundo vetor, com os c\u00f3digos dos produtos; e o terceiro vetor; com os pre\u00e7os dos produtos. Mostre um relat\u00f3rio apenas com o nome, o c\u00f3digo, o pre\u00e7o e o novo pre\u00e7o dos produtos que sofrer\u00e3o aumento.  Sabe-se que os produtos que sofrer\u00e3o aumento s\u00e3o aqueles que possuem c\u00f3digo par ou pre\u00e7o superiora R$ 1.000,00. Sabe-se ainda que, para os produtos que satisfizerem \u00e0s duas condi\u00e7\u00f5es anteriores, c\u00f3digo e pre\u00e7o, o aumento ser\u00e1 de 20%; para aqueles que satisfazerem apenas a condi\u00e7\u00e3o de c\u00f3digo, o aumento ser\u00e1 de 15%; e aqueles que satisfazerem apenas a condi\u00e7\u00e3o de pre\u00e7o, o aumento ser\u00e1 de 10%."
            ]
        },
        {
            "cell_type": "code",
            "metadata": {},
            "source": [
                "# escreva o seu c\u00f3digo"
            ],
            "execution_count": null,
            "outputs": []
        },
        {
            "cell_type": "markdown",
            "metadata": {},
            "source": [
                "---\n",
                "34.    Fa\u00e7a  um  vetor  de  tamanho  50  preenchido  com  o  seguinte  valor:  $(i+5i)\\%i$,  sendo  $i$  aposi\u00e7\u00e3o do elemento no vetor, em seguida imprima o vetor na tela."
            ]
        },
        {
            "cell_type": "code",
            "metadata": {},
            "source": [
                "# escreva o seu c\u00f3digo"
            ],
            "execution_count": null,
            "outputs": []
        },
        {
            "cell_type": "markdown",
            "metadata": {},
            "source": [
                "---\n",
                "35. Fa\u00e7a um programa que calcule o desvio padr\u00e3o (STD) de um vetor $v$ contendo $n$ n\u00fameros, ondem $m$ a m\u00e9dia do vetor.\n",
                "\n",
                "$$ STD = \\sqrt{\\frac{1}{n-1} \\sum_{i=0}^{n-1}(v[i]-m)^2} $$"
            ]
        },
        {
            "cell_type": "code",
            "metadata": {},
            "source": [
                "# escreva o seu c\u00f3digo"
            ],
            "execution_count": null,
            "outputs": []
        }
    ]
}