{
    "nbformat": 4,
    "nbformat_minor": 0,
    "metadata": {
        "colab": {
            "provenance": [
                {
                    "file_id": "120HGhuQUsYqKDvUqyrl3bAJBrlWmHUC8",
                    "timestamp": 1616405504493
                },
                {
                    "file_id": "1IUumSmkO7OKjjjmphpRGVZm9XAQ106g2",
                    "timestamp": 1575381269264
                }
            ],
            "collapsed_sections": []
        },
        "kernelspec": {
            "name": "python3",
            "display_name": "Python 3"
        }
    },
    "cells": [
        {
            "cell_type": "markdown",
            "metadata": {},
            "source": [
                "## Processando a Informa\u00e7\u00e3o: Cap. 2: Organiza\u00e7\u00e3o de C\u00f3digo - Pr\u00e1tica 1\n",
                "\n",
                "\n",
                "\n",
                "\n",
                "\n"
            ]
        },
        {
            "cell_type": "markdown",
            "metadata": {},
            "source": [
                "<img src=\"https://editora.ufabc.edu.br/images/Capa_Processando_Informacao.jpg\" alt=\"Capa\" width=\"150\" align=\"right\">\n",
                "\n",
                "![](\"figs/Capa_Processando_Informacao.jpg\")\n",
                "\n",
                "Este caderno (Notebook) \u00e9 parte complementar *online* do livro **[Processando a Informa\u00e7\u00e3o](https://editora.ufabc.edu.br/matematica-e-ciencias-da-computacao/58-processando-a-informacao): um livro pr\u00e1tico de programa\u00e7\u00e3o independente de linguagem**, que deve ser consultado no caso de d\u00favidas sobre os temas apresentados. \n",
                "\n",
                "> Este conte\u00fado pode ser copiado e alterado livremente e foi inspirado nesse livro. \n"
            ]
        },
        {
            "cell_type": "markdown",
            "metadata": {},
            "source": [
                "### Exerc\u00edcios"
            ]
        },
        {
            "cell_type": "markdown",
            "source": [
                "Organizar cada quest\u00e3o em partes:\n",
                "\n",
                " * **ENTRADA DE DADOS   $\\Rightarrow$   PROCESSAMENTO DA INFORMA\u00c7\u00c3O   $\\Rightarrow$   SA\u00cdDA**\n",
                "\n",
                "Seguindo o pseudoc\u00f3digo a seguir:"
            ],
            "metadata": {}
        },
        {
            "cell_type": "markdown",
            "metadata": {},
            "source": [
                "```\n",
                "# MINHA(S) FUN\u00c7\u00c3O(\u00d5ES)\n",
                "fun\u00e7\u00e3o delta(recebe: real a, real b, real c) retorna real d {\n",
                "     d = b2 \u2013 4ac\n",
                "     retorne d\n",
                "}\n",
                "\n",
                "principal {\n",
                "  # ENTRADAS\n",
                "  a = 5\n",
                "  b = -2\n",
                "  c = 4\n",
                "\n",
                "  # PROCESSAMENTO\n",
                "  real valor = delta(a, b, c) # AQUI EST\u00c1 A CHAMADA DA FUN\u00c7\u00c3O\n",
                "  \n",
                "  # SA\u00cdDA\n",
                "  escreva(\u201cO delta de ax2 +bx + c \u00e9 \u201d + valor)\n",
                "}\n",
                "```\n"
            ]
        },
        {
            "cell_type": "markdown",
            "metadata": {},
            "source": [
                "---\n",
                "1.   Crie um m\u00e9todo que receba um valor inteiro qualquer e retorne 0 se este valor for par ou 1 se for \u00edmpar (Dica: utilizar o operador resto %). Teste em um programa principal v\u00e1rias chamadas deste m\u00e9todo."
            ]
        },
        {
            "cell_type": "markdown",
            "metadata": {},
            "source": [
                "---\n",
                "2.   Descreva o procedimento ou fun\u00e7\u00e3o para receber um ponto em coordenadas cartesianas (X, Y) e retornar a dist\u00e2ncia euclidiana at\u00e9 a origem (0, 0). Teste em um programa principal v\u00e1rias chamadas deste m\u00e9todo."
            ]
        },
        {
            "cell_type": "markdown",
            "metadata": {},
            "source": [
                "---\n",
                "3.   Crie um m\u00e9todo para calcular o \u00e2ngulo formado entre um par de pontos X, Y, e o eixo x no plano cartesiano. Teste em um programa principal v\u00e1rias chamadas deste m\u00e9todo."
            ]
        },
        {
            "cell_type": "markdown",
            "metadata": {},
            "source": [
                "---\n",
                "4.   Crie um m\u00e9todo para calcular o \u00e2ngulo formado entre um par de pontos X1, Y1 e X2, Y2 e o eixo x no plano cartesiano. Teste em um programa principal v\u00e1rias chamadas deste m\u00e9todo."
            ]
        },
        {
            "cell_type": "markdown",
            "metadata": {},
            "source": [
                "---\n",
                "5.   Crie um programa com vari\u00e1veis globais de um ret\u00e2ngulo para base, altura e \u00e1rea. Crie no mesmo programa fun\u00e7\u00f5es para calcular cada um dos 3 valores a partir dos outros 2: `calcula_base()`, `calcula_altura()` e `calcula_area()`. Teste em um programa principal v\u00e1rias chamadas deste m\u00e9todo."
            ]
        }
    ]
}