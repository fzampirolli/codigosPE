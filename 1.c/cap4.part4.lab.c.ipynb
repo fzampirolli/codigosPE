{
    "nbformat": 4,
    "nbformat_minor": 0,
    "metadata": {
        "colab": {
            "name": "cap4.part4.lab.ipynb",
            "provenance": [
                {
                    "file_id": "120HGhuQUsYqKDvUqyrl3bAJBrlWmHUC8",
                    "timestamp": 1616405504493
                },
                {
                    "file_id": "1IUumSmkO7OKjjjmphpRGVZm9XAQ106g2",
                    "timestamp": 1575381269264
                }
            ],
            "collapsed_sections": []
        },
        "kernelspec": {
            "name": "python3",
            "display_name": "Python 3"
        }
    },
    "cells": [
        {
            "cell_type": "markdown",
            "metadata": {},
            "source": [
                "## Processando a Informa\u00e7\u00e3o: Cap. 4: Estruturas de Repeti\u00e7\u00e3o (La\u00e7os) - Pr\u00e1tica 3"
            ]
        },
        {
            "cell_type": "markdown",
            "metadata": {},
            "source": [
                "<img src=\"https://editora.ufabc.edu.br/images/Capa_Processando_Informacao.jpg\" alt=\"Capa\" width=\"150\" align=\"right\">\n",
                "\n",
                "![](\"figs/Capa_Processando_Informacao.jpg\")\n",
                "\n",
                "Este caderno (Notebook) \u00e9 parte complementar *online* do livro **[Processando a Informa\u00e7\u00e3o](https://editora.ufabc.edu.br/matematica-e-ciencias-da-computacao/58-processando-a-informacao): um livro pr\u00e1tico de programa\u00e7\u00e3o independente de linguagem**, que deve ser consultado no caso de d\u00favidas sobre os temas apresentados. \n",
                "\n",
                "> Este conte\u00fado pode ser copiado e alterado livremente e foi inspirado nesse livro. \n"
            ]
        },
        {
            "cell_type": "markdown",
            "metadata": {},
            "source": [
                "### Exerc\u00edcios\n",
                "\n",
                "Fontes: [ref1](https://docente.ifrn.edu.br/jonathanpereira/disciplinas/algoritmos/estruturas-de-repeticao/view); [ref2](https://www.inf.pucrs.br/~pinho/LaproI/Exercicios/Repeticao/Lista1.htm)"
            ]
        },
        {
            "cell_type": "markdown",
            "metadata": {},
            "source": [
                "---\n",
                "1.   Escreva um algoritmo que solicite que o usu\u00e1rio entre com valores inteiros positivos quaisquer. A condi\u00e7\u00e3o de parada \u00e9 digitar um n\u00famero negativo ($<0$). Ao final imprima a quantidade de n\u00fameros digitados, o somat\u00f3rio dos valores digitados, e a m\u00e9dia aritm\u00e9tica do somat\u00f3rio."
            ]
        },
        {
            "cell_type": "code",
            "metadata": {},
            "source": [
                "# escreva o seu c\u00f3digo"
            ],
            "execution_count": null,
            "outputs": []
        },
        {
            "cell_type": "markdown",
            "metadata": {},
            "source": [
                "---\n",
                "2.  Elabore um algoritmo para fazer c\u00e1lculo de potencia\u00e7\u00e3o. Ou seja, $x^y$. Exemplo: 3^4 = 3 x 3 x 3 x 3. Seu algoritmo dever\u00e1 solicitar que o usu\u00e1rio entre com o valor da base (x) e do expoente (y) e\n",
                "apresentar o resultado do c\u00e1lculo sem utilizar os operadores ** ou ^. Para resolver o problema utilize\n",
                "estrutura de repeti\u00e7\u00e3o. \n",
                "\n",
                "\n",
                "\n",
                "\n"
            ]
        },
        {
            "cell_type": "code",
            "metadata": {},
            "source": [
                "# escreva o seu c\u00f3digo"
            ],
            "execution_count": null,
            "outputs": []
        },
        {
            "cell_type": "markdown",
            "metadata": {},
            "source": [
                "---\n",
                "3.  Escreva um algoritmo que calcule a m\u00e9dia da seguinte seq\u00fc\u00eancia num\u00e9rica a seguir: $1/2 + 1/3 + 1/4 + 1/5 + 1/6 + \\cdots + 1/50$. Feito isto, o algoritmo dever\u00e1 apresentar uma lista contendo todos os n\u00fameros da seq\u00fcencia que est\u00e3o acima da m\u00e9dia calculada. "
            ]
        },
        {
            "cell_type": "code",
            "metadata": {},
            "source": [
                "# escreva o seu c\u00f3digo"
            ],
            "execution_count": null,
            "outputs": []
        },
        {
            "cell_type": "markdown",
            "metadata": {},
            "source": [
                "---\n",
                "4. Apresente o que ser\u00e1 impresso na tela do computador pelos algoritmos a seguir: \n",
                "\n",
                "a) EXEMPLO\n",
                "\n",
                "```\n",
                "in\u00edcio\n",
                " declare J, I, X : inteiro\n",
                " J \u2190 100\n",
                " X \u2190 3\n",
                " J \u2190 J + 40\n",
                " I \u2190 5 ^ X * 4\n",
                " enquanto (X >= 5) ent\u00e3o\n",
                "  J \u2190 J \u2013 15\n",
                "  X \u2190 X + 1\n",
                "  I \u2190 I + X - J\n",
                " fim enquanto\n",
                " escreva J, I, X\n",
                "fim \n",
                "```\n"
            ]
        },
        {
            "cell_type": "markdown",
            "metadata": {},
            "source": [
                "#### Resposta:\n",
                "\n",
                "| J \t| X \t| I \t|\n",
                "|:-:\t|:-:\t|:-:\t|\n",
                "| 100 |   \t|   \t|\n",
                "|   \t|  3\t|   \t|\n",
                "| 140 |   \t|   \t|\n",
                "|   \t|   \t| 500 |\n",
                "\n",
                "sa\u00edda: 140, 500, 3"
            ]
        },
        {
            "cell_type": "markdown",
            "metadata": {},
            "source": [
                "b)\n",
                "\n",
                "```\n",
                "in\u00edcio\n",
                " declare J, I, X : inteiro\n",
                " J \u2190 100\n",
                " X \u2190 3\n",
                " J \u2190 J + 40\n",
                " I \u2190 5 ^ X * 4\n",
                " repita\n",
                "  J \u2190 J \u2013 15\n",
                "  X \u2190 X + 1\n",
                "  I \u2190 I + X - J\n",
                " enquanto (X >= 5)\n",
                " escreva J, I, X\n",
                "fim\n",
                "```"
            ]
        },
        {
            "cell_type": "markdown",
            "metadata": {},
            "source": [
                "#### Sua Resposta:\n",
                "\n",
                "| J \t| X \t| I \t|\n",
                "|:-:\t|:-:\t|:-:\t|\n",
                "|     |   \t|   \t|"
            ]
        },
        {
            "cell_type": "markdown",
            "metadata": {},
            "source": [
                "c)\n",
                "\n",
                "```\n",
                "in\u00edcio\n",
                " declare J, I, X : inteiro\n",
                " J \u2190 100\n",
                " X \u2190 3\n",
                " J \u2190 J + 40\n",
                " I \u2190 5 ^ X * 4\n",
                " enquanto (X <= 5) fa\u00e7a\n",
                "  J \u2190 J \u2013 15\n",
                "  X \u2190 X + 1\n",
                "  I \u2190 I + X - J\n",
                " fim enquanto\n",
                " escreva J, I, X\n",
                "fim \n",
                "```"
            ]
        },
        {
            "cell_type": "markdown",
            "metadata": {},
            "source": [
                "#### Sua Resposta:\n",
                "\n",
                "| J \t| X \t| I \t|\n",
                "|:-:\t|:-:\t|:-:\t|\n",
                "|     |   \t|   \t|"
            ]
        },
        {
            "cell_type": "markdown",
            "metadata": {},
            "source": [
                "d)\n",
                "\n",
                "```\n",
                "in\u00edcio\n",
                " declare M, N, Y : inteiro\n",
                " M \u2190 10\n",
                " Y \u2190 1\n",
                " para N \u2190 1 at\u00e9 3 passo 1 fa\u00e7a\n",
                "  M \u2190 M \u2013 8\n",
                "  Y \u2190 Y * 3\n",
                " fim para\n",
                " escreva M, Y, N\n",
                "fim \n",
                "```"
            ]
        },
        {
            "cell_type": "markdown",
            "metadata": {},
            "source": [
                "#### Sua Resposta:\n",
                "\n",
                "| M \t| N \t| Y \t|\n",
                "|:-:\t|:-:\t|:-:\t|\n",
                "|     |   \t|   \t|"
            ]
        },
        {
            "cell_type": "markdown",
            "metadata": {},
            "source": [
                "e)\n",
                "\n",
                "```\n",
                "in\u00edcio\n",
                " declare P, Q : inteiro\n",
                " declare VALOR : real\n",
                " P \u2190 5\n",
                " Q \u2190 P - 8\n",
                " VALOR \u2190 18\n",
                " repita\n",
                "  VALOR \u2190 VALOR + (VALOR * P + Q)\n",
                "  P \u2190 P + 2\n",
                "  Q \u2190 Q + 1\n",
                " enquanto (Q < 0)\n",
                " escreva VALOR\n",
                "fim \n",
                "```"
            ]
        },
        {
            "cell_type": "markdown",
            "metadata": {},
            "source": [
                "#### Sua Resposta:\n",
                "\n",
                "| P \t| Q \t| Valor \t|\n",
                "|:-:\t|:-:\t|:-:\t|\n",
                "|     |   \t|   \t|"
            ]
        },
        {
            "cell_type": "markdown",
            "metadata": {},
            "source": [
                "f)\n",
                "\n",
                "```\n",
                "in\u00edcio\n",
                " declare CONT : inteiro\n",
                " declare VALOR : real\n",
                " declare RESP : caracter\n",
                " CONT \u2190 0\n",
                " VALOR \u2190 0\n",
                " RESP \u2190 \u2018s\u2019\n",
                " enquanto (RESP = \u2018s\u2019) fa\u00e7a\n",
                "  VALOR \u2190 VALOR + 139\n",
                "  CONT \u2190 CONT + 1\n",
                "  se (CONT > 3) ent\u00e3o\n",
                "   RESP \u2190 \u2018n\u2019\n",
                "  fim se\n",
                " fim enquanto\n",
                " escreva VALOR\n",
                "fim\n",
                "```"
            ]
        },
        {
            "cell_type": "markdown",
            "metadata": {},
            "source": [
                "#### Sua Resposta:\n",
                "\n",
                "| X \t| X \t| X \t|\n",
                "|:-:\t|:-:\t|:-:\t|\n",
                "|     |   \t|   \t|"
            ]
        },
        {
            "cell_type": "markdown",
            "metadata": {},
            "source": [
                "g)\n",
                "\n",
                "```\n",
                "in\u00edcio\n",
                " declare N : inteiro\n",
                " declare SOMA : real\n",
                " SOMA \u2190 0\n",
                " para N \u2190 1 at\u00e9 5 passo 1 fa\u00e7a\n",
                "  SOMA \u2190 SOMA + 1 / N\n",
                " fim para\n",
                " escreva SOMA\n",
                "fim \n",
                "```"
            ]
        },
        {
            "cell_type": "markdown",
            "metadata": {},
            "source": [
                "#### Sua Resposta:\n",
                "\n",
                "| X \t| X \t| X \t|\n",
                "|:-:\t|:-:\t|:-:\t|\n",
                "|     |   \t|   \t|"
            ]
        },
        {
            "cell_type": "markdown",
            "metadata": {},
            "source": [
                "h)\n",
                "\n",
                "```\n",
                "in\u00edcio\n",
                " declare N : inteiro\n",
                " N \u2190 0\n",
                " enquanto (N < 5) fa\u00e7a\n",
                "  se (N = 0) ent\u00e3o\n",
                "   escreva \u201cEsse n\u00famero n\u00e3o existe: 1/0\u201d\n",
                "  sen\u00e3o\n",
                "  escreva 1 / N\n",
                "  fim se\n",
                "  N \u2190 N + 1\n",
                " fim enquanto\n",
                "fim \n",
                "```"
            ]
        },
        {
            "cell_type": "markdown",
            "metadata": {},
            "source": [
                "#### Sua Resposta:\n",
                "\n",
                "| X \t| X \t| X \t|\n",
                "|:-:\t|:-:\t|:-:\t|\n",
                "|     |   \t|   \t|"
            ]
        },
        {
            "cell_type": "markdown",
            "metadata": {},
            "source": [
                "---\n",
                "5.  A prefeitura de uma cidade fez uma pesquisa entre seus habitantes, coletando dados sobre o sal\u00e1rio e n\u00famero de filhos. A prefeitura deseja saber:  \n",
                "\n",
                "  > a) m\u00e9dia do sal\u00e1rio da popula\u00e7\u00e3o;\n",
                "\n",
                "  > b) m\u00e9dia do n\u00famero de filhos;\n",
                "\n",
                "  > c) maior sal\u00e1rio;\n",
                "\n",
                "  > d) percentual de pessoas com sal\u00e1rio at\u00e9 R$10000,00.\n",
                "\n",
                "O final da leitura de dados se dar\u00e1 com a entrada de um sal\u00e1rio negativo. (Use o comando ENQUANTO-FA\u00c7A)  "
            ]
        },
        {
            "cell_type": "code",
            "metadata": {},
            "source": [
                "# escreva o seu c\u00f3digo"
            ],
            "execution_count": null,
            "outputs": []
        },
        {
            "cell_type": "markdown",
            "metadata": {},
            "source": [
                "---\n",
                "6.  Escreva um algoritmo que leia o c\u00f3digo de um aluno e suas tr\u00eas notas. Calcule a m\u00e9dia ponderada do aluno, considerando que o peso para a maior nota seja 4 e para as duas restantes, 3. Mostre o c\u00f3digo do aluno, suas tr\u00eas notas, a m\u00e9dia calculada e uma mensagem \"APROVADO\" se a m\u00e9dia for maior ou igual a 5 e \"REPROVADO\" se a m\u00e9dia for menor que 5. Repita a opera\u00e7\u00e3o at\u00e9 que o c\u00f3digo lido seja negativo."
            ]
        },
        {
            "cell_type": "code",
            "metadata": {},
            "source": [
                "# escreva o seu c\u00f3digo"
            ],
            "execution_count": null,
            "outputs": []
        },
        {
            "cell_type": "markdown",
            "metadata": {},
            "source": [
                "---\n",
                "7.  Escrever um algoritmo que l\u00ea um conjunto n\u00e3o determinado de valores, um de cada vez, e escreve uma tabela com cabe\u00e7alho, que deve ser repetido a cada 20 linhas. A tabela conter\u00e1 o valor lido, seu quadrado, seu cubo e sua raiz quadrada."
            ]
        },
        {
            "cell_type": "code",
            "metadata": {},
            "source": [
                "# escreva o seu c\u00f3digo"
            ],
            "execution_count": null,
            "outputs": []
        },
        {
            "cell_type": "markdown",
            "metadata": {},
            "source": [
                "---\n",
                "8.  Escrever um algoritmo que l\u00ea um n\u00famero n\u00e3o determinado de pares de valores m, n, todos inteiros e positivos, um par de cada vez, e calcula e escreve a soma dos n inteiros consecutivos a partir de m inclusive."
            ]
        },
        {
            "cell_type": "code",
            "metadata": {},
            "source": [
                "# escreva o seu c\u00f3digo"
            ],
            "execution_count": null,
            "outputs": []
        },
        {
            "cell_type": "markdown",
            "metadata": {},
            "source": [
                "---\n",
                "9.  Escrever um algoritmo que l\u00ea um n\u00famero n\u00e3o determinado de valores para m, todos inteiros e positivos, um de cada vez. Se m for par, verificar quantos divisores possui e escrever esta informa\u00e7\u00e3o. Se m for \u00edmpar e menor do que 10 calcular e escrever o fatorial de m. Se m for \u00edmpar e maior ou igual a 10 calcular e escrever a soma dos inteiros de 1 at\u00e9 m."
            ]
        },
        {
            "cell_type": "code",
            "metadata": {},
            "source": [
                "# escreva o seu c\u00f3digo"
            ],
            "execution_count": null,
            "outputs": []
        },
        {
            "cell_type": "markdown",
            "metadata": {},
            "source": [
                "---\n",
                "10.  Fa\u00e7a um algoritmo que leia uma quantidade n\u00e3o determinada de n\u00fameros positivos. Calcule a quantidade de n\u00fameros pares e \u00edmpares, a m\u00e9dia de valores pares e a m\u00e9dia geral dos n\u00fameros lidos. O n\u00famero que encerrar\u00e1 a leitura ser\u00e1 zero."
            ]
        },
        {
            "cell_type": "code",
            "metadata": {},
            "source": [
                "# escreva o seu c\u00f3digo"
            ],
            "execution_count": null,
            "outputs": []
        },
        {
            "cell_type": "markdown",
            "metadata": {},
            "source": [
                "---\n",
                "11.  Foi realizada uma pesquisa de algumas caracter\u00edsticas f\u00edsicas da popula\u00e7\u00e3o de um certa regi\u00e3o. Foram entrevistadas 500 pessoas e coletados os seguintes dados:  \n",
                "\n",
                "  a) sexo: M (masculino) e F (feminino)\n",
                "\n",
                "  b) cor dos olhos: A (azuis), V (verdes) e C (castanhos)\n",
                "\n",
                "  c) cor dos cabelos: L (louros), C (castanhos) e P (pretos)\n",
                "\n",
                "  d) idade\n",
                "\n",
                "Deseja-se saber:\n",
                "\n",
                "a maior idade do grupo\n",
                "a quantidade de indiv\u00edduos do sexo feminino, cuja idade est\u00e1 entre 18 e 35 anos e que tenham olhos verdes e cabelos louros. "
            ]
        },
        {
            "cell_type": "code",
            "metadata": {},
            "source": [
                "# escreva o seu c\u00f3digo"
            ],
            "execution_count": null,
            "outputs": []
        },
        {
            "cell_type": "markdown",
            "metadata": {},
            "source": [
                "---\n",
                "12.  Foi feita uma estat\u00edstica nas 200 principais cidades brasileiras para coletar dados sobre acidentes de tr\u00e2nsito. Foram obtidos os seguintes dados:  \n",
                "\n",
                "  - c\u00f3digo da cidade\n",
                "\n",
                "  - estado (RS, SC, PR, SP, RJ, ...)\n",
                "\n",
                "  - n\u00famero de ve\u00edculos de passeio (em 1992)\n",
                "\n",
                "  - n\u00famero de acidentes de tr\u00e2nsito com v\u00edtimas (em 1992)\n",
                "\n",
                "Deseja-se saber:\n",
                "\n",
                "  a) qual o maior e o menor \u00edndice de acidentes de tr\u00e2nsito e a que cidades pertencem\n",
                "\n",
                "  b) qual a m\u00e9dia de ve\u00edculos nas cidades brasileiras\n",
                "\n",
                "  c) qual a m\u00e9dia de acidentes com v\u00edtimas entre as cidades do Rio Grande do Sul."
            ]
        },
        {
            "cell_type": "code",
            "metadata": {},
            "source": [
                "# escreva o seu c\u00f3digo"
            ],
            "execution_count": null,
            "outputs": []
        },
        {
            "cell_type": "markdown",
            "metadata": {},
            "source": [
                "---\n",
                "13.  Uma loja tem 150 clientes cadastrados e deseja mandar uma correspond\u00eancia a cada um deles anunciando um b\u00f4nus especial. Escreva um algoritmo que leia o nome do cliente e o valor das suas compras no ano passado e calcule um b\u00f4nus de 10% se o valor das compras for menor que 500.000 e de15 %, caso contr\u00e1rio."
            ]
        },
        {
            "cell_type": "code",
            "metadata": {},
            "source": [
                "# escreva o seu c\u00f3digo"
            ],
            "execution_count": null,
            "outputs": []
        },
        {
            "cell_type": "markdown",
            "metadata": {},
            "source": [
                "---\n",
                "14.  Fa\u00e7a um algoritmo que mostre os conceitos finais dos alunos de uma classe de 75 alunos, considerando (use o comando CASO):  \n",
                "\n",
                "  a) os dados de cada aluno (n\u00famero de matr\u00edcula e nota num\u00e9rica final) ser\u00e3o fornecidos pelo usu\u00e1rio\n",
                "\n",
                "  b) a tabela de conceitos segue abaixo:\n",
                "\n",
                "\n",
                "|      Nota     \t| Conceito \t|\n",
                "|:-------------:\t|:--------:\t|\n",
                "|  de 0,0 a 4,9 \t|     D    \t|\n",
                "|  de 5,0 a 6,9 \t|     C    \t|\n",
                "|  de 7,0 a 8,9 \t|     B    \t|\n",
                "| de 9,0 a 10,0 \t|     A    \t|"
            ]
        },
        {
            "cell_type": "code",
            "metadata": {},
            "source": [
                "# escreva o seu c\u00f3digo"
            ],
            "execution_count": null,
            "outputs": []
        }
    ]
}