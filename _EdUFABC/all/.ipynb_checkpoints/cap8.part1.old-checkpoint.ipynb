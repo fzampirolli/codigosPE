{
 "cells": [
  {
   "cell_type": "markdown",
   "metadata": {
    "id": "5j36MRYYco49"
   },
   "source": [
    "# Processando a Informação: Cap. 8: Ponteiros\n",
    "\n",
    "\n",
    "\n",
    "\n"
   ]
  },
  {
   "cell_type": "markdown",
   "metadata": {
    "id": "U1noRzFKiXsl"
   },
   "source": [
    "<img src=\"https://editora.ufabc.edu.br/images/Capa_Processando_Informacao.jpg\" alt=\"Capa\" width=\"150\" align=\"right\">\n",
    "\n",
    "![](\"figs/Capa_Processando_Informacao.jpg\")\n",
    "\n",
    "Este caderno (Notebook em CONSTRUÇÃO) é parte complementar *online* do livro **[Processando a Informação](https://editora.ufabc.edu.br/matematica-e-ciencias-da-computacao/58-processando-a-informacao): um livro prático de programação independente de linguagem**, que deve ser consultado no caso de dúvidas sobre os temas apresentados. \n",
    "\n",
    "> Este conteúdo pode ser copiado e alterado livremente e foi inspirado nesse livro. \n",
    "\n",
    "> O conteúdo deste capítulo foi inspirado em:\n",
    "* Notas do prof. Paulo Feofiloff: [[1](https://www.ime.usp.br/~pf/algoritmos/aulas/pont.html)]; [[2](https://www.ime.usp.br/~pf/algoritmos/aulas/aloca.html)]; [[3](https://www.ime.usp.br/~pf/algoritmos/aulas/lista.html)].\n",
    "* Notas de aula de professores da UFABC, em especial, dos professores Luiz Rozante e Wagner Botelho.\n",
    "* Para mais detalhes de tipos de alocação de memória, ver [[ref](https://www.inf.ufpr.br/roberto/ci067/10_aloc.html)].\n",
    "\n"
   ]
  },
  {
   "cell_type": "markdown",
   "metadata": {
    "id": "p8O7jQFc1OJB"
   },
   "source": [
    "* A *alocação estática* ocorre em *tempo de compilação* a depender a linguagem de programação escolhida. Por exemplo, no exemplo a seguir, o vetor `v` é criado contendo 3 elementos inteiros. Não é possível incluir um quarto elemento nesse vetor quando executamos o progroma (ou seja, em *tempo de execução*). \n",
    "* Ao criar vetores ou matrizes, estamos criando ponteiros para o primeiro elemento dessas estruturas. Por exemplo,\n",
    "\n",
    "```\n",
    "  int v[3] = { 5,6,7 };\n",
    "  int* p1;\n",
    "  p1 = v; // observe que aqui não precisa usar &v\n",
    "  for (int i = 0; i < 3; i++)\n",
    "    printf(\"%d %d %d\\n\", *(p1 + i), p1[i], v[i]); // *(p1+i) = p1[i] = v[i]\n",
    "```\n",
    "\n",
    "* Assim, nesse exemplo é possível fazer operações de ponteiros (`p1 + i`) para acessar os endereços `p1, p1+1, p1+2,` $\\cdots $\n",
    "\n",
    "* Para a variável ponteiro do tipo *char*, `char *p` ocupa um *byte*. Para *int* são 4 *bytes* e para *double* são 8 *bytes*, a depender da arquitetura do computador. \n",
    "\n",
    "* Para saber a quantidade de *bytes* de uma variável/tipo, usar a função `sizeof`. \n",
    "\n",
    "* Por exemplo, para uma variável do tipo `double`, basta fazer `sizeof (double)`, ou `sizeof(p1)`, onde `p1` foi definido no exemplo anterior.\n",
    "\n",
    "* Também é possível calcular o tamanho de um vetor alocado estaticamente. Para o exemplo anterior, basta fazer: `sizeof(v) / sizeof(int)`. \n",
    "\n",
    "* Esse cálculo é útil para saber o tamanho de um *array* porém tem algumas restriçoes, ver próxima seção.\n",
    "\n",
    "\n"
   ]
  },
  {
   "cell_type": "code",
   "execution_count": null,
   "metadata": {},
   "outputs": [],
   "source": []
  },
  {
   "cell_type": "markdown",
   "metadata": {
    "id": "A2JT7Cvp1XcD"
   },
   "source": [
    "## Revisão do capítulo anterior (Struct)"
   ]
  },
  {
   "cell_type": "markdown",
   "metadata": {
    "id": "xb3iwfIw1XcE"
   },
   "source": [
    "* Introdução\n",
    "* Paradigma Estruturado\n",
    "* Paradigma Orientado a Objetos\n",
    "* Tipos de dados\n",
    "* Arquivos\n",
    "* Revisão deste capítulo\n",
    "* Exercícios"
   ]
  }
 ],
 "metadata": {
  "colab": {
   "collapsed_sections": [],
   "provenance": [
    {
     "file_id": "1XFG7GfvJtu0VOT11brQGo-rrBF8h8QLH",
     "timestamp": 1665261290764
    },
    {
     "file_id": "120HGhuQUsYqKDvUqyrl3bAJBrlWmHUC8",
     "timestamp": 1616405504493
    },
    {
     "file_id": "1IUumSmkO7OKjjjmphpRGVZm9XAQ106g2",
     "timestamp": 1575381269264
    }
   ],
   "toc_visible": true
  },
  "kernelspec": {
   "display_name": "Python 3 (ipykernel)",
   "language": "python",
   "name": "python3"
  },
  "language_info": {
   "codemirror_mode": {
    "name": "ipython",
    "version": 3
   },
   "file_extension": ".py",
   "mimetype": "text/x-python",
   "name": "python",
   "nbconvert_exporter": "python",
   "pygments_lexer": "ipython3",
   "version": "3.9.7"
  }
 },
 "nbformat": 4,
 "nbformat_minor": 1
}
