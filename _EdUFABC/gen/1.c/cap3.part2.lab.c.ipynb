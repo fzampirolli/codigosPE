{
    "nbformat": 4,
    "nbformat_minor": 0,
    "metadata": {
        "colab": {
            "provenance": [
                {
                    "file_id": "120HGhuQUsYqKDvUqyrl3bAJBrlWmHUC8",
                    "timestamp": 1616405504493
                },
                {
                    "file_id": "1IUumSmkO7OKjjjmphpRGVZm9XAQ106g2",
                    "timestamp": 1575381269264
                }
            ],
            "collapsed_sections": [],
            "toc_visible": true
        },
        "kernelspec": {
            "name": "python3",
            "display_name": "Python 3"
        }
    },
    "cells": [
        {
            "cell_type": "markdown",
            "metadata": {},
            "source": [
                "## Processando a Informa\u00e7\u00e3o: Cap. 3: Desvios Condicionais - Pr\u00e1tica 1"
            ]
        },
        {
            "cell_type": "markdown",
            "metadata": {},
            "source": [
                "<img src=\"https://editora.ufabc.edu.br/images/Capa_Processando_Informacao.jpg\" alt=\"Capa\" width=\"150\" align=\"right\">\n",
                "\n",
                "![](\"figs/Capa_Processando_Informacao.jpg\")\n",
                "\n",
                "Este caderno (Notebook) \u00e9 parte complementar *online* do livro **[Processando a Informa\u00e7\u00e3o](https://editora.ufabc.edu.br/matematica-e-ciencias-da-computacao/58-processando-a-informacao): um livro pr\u00e1tico de programa\u00e7\u00e3o independente de linguagem**, que deve ser consultado no caso de d\u00favidas sobre os temas apresentados. \n",
                "\n",
                "> Este conte\u00fado pode ser copiado e alterado livremente e foi inspirado nesse livro. \n"
            ]
        },
        {
            "cell_type": "markdown",
            "metadata": {},
            "source": [
                "### Exerc\u00edcios"
            ]
        },
        {
            "cell_type": "markdown",
            "metadata": {},
            "source": [
                "---\n",
                "1.   Crie um m\u00e9todo com apenas condicionais e o operador resto (%) para: \n",
                " * Determinar se um n\u00famero entrado pelo teclado \u00e9 par ou \u00edmpar, exibindo a mensagem apropriada na tela;  \n",
                " * Modifique o m\u00e9todo anterior para verificar se o n\u00famero entrado \u00e9 m\u00faltiplo de 3. \n",
                " \n",
                "  Teste em um programa principal v\u00e1rias chamadas destes m\u00e9todos."
            ]
        },
        {
            "cell_type": "markdown",
            "metadata": {},
            "source": [
                "---\n",
                "2.   Fa\u00e7a um programa que leia (pe\u00e7a para o usu\u00e1rio digitar) tr\u00eas n\u00fameros inteiros quaisquer, armazenando nas vari\u00e1veis A, B e C e imprima os n\u00fameros em ordem do menor para o maior."
            ]
        },
        {
            "cell_type": "markdown",
            "metadata": {},
            "source": [
                "---\n",
                "3.   Fa\u00e7a um programa que receba tr\u00eas valores inteiros nas vari\u00e1veis A, B e C e ordene os valores nas pr\u00f3prias vari\u00e1veis, de forma que, no final da execu\u00e7\u00e3o, a vari\u00e1vel A contenha o menor valor e C o maior valor. O programa deve usar apenas 4 vari\u00e1veis: A, B, C  e  T."
            ]
        },
        {
            "cell_type": "markdown",
            "metadata": {},
            "source": [
                "---\n",
                "4.   Fa\u00e7a um programa em qualquer linguagem para determinar a classifica\u00e7\u00e3o do peso de um indiv\u00edduo, de acordo com a tabela:"
            ]
        },
        {
            "cell_type": "markdown",
            "metadata": {},
            "source": [
                "| Tabela:\tIMC = peso / altura2||\n",
                "|:-:\t|:-:\t|\n",
                "|Magro|IMC at\u00e9 18,5 |\n",
                "|Saud\u00e1vel|IMC at\u00e9 25,0|\n",
                "|Acima do peso|IMC at\u00e9 30,0|\n",
                "|Obeso|IMC at\u00e9 35,0|\n",
                "|Morbidez|IMC 35 mais|"
            ]
        },
        {
            "cell_type": "markdown",
            "metadata": {},
            "source": [
                "---\n",
                "5.  Fa\u00e7a um programa para ler tr\u00eas notas (nota1, nota2 e nota3, com pesos 3, 3 e 4, respectivamente), calcular a m\u00e9dia ponderada, fazer a convers\u00e3o para conceito, conforme crit\u00e9rios definidos no Cap. 3."
            ]
        }
    ]
}