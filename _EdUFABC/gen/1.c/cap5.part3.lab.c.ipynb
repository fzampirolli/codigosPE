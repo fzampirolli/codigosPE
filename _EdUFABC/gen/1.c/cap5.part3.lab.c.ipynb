{
    "nbformat": 4,
    "nbformat_minor": 0,
    "metadata": {
        "colab": {
            "provenance": [
                {
                    "file_id": "120HGhuQUsYqKDvUqyrl3bAJBrlWmHUC8",
                    "timestamp": 1616405504493
                },
                {
                    "file_id": "1IUumSmkO7OKjjjmphpRGVZm9XAQ106g2",
                    "timestamp": 1575381269264
                }
            ],
            "collapsed_sections": []
        },
        "kernelspec": {
            "name": "python3",
            "display_name": "Python 3"
        }
    },
    "cells": [
        {
            "cell_type": "markdown",
            "metadata": {},
            "source": [
                "## Processando a Informa\u00e7\u00e3o: Cap. 5: Vetores - Pr\u00e1tica 2"
            ]
        },
        {
            "cell_type": "markdown",
            "metadata": {},
            "source": [
                "<img src=\"https://editora.ufabc.edu.br/images/Capa_Processando_Informacao.jpg\" alt=\"Capa\" width=\"150\" align=\"right\">\n",
                "\n",
                "![](\"figs/Capa_Processando_Informacao.jpg\")\n",
                "\n",
                "Este caderno (Notebook) \u00e9 parte complementar *online* do livro **[Processando a Informa\u00e7\u00e3o](https://editora.ufabc.edu.br/matematica-e-ciencias-da-computacao/58-processando-a-informacao): um livro pr\u00e1tico de programa\u00e7\u00e3o independente de linguagem**, que deve ser consultado no caso de d\u00favidas sobre os temas apresentados. \n",
                "\n",
                "> Este conte\u00fado pode ser copiado e alterado livremente e foi inspirado nesse livro. \n"
            ]
        },
        {
            "cell_type": "markdown",
            "metadata": {},
            "source": [
                "### Exerc\u00edcios"
            ]
        },
        {
            "cell_type": "markdown",
            "metadata": {},
            "source": [
                "---\n",
                "1.   Criar um vetor de entrada com `n` posi\u00e7\u00f5es com valores inteiros positivos e como sa\u00edda criar um outro vetor tamb\u00e9m com `n` posi\u00e7\u00f5es, onde a cada posi\u00e7\u00e3o `i` seja atribu\u00eddo a c\u00e1lculo do m\u00ednimo do seu vizinho de `v1` \u00e0 esquerda `i-1`, do pr\u00f3prio elemento `i` e do seu vizinho \u00e0 direita `i+1`."
            ]
        },
        {
            "cell_type": "markdown",
            "metadata": {},
            "source": [
                "---\n",
                "2. Criar um vetor com `n` posi\u00e7\u00f5es com valores inteiros positivos e, como sa\u00edda, criar um outro vetor tamb\u00e9m com `n` posi\u00e7\u00f5es, onde em cada posi\u00e7\u00e3o `i` seja atribu\u00eddo a c\u00e1lculo dos m\u00ednimos dos seus vizinhos de `v1` \u00e0 esquerda `i-2` e `i-1`, do pr\u00f3prio elemento `i` e dos seus vizinhos \u00e0 direita `i+1` e `i+2`. Generalize este c\u00f3digo para os `m` vizinhos \u00e0 esquerda e \u00e0 direita.\n",
                "\n",
                "\n",
                "\n",
                "\n"
            ]
        },
        {
            "cell_type": "markdown",
            "metadata": {},
            "source": [
                "---\n",
                "3.  O MMC (M\u00ednimo M\u00faltiplo Comum) de dois ou mais n\u00fameros inteiros \u00e9 o menor m\u00faltiplo inteiro positivo comum a todos eles. Fazer uma fun\u00e7\u00e3o chamada MMC que recebe um vetor de n\u00fameros inteiros e retorna o MMC de todos. Veja um exemplo abaixo para calcular o MMC de 12 e 15:"
            ]
        },
        {
            "cell_type": "markdown",
            "metadata": {},
            "source": [
                "| a \t| b \t| / \t|\n",
                "|-\t|-\t|-\t|\n",
                "| 12 \t| 15 \t| 2 \t|\n",
                "| 6 \t| 15 \t| 2 \t|\n",
                "| 3 \t| 15 \t| 3 \t|\n",
                "| 1 \t| 5 \t| 5 \t|\n",
                "| 1 \t| 1 \t| 60 \t|\n",
                "\n",
                "$$MMC = 60 = 2*2*3*5$$\n"
            ]
        },
        {
            "cell_type": "markdown",
            "metadata": {},
            "source": [
                "---\n",
                "4. Criar um vetor de inteiros com n elementos. Inverter este vetor sem usar vetor auxiliar."
            ]
        },
        {
            "cell_type": "markdown",
            "metadata": {},
            "source": [
                "---\n",
                "5.  Criar dois vetores de inteiros com n elementos cada. Calcular o produto escalar entre eles."
            ]
        }
    ]
}