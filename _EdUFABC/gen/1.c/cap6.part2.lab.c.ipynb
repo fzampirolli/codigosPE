{
    "nbformat": 4,
    "nbformat_minor": 0,
    "metadata": {
        "colab": {
            "provenance": [
                {
                    "file_id": "120HGhuQUsYqKDvUqyrl3bAJBrlWmHUC8",
                    "timestamp": 1616405504493
                },
                {
                    "file_id": "1IUumSmkO7OKjjjmphpRGVZm9XAQ106g2",
                    "timestamp": 1575381269264
                }
            ],
            "collapsed_sections": []
        },
        "kernelspec": {
            "name": "python3",
            "display_name": "Python 3"
        }
    },
    "cells": [
        {
            "cell_type": "markdown",
            "metadata": {},
            "source": [
                "## Processando a Informa\u00e7\u00e3o: Cap. 6: Matrizes - Pr\u00e1tica 1"
            ]
        },
        {
            "cell_type": "markdown",
            "metadata": {},
            "source": [
                "<img src=\"https://editora.ufabc.edu.br/images/Capa_Processando_Informacao.jpg\" alt=\"Capa\" width=\"150\" align=\"right\">\n",
                "\n",
                "![](\"figs/Capa_Processando_Informacao.jpg\")\n",
                "\n",
                "Este caderno (Notebook) \u00e9 parte complementar *online* do livro **[Processando a Informa\u00e7\u00e3o](https://editora.ufabc.edu.br/matematica-e-ciencias-da-computacao/58-processando-a-informacao): um livro pr\u00e1tico de programa\u00e7\u00e3o independente de linguagem**, que deve ser consultado no caso de d\u00favidas sobre os temas apresentados. \n",
                "\n",
                "> Este conte\u00fado pode ser copiado e alterado livremente e foi inspirado nesse livro. \n"
            ]
        },
        {
            "cell_type": "markdown",
            "metadata": {},
            "source": [
                "### Exerc\u00edcios"
            ]
        },
        {
            "cell_type": "markdown",
            "metadata": {},
            "source": [
                "---\n",
                "1.   Criar uma matriz para armazenar as `C` notas de uma turma e calcular a m\u00e9dia de cada aluno, considerando uma turma com `L` alunos."
            ]
        },
        {
            "cell_type": "markdown",
            "metadata": {},
            "source": [
                "---\n",
                "2. Em complemento ao exerc\u00edcio anterior, criar tamb\u00e9m um vetor de String, onde para cada posi\u00e7\u00e3o `0<=i<L` seja armazenada a palavra `\"reprovado\"` se a nota for abaixo de 5, ou `\"aprovado\"`, caso contr\u00e1rio.\n",
                "\n",
                "\n",
                "\n",
                "\n"
            ]
        },
        {
            "cell_type": "markdown",
            "metadata": {},
            "source": [
                "---\n",
                "3.  Criar uma matriz para armazenar `L` linhas e `C` colunas. Calcular e exibir a soma dos elementos da diagonal principal e secund\u00e1ria da matriz."
            ]
        },
        {
            "cell_type": "markdown",
            "metadata": {},
            "source": [
                "---\n",
                "4. Criar uma matriz para armazenar `L` linhas e `C` colunas. Calcular a soma dos elementos acima da diagonal da matriz."
            ]
        },
        {
            "cell_type": "markdown",
            "metadata": {},
            "source": [
                "---\n",
                "5.  Criar uma matriz `m1` para armazenar `L` linhas e `C` colunas. Criar uma outra matriz `m2` para armazenar `m1` transposta, com `C` linhas e `L` colunas, sendo que a primeira linha de `m2` contenha os elementos da primeira coluna de `m1`. Isso se repete para as demais linhas de `m2` e colunas de `m1`. "
            ]
        }
    ]
}