{
    "nbformat": 4,
    "nbformat_minor": 0,
    "metadata": {
        "colab": {
            "provenance": [
                {
                    "file_id": "1XFG7GfvJtu0VOT11brQGo-rrBF8h8QLH",
                    "timestamp": 1665261290764
                },
                {
                    "file_id": "120HGhuQUsYqKDvUqyrl3bAJBrlWmHUC8",
                    "timestamp": 1616405504493
                },
                {
                    "file_id": "1IUumSmkO7OKjjjmphpRGVZm9XAQ106g2",
                    "timestamp": 1575381269264
                }
            ],
            "collapsed_sections": [],
            "toc_visible": true
        },
        "kernelspec": {
            "name": "python3",
            "display_name": "Python 3"
        }
    },
    "cells": [
        {
            "cell_type": "markdown",
            "metadata": {},
            "source": [
                "# Processando a Informa\u00e7\u00e3o: Cap. 7: Tipos Definidos Pelo Programador e Arquivos\n",
                "\n",
                "\n",
                "\n",
                "\n",
                "\n"
            ]
        },
        {
            "cell_type": "markdown",
            "metadata": {},
            "source": [
                "<img src=\"https://editora.ufabc.edu.br/images/Capa_Processando_Informacao.jpg\" alt=\"Capa\" width=\"150\" align=\"right\">\n",
                "\n",
                "![](\"figs/Capa_Processando_Informacao.jpg\")\n",
                "\n",
                "Este caderno (Notebook em CONSTRU\u00c7\u00c3O) \u00e9 parte complementar *online* do livro **[Processando a Informa\u00e7\u00e3o](https://editora.ufabc.edu.br/matematica-e-ciencias-da-computacao/58-processando-a-informacao): um livro pr\u00e1tico de programa\u00e7\u00e3o independente de linguagem**, que deve ser consultado no caso de d\u00favidas sobre os temas apresentados. \n",
                "\n",
                "> Este conte\u00fado pode ser copiado e alterado livremente e foi inspirado nesse livro. \n",
                "\n",
                "> O conte\u00fado deste cap\u00edtulo foi inspirado em:\n",
                "* Cap. 7: Conceitos de programa\u00e7\u00e3o orientada a objetos do livro anterior \n",
                "* Notas de aula de professores da UFABC, em especial, dos professores Luiz Rozante e Wagner Botelho.\n"
            ]
        },
        {
            "cell_type": "markdown",
            "metadata": {},
            "source": [
                "## Sum\u00e1rio\n",
                "* Revis\u00e3o do cap\u00edtulo anterior\n",
                "* Introdu\u00e7\u00e3o\n",
                "* Paradigma Estruturado\n",
                "* Paradigma Orientado a Objetos\n",
                "* Tipos de dados\n",
                "* Arquivos\n",
                "* Revis\u00e3o deste cap\u00edtulo\n",
                "* Exerc\u00edcios"
            ]
        },
        {
            "cell_type": "markdown",
            "metadata": {},
            "source": [
                "## Revis\u00e3o do cap\u00edtulo anterior (Matriz)"
            ]
        },
        {
            "cell_type": "markdown",
            "metadata": {},
            "source": [
                "* Introdu\u00e7\u00e3o\n",
                "* Instanciando matrizes\n",
                "* Acessando elementos de uma matriz\n",
                "* Formas de percorrer uma matriz\n",
                "* Aplica\u00e7\u00f5es usando matrizes\n",
                "* Exerc\u00edcios"
            ]
        },
        {
            "cell_type": "markdown",
            "metadata": {},
            "source": [
                "## Introdu\u00e7\u00e3o"
            ]
        },
        {
            "cell_type": "markdown",
            "metadata": {},
            "source": [
                "* Este cap\u00edtulo introduz alguns conceitos usados em:\n",
                "  * Programa\u00e7\u00e3o Estruturada, \n",
                "  * Programa\u00e7\u00e3o Orientada a Objetos (POO) e \n",
                "  * Engenharia de Software (ES).\n",
                "* Esses conceitos ser\u00e3o \u00fateis em estudos futuros. \n",
                "* N\u00e3o \u00e9 o prop\u00f3sito deste cap\u00edtulo cobrir completamente estes temas, mas sim proporcionar um ponto de partida para o estudo avan\u00e7ados em programa\u00e7\u00e3o.\n",
                "* Al\u00e9m de introduzir processos para desenvolver c\u00f3digos envolvendo equipes e utilizando princ\u00edpios da Engenharia de Software."
            ]
        },
        {
            "cell_type": "markdown",
            "metadata": {},
            "source": [
                "## Paradigma Estruturado"
            ]
        },
        {
            "cell_type": "markdown",
            "metadata": {},
            "source": [
                "* Uns dos primeiros estilos (ou paradigma) para estruturar um Software \u00e9 chamado de **Programa\u00e7\u00e3o Estruturada**. \n",
                "\n",
                "* Neste paradigma estruturado, o programador define **Tabelas** (ou **Registros** ou tamb\u00e9m chamadas **Entidades**), onde se podem armazenar vari\u00e1veis de v\u00e1rios tipos de dados,\n",
                "  * diferentemente dos vetores e matrizes vistos nos cap\u00edtulos anterios, onde todos os dados devem ser de um mesmo tipo de dado (exceto as listas em Python). \n",
                "\n",
                "* Por exemplo, \u00e9 poss\u00edvel definir uma tabela para armazenar as informa\u00e7\u00f5es de um aluno num contexto de um sistema acad\u00eamico, chamada **Aluno**. \n",
                "\n",
                "* Esta tabela **Aluno**, na verdade, pode ser considera um novo tipo de dados e \u00e9 poss\u00edvel, por exemplo, \u201cinstanciar\u201d uma vari\u00e1vel (ou registro), como *Julia* do tipo **Aluno**. \n",
                "\n",
                "* Como atributos da tabela **Aluno**, \u00e9 poss\u00edvel ter *nome*, *matr\u00edcula*, *data de nascimento*, *ano de ingresso*, etc. \n",
                "\n",
                "* Observe que na tabela **Aluno** \u00e9 importante tamb\u00e9m ter informa\u00e7\u00e3o de curso e de disciplinas j\u00e1 cursadas. \n",
                "\n",
                "* Estas informa\u00e7\u00f5es podem ser \u201cinst\u00e2ncias\u201d de outras tabelas, como **Curso** e **Disciplina**, com seus respectivos atributos apropriados. \n",
                "\n",
                "* Em Banco de Dados estas \u201cinst\u00e2ncias\u201d s\u00e3o poss\u00edveis atrav\u00e9s de um atributo representando a chave (estrangeira) de outra tabela. \n",
                "\n",
                "* Al\u00e9m disso, cada tabela possui um atributo (chamado chave prim\u00e1ria) que identifica o registro, por exemplo, Julia, que pode estar armazenada num registro de n\u00famero 33.\n",
                "\n",
                "* Resumindo, as **estrutura** definidas pelo programador podem armazenar em tempo de execu\u00e7\u00e3o as **tabelas** definidas em Bancos de Dados (com informa\u00e7\u00f5es armazenadas em disco)."
            ]
        },
        {
            "cell_type": "markdown",
            "metadata": {},
            "source": [
                "## Diagrama Entidade Relacionamento"
            ]
        },
        {
            "cell_type": "markdown",
            "metadata": {},
            "source": [
                "* Para poder visualizar melhor esta rela\u00e7\u00e3o entre as tabelas **Aluno**, **Curso** e **Disciplina**, existe um modelo apropriado, chamado **Diagrama Entidade Relacionamento (DER)**, como apresentado na figura abaixo. \n",
                "\n",
                "* Observe o relacionamento \u201c**Aluno** faz **Disciplina**(s)\u201d. \n",
                "\n",
                "* Se for considerar um contexto onde um aluno est\u00e1 cursando uma disciplina, existe a necessidade de incluir uma nova tabela, chamada, por exemplo, **Turma**. \n",
                "\n",
                "* Assim, \u201c**Turma** possui **Aluno**(s)\u201d e \u201c**Disciplina** possui Turma(s)\u201d. \n",
                "\n",
                "![](\"figs/image45.png\")"
            ]
        },
        {
            "cell_type": "markdown",
            "source": [
                "![image45.png](data:image/png;base64,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)"
            ],
            "metadata": {}
        },
        {
            "cell_type": "markdown",
            "metadata": {},
            "source": [
                "* Desse modo, para um sistema acad\u00eamico completo, \u00e9 necess\u00e1rio criar v\u00e1rias tabelas e seus relacionamentos. \n",
                "\n",
                "* Todos esses dados das tabelas devem ser lidos (digitados) uma vez e armazenados em disco. \n",
                "\n",
                "* Sen\u00e3o, toda vez que esse sistema acad\u00eamico for executado, todos os dados dever\u00e3o ser lidos novamente. \n",
                "\n",
                "* Existem v\u00e1rias formas de guardar os dados de vari\u00e1veis em disco: \n",
                "  * arquivo texto, \n",
                "  * arquivo bin\u00e1rio ou \n",
                "  * tabelas em um Sistema de Gerenciamento de Banco de Dados (SGBD), como Oracle, JDBC, SQL, PostgreSQL, etc. \n",
                "  \n",
                "* Nas disciplinas de Banco de Dados, o aluno aprende como criar essas tabelas em um SGBD e tamb\u00e9m como us\u00e1-las dentro de uma linguagem de programa\u00e7\u00e3o. "
            ]
        },
        {
            "cell_type": "markdown",
            "source": [
                "* Essa forma de organizar v\u00e1rios tipos de dados em tabelas chama-se **encapsulamento de dados**. \n",
                "\n",
                "* O grande desafio dos programadores e analistas de sistemas \u00e9 definir corretamente essas tabelas e os seus relacionamentos. Os sistemas bem modelados s\u00e3o mais f\u00e1ceis de realizar manuten\u00e7\u00f5es.\n",
                "\n",
                "* Al\u00e9m disso, os programadores devem criar estruturas, fun\u00e7\u00f5es e procedimentos de forma bem organizada, por exemplo, usando v\u00e1rios arquivos organizados em pastas. \n",
                "\n",
                "* O paradigma estruturado n\u00e3o facilita completamente esta organiza\u00e7\u00e3o. Isso j\u00e1 n\u00e3o ocorre no paradigma orientado a objetos, resumido a seguir."
            ],
            "metadata": {}
        },
        {
            "cell_type": "markdown",
            "metadata": {},
            "source": [
                "## Paradigma Orientado a Objetos"
            ]
        },
        {
            "cell_type": "markdown",
            "source": [
                "* Na programa\u00e7\u00e3o estruturada n\u00e3o existe uma forma eficiente de organizar (encapsular) as fun\u00e7\u00f5es espec\u00edficas de uma tabela, como ocorre no encapsulamento dos dados, visto na programa\u00e7\u00e3o estruturada. \n",
                "\n",
                "* Assim, surgiu a necessidade de criar um novo paradigma de programa\u00e7\u00e3o, que \u00e9 a **Programa\u00e7\u00e3o Orientada a Objetos (POO)**, onde, al\u00e9m de encapsular os dados, \u00e9 poss\u00edvel encapsular as fun\u00e7\u00f5es ou m\u00e9todos que os processam. \n",
                "\n",
                "* Na POO, tabela passou a se chamar **Classe**, e um registro de uma tabela passou a ser chamado de **inst\u00e2ncia** de uma classe, tamb\u00e9m chamado de **objeto**. \n",
                "\n",
                "* Como no exemplo anterior, para o sistema acad\u00eamico, \u00e9 poss\u00edvel criar a classe **Aluno** (que \u00e9 um novo tipo de dados) e com ela instanciar uma vari\u00e1vel *Julia* da classe **Aluno**. \n",
                "\n",
                "![](\"figs/image45.png\")"
            ],
            "metadata": {}
        },
        {
            "cell_type": "markdown",
            "source": [
                "![image46.png](data:image/png;base64,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)"
            ],
            "metadata": {}
        },
        {
            "cell_type": "markdown",
            "source": [
                "O restante deste cap\u00edtulo \u00e9 complemetar ao livro **[Processando a Informa\u00e7\u00e3o](https://editora.ufabc.edu.br/matematica-e-ciencias-da-computacao/58-processando-a-informacao): um livro pr\u00e1tico de programa\u00e7\u00e3o independente de linguagem**, apresentando conceitos e exemplos de Programa\u00e7\u00e3o Estruturada."
            ],
            "metadata": {}
        },
        {
            "cell_type": "markdown",
            "metadata": {},
            "source": [
                "## Tipos de dados"
            ]
        },
        {
            "cell_type": "markdown",
            "metadata": {},
            "source": [
                "* Os tipos de dados em C s\u00e3o:\n",
                "  \n",
                "  * `struct`\n",
                "\n",
                "  ```\n",
                "  struct MEU_TIPO{ \n",
                "   tipo1 nome1; \n",
                "   tipo2 nome2; \n",
                "   ... \n",
                "  };\n",
                "  struct MEU_TIPO Entidade1, Entidade2; \n",
                "  ```\n",
                "\n",
                "  * Ou melhor, com `typedef` (utilizado para renomear um tipo de dado da pr\u00f3pria linguagem ou definido pelo programador):\n",
                "\n",
                "   ```\n",
                "  typedef struct { \n",
                "   tipo1 nome1; \n",
                "   tipo2 nome2; \n",
                "   ... \n",
                "  } MEU_TIPO;\n",
                "  MEU_TIPO Entidade1, Entidade2; \n",
                "  ```\n",
                "\n",
                "\n",
                "  * `union`\n",
                "  * `enum`"
            ]
        },
        {
            "cell_type": "markdown",
            "metadata": {},
            "source": [
                "### Exemplo 01 - Criar um registro de Aluno\n",
                "\n",
                "Exemplo para criar a `struct` **TAluno** contendo 4 atributos.\n"
            ]
        },
        {
            "cell_type": "code",
            "metadata": {},
            "source": [
                "%%writefile cap7ex01.c\n",
                "#include <stdio.h>\n",
                "#include <string.h>\n",
                "\n",
                "struct TAluno {\n",
                "  char nome[50];\n",
                "  int idade;\n",
                "  char rua[50];\n",
                "  int numero;\n",
                "};\n",
                "\n",
                "int main() {\n",
                "  struct TAluno ana; // instancia uma vari\u00e1vel c do tipo TAluno\n",
                "  // ENTRADA DE DADOS\n",
                "  strcpy(ana.nome, \"Ana Silva\");\n",
                "  ana.idade = 18;\n",
                "  strcpy(ana.rua, \"Avenida Paulista\");\n",
                "  ana.numero = 1000;\n",
                "\n",
                "  // SA\u00cdDA DE DADOS\n",
                "  printf(\"nome: %s\\nidade: %d\\n\", ana.nome, ana.idade);\n",
                "  printf(\"rua: %s\\nn\u00famero: %d\\n\", ana.rua, ana.numero);\n",
                "  return 0;\n",
                "}"
            ],
            "execution_count": null,
            "outputs": []
        },
        {
            "cell_type": "code",
            "metadata": {},
            "source": [
                "%%shell\n",
                "gcc -Wall -std=c99 cap7ex01.c -o output\n",
                "./output"
            ],
            "execution_count": null,
            "outputs": []
        },
        {
            "cell_type": "markdown",
            "metadata": {},
            "source": [
                "### Exemplo 02 - Criar um registro de Aluno, com `scanf`\n",
                "\n",
                "Exemplo para criar a `struct` **TAluno** contendo 4 atributos lidos do teclado com `scanf`.\n"
            ]
        },
        {
            "cell_type": "code",
            "metadata": {},
            "source": [
                "%%writefile cap7ex02.c\n",
                "#include <stdio.h>\n",
                "#include <string.h>\n",
                "\n",
                "struct TAluno {\n",
                "  char nome[50];\n",
                "  int idade;\n",
                "  char rua[50];\n",
                "  int numero;\n",
                "};\n",
                "\n",
                "int main() {\n",
                "  struct TAluno Alunos[2]; // instancia uma vetor do tipo TAluno\n",
                "  // ENTRADA DE DADOS\n",
                "  for (int i = 0; i < 2; i++) {\n",
                "    printf(\"Entre com os dados: nome, idade, rua, n\u00famero:\\n\");\n",
                "    fflush(stdin);\n",
                "    fgets(Alunos[i].nome, 50, stdin);\n",
                "    scanf(\"%d\", &Alunos[i].idade);\n",
                "    fflush(stdin);\n",
                "    fgets(Alunos[i].rua, 50, stdin);\n",
                "    scanf(\"%d\", &Alunos[i].numero);\n",
                "  }\n",
                "  // SA\u00cdDA DE DADOS\n",
                "  for (int i = 0; i < 2; i++) {\n",
                "    printf(\"nome: %s\\nidade: %d\\n\", Alunos[i].nome, Alunos[i].idade);\n",
                "    printf(\"rua: %s\\nn\u00famero: %d\\n\", Alunos[i].rua, Alunos[i].numero);\n",
                "  }\n",
                "  return 0;\n",
                "}"
            ],
            "execution_count": null,
            "outputs": []
        },
        {
            "cell_type": "code",
            "metadata": {},
            "source": [
                "%%shell\n",
                "gcc -Wall -std=c99 cap7ex02.c -o output\n",
                "./output"
            ],
            "execution_count": null,
            "outputs": []
        },
        {
            "cell_type": "markdown",
            "metadata": {},
            "source": [
                "### Exemplo 03 - Criar um registro de Aluno, com `typedef`\n",
                "\n",
                "Exemplo para criar a `struct` **TAluno** contendo 4 atributos lidos do teclado, renomeando com `typedef` para **Aluno**.\n"
            ]
        },
        {
            "cell_type": "code",
            "metadata": {},
            "source": [
                "%%writefile cap7ex03.c\n",
                "#include <stdio.h>\n",
                "#include <string.h>\n",
                "\n",
                "struct TAluno {\n",
                "  char nome[50];\n",
                "  int idade;\n",
                "  char rua[50];\n",
                "  int numero;\n",
                "};\n",
                "\n",
                "typedef struct TAluno Aluno;\n",
                "\n",
                "int main() {\n",
                "  // ENTRADA DE DADOS\n",
                "  Aluno Ana = { \"Ana Silva\" , 18, \"Avenida Paulista\" , 1000 };\n",
                "\n",
                "  // SA\u00cdDA DE DADOS\n",
                "  printf(\"%s %d %s %d\", Ana.nome, Ana.idade, Ana.rua, Ana.numero);\n",
                "  return 0;\n",
                "}"
            ],
            "execution_count": null,
            "outputs": []
        },
        {
            "cell_type": "code",
            "metadata": {},
            "source": [
                "%%shell\n",
                "gcc -Wall -std=c99 cap7ex03.c -o output\n",
                "./output"
            ],
            "execution_count": null,
            "outputs": []
        },
        {
            "cell_type": "markdown",
            "metadata": {},
            "source": [
                "### Exemplo 04 - Criar um registro de Aluno, com `typedef`, op\u00e7\u00e3o 2\n",
                "\n",
                "Exemplo para criar a `struct` **Aluno** de forma simplificada, contendo 4 atributos.\n"
            ]
        },
        {
            "cell_type": "code",
            "metadata": {},
            "source": [
                "%%writefile cap7ex04.c\n",
                "#include <stdio.h>\n",
                "#include <string.h>\n",
                "\n",
                "typedef struct TAluno {\n",
                "  char nome[50];\n",
                "  int idade;\n",
                "  char rua[50];\n",
                "  int numero;\n",
                "} Aluno;\n",
                "\n",
                "int main() {\n",
                "  // ENTRADA DE DADOS\n",
                "  Aluno ana = { \"Ana Silva\" , 18, \"Avenida Paulista\" , 1000 };\n",
                "\n",
                "  // SA\u00cdDA DE DADOS\n",
                "  printf(\"%s %d %s %d\", ana.nome, ana.idade, ana.rua, ana.numero);\n",
                "  return 0;\n",
                "}"
            ],
            "execution_count": null,
            "outputs": []
        },
        {
            "cell_type": "code",
            "metadata": {},
            "source": [
                "%%shell\n",
                "gcc -Wall -std=c99 cap7ex04.c -o output\n",
                "./output"
            ],
            "execution_count": null,
            "outputs": []
        },
        {
            "cell_type": "markdown",
            "metadata": {},
            "source": [
                "### Exemplo 05 - Criar dois registros\n",
                "\n",
                "Exemplo para criar a `struct` **Cliente** contendo 3 atributos, sendo um deles uma outra estrutura **Endereco**."
            ]
        },
        {
            "cell_type": "code",
            "metadata": {},
            "source": [
                "%%writefile cap7ex05.c\n",
                "#include <stdio.h>\n",
                "#include <string.h>\n",
                "\n",
                "typedef struct {\n",
                "  char rua[50];\n",
                "  int numero;\n",
                "} Endereco;\n",
                "\n",
                "typedef struct {\n",
                "  char nome[50];\n",
                "  int idade;\n",
                "  Endereco end;\n",
                "} Cliente;\n",
                "\n",
                "void leiaCliente(Cliente* cliente) {\n",
                "  fflush(stdin);\n",
                "  printf(\"nome: \");\n",
                "  fgets((*cliente).nome, 50, stdin);\n",
                "  printf(\"idade: \");\n",
                "  scanf(\"%d\", &(*cliente).idade);\n",
                "  fflush(stdin);\n",
                "  printf(\"rua: \");\n",
                "  fgets((*cliente).end.rua, 50, stdin);\n",
                "  printf(\"numero: \");\n",
                "  scanf(\"%d\", &(*cliente).end.numero);\n",
                "}\n",
                "\n",
                "void escrevaCliente(Cliente cliente) {\n",
                "  printf(\"nome: %s\\nidade: %d\\n\", cliente.nome, cliente.idade);\n",
                "  printf(\"rua: %s\\nnumero: %d\\n\", cliente.end.rua, cliente.end.numero);\n",
                "}\n",
                "\n",
                "int main() {\n",
                "  Cliente clientes[2];\n",
                "  // ENTRADA DE DADOS\n",
                "  for (int i = 0; i < 2; i++) {\n",
                "    printf(\"Cadastrar dados do cliente %d\\n\", i + 1);\n",
                "    leiaCliente(&clientes[i]);\n",
                "  }\n",
                "\n",
                "  // SA\u00cdDA DE DADOS\n",
                "  for (int i = 0; i < 2; i++) {\n",
                "    printf(\"Imprimir dados do cliente %d\\n\", i + 1);\n",
                "    escrevaCliente(clientes[i]);\n",
                "  }\n",
                "  return 0;\n",
                "}"
            ],
            "execution_count": null,
            "outputs": []
        },
        {
            "cell_type": "code",
            "metadata": {},
            "source": [
                "%%shell\n",
                "gcc -Wall -std=c99 cap7ex05.c -o output\n",
                "./output"
            ],
            "execution_count": null,
            "outputs": []
        },
        {
            "cell_type": "markdown",
            "metadata": {},
            "source": [
                "### Exemplo 06 - Criar dois registros usando biblioteca\n",
                "\n",
                "Exemplo para criar a `struct` **Cliente** contendo 3 atributos, sendo um deles uma outra estrutura **Endereco**, organizados em uma biblioteca."
            ]
        },
        {
            "cell_type": "code",
            "metadata": {},
            "source": [
                "%%writefile cap7ex06.c\n",
                "#include \"myBiblioteca.h\"\n",
                "\n",
                "int main() {\n",
                "  Cliente clientes[2];\n",
                "  // ENTRADA DE DADOS\n",
                "  for (int i = 0; i < 2; i++) {\n",
                "    printf(\"Cadastrar dados do cliente %d\\n\", i + 1);\n",
                "    leiaCliente(&clientes[i]);\n",
                "  }\n",
                "\n",
                "  // SA\u00cdDA DE DADOS\n",
                "  for (int i = 0; i < 2; i++) {\n",
                "    printf(\"Imprimir dados do cliente %d\\n\", i + 1);\n",
                "    escrevaCliente(clientes[i]);\n",
                "  }\n",
                "  return 0;\n",
                "}"
            ],
            "execution_count": null,
            "outputs": []
        },
        {
            "cell_type": "code",
            "metadata": {},
            "source": [
                "%%writefile myBiblioteca.h\n",
                "#include <stdio.h>\n",
                "#include <string.h>\n",
                "#include <stdlib.h>\n",
                "\n",
                "typedef struct {\n",
                "  char rua[50];\n",
                "  int numero;\n",
                "} Endereco;\n",
                "\n",
                "typedef struct {\n",
                "  char nome[50];\n",
                "  int idade;\n",
                "  Endereco end;\n",
                "} Cliente;\n",
                "\n",
                "void leiaCliente(Cliente* cliente);\n",
                "void escrevaCliente(Cliente cliente);"
            ],
            "execution_count": null,
            "outputs": []
        },
        {
            "cell_type": "code",
            "metadata": {},
            "source": [
                "%%writefile myBiblioteca.c\n",
                "#include \"myBiblioteca.h\"\n",
                "\n",
                "void escrevaCliente(Cliente cliente) {\n",
                "  printf(\"nome: %s\\nidade: %d\\n\", cliente.nome, cliente.idade);\n",
                "  printf(\"rua: %s\\nn\u00famero: %d\\n\", cliente.end.rua, cliente.end.numero);\n",
                "}\n",
                "\n",
                "// leia um cliente a partir do teclado\n",
                "// nome, idade, rua, numero\n",
                "void leiaCliente(Cliente* cliente) {\n",
                "  fflush(stdin);\n",
                "  printf(\"nome: \");\n",
                "  fgets((*cliente).nome, 50, stdin);\n",
                "  printf(\"idade: \");\n",
                "  scanf(\"%d\", &(*cliente).idade);\n",
                "  fflush(stdin);\n",
                "  printf(\"rua: \");\n",
                "  fgets((*cliente).end.rua, 50, stdin);\n",
                "  printf(\"numero: \");\n",
                "  scanf(\"%d\", &(*cliente).end.numero);\n",
                "}"
            ],
            "execution_count": null,
            "outputs": []
        },
        {
            "cell_type": "code",
            "metadata": {},
            "source": [
                "%%shell\n",
                "gcc -Wall -std=c99 cap7ex06.c myBiblioteca.c -o output\n",
                "./output"
            ],
            "execution_count": null,
            "outputs": []
        },
        {
            "cell_type": "markdown",
            "metadata": {},
            "source": [
                "## Arquivos\n",
                "\n",
                "Os arquivos armazenados em disco s\u00e3o considerados como uma sequ\u00eancia de caracteres e podem ser acessados em mem\u00f3ria atrav\u00e9s de um ponteiro para o primeiro caracter do arquivo (texto ou bin\u00e1rio), como segue:\n",
                "\n",
                "```\n",
                "FILE *fp;\n",
                "fp = fopen(\"nomeArquivo.txt\", \"modo\"); // modo \u00e9 definido a seguir\n",
                "```\n",
                "\n",
                "Seguem as principais fun\u00e7\u00f5es para manipular arquivos da biblioteca `stdio.h`:\n",
                "\n",
                "Fun\u00e7\u00e3o     | Descri\u00e7\u00e3o\n",
                ":---------:|----------\n",
                "`fopen()`  | Abre arquivo\n",
                "`fclose()` | Fecha arquivo\n",
                "`putc()`   | Escreve um caracter no arquivo\n",
                "`fputc()`  | Igual `putc()`\n",
                "`getc()`   | L\u00ea um caracter do arquivo\n",
                "`fgetc()`  | Igual `getc()`\n",
                "`fseek()`  | Posiciona o arquivo em um determinado byte\n",
                "`fprintf()`| Semelhante ao `printf()`, mas para arquivo\n",
                "`fscanf()` | Semelhante ao `scanf()`, mas para arquivo\n",
                "`feof()`   | Verifica final de arquivo\n",
                "`ferror()` | Verifica se ocorreu erro\n",
                "`rewind()` | Posiciona o ponteiro para o in\u00edcio do arquivo\n",
                "`remove()` | Apaga arquivo\n",
                "`fflush()` | Descarrega o *buffer* do arquivo\n",
                "`fgets()`  | Obt\u00e9m uma string do arquivo\n",
                "`fread()`  | L\u00ea um bloco de dados do arquivo\n",
                "`fwrite()` | Escreve um bloco de dados no arquivo\n",
                "`ftell()`  | Retorna a posi\u00e7\u00e3o do ponteiro"
            ]
        },
        {
            "cell_type": "markdown",
            "source": [
                "\n",
                "| **Modo** \t| **Arquivo** \t|    **Fun\u00e7\u00e3o**   \t|\n",
                "|:--------:\t|:-----------:\t|:---------------:\t|\n",
                "|     r    \t|    Texto    \t| Leitura     \t|\n",
                "|     w    \t|    Texto    \t| Escrita em arquivo novo     |\n",
                "|     a    \t|    Texto    \t| Escrita em arquivo existente |\n",
                "|    r+    \t|    Texto    \t| Leitura/Escrita \t|\n",
                "|    w+    \t|    Texto    \t| Leitura/Escrita \t|\n",
                "|    a+    \t|    Texto    \t| Leitura/Escrita \t|\n",
                "|    rb    \t|   Bin\u00e1rio   \t| Leitura     \t|\n",
                "|    wb    \t|   Bin\u00e1rio   \t| Escrita     \t|\n",
                "|    ab    \t|   Bin\u00e1rio   \t| Escrita     \t|\n",
                "|    r+b   \t|   Bin\u00e1rio   \t| Leitura/Escrita \t|\n",
                "|    w+b   \t|   Bin\u00e1rio   \t| Leitura/Escrita \t|\n",
                "|    a+b   \t|   Bin\u00e1rio   \t| Leitura/Escrita \t|"
            ],
            "metadata": {}
        },
        {
            "cell_type": "markdown",
            "metadata": {},
            "source": [
                "### Exemplo 07 - Criar Arquivo\n",
                "\n",
                "Exemplo para criar um arquivo texto.\n"
            ]
        },
        {
            "cell_type": "code",
            "metadata": {},
            "source": [
                "%%writefile cap7ex07.c\n",
                "#include <stdio.h>\n",
                "\n",
                "int main() {\n",
                "  char* filename = \"teste.txt\";\n",
                "  FILE* file;\n",
                "\n",
                "  file = fopen(filename, \"w\"); // Cria arquivo para escrita\n",
                "  if (file == NULL) {\n",
                "    printf(\"Erro ao abrir o arquivo: %s\\n\", filename);\n",
                "    return -1;\n",
                "  }\n",
                "\n",
                "  // SA\u00cdDA DE DADOS\n",
                "  for (int i = 0; i < 10; i++)\n",
                "    fprintf(file, \"Linha %02d\\n\", i + 1); // Escrever algo no arquivo\n",
                "\n",
                "  fclose(file); // fecha arquivo\n",
                "  return 0;\n",
                "}"
            ],
            "execution_count": null,
            "outputs": []
        },
        {
            "cell_type": "code",
            "metadata": {},
            "source": [
                "%%shell\n",
                "gcc -Wall -std=c99 cap7ex07.c -o output\n",
                "./output\n",
                "cat teste.txt"
            ],
            "execution_count": null,
            "outputs": []
        },
        {
            "cell_type": "markdown",
            "metadata": {},
            "source": [
                "### Exemplo 08 - Ler arquivo\n",
                "\n",
                "Exemplo para ler um arquivo texto.\n"
            ]
        },
        {
            "cell_type": "code",
            "metadata": {},
            "source": [
                "%%writefile cap7ex08.c\n",
                "#include <stdio.h>\n",
                "\n",
                "int main() {\n",
                "  char* filename = \"teste.txt\", ch;\n",
                "  FILE* file;\n",
                "\n",
                "  // ENTRADA DE DADOS\n",
                "  file = fopen(filename, \"r\"); // Cria arquivo para leitura\n",
                "  if (file == NULL) {\n",
                "    printf(\"Erro ao abrir o arquivo: %s\\n\", filename);\n",
                "    return -1;\n",
                "  }\n",
                "\n",
                "  // SA\u00cdDA DE DADOS\n",
                "  while ((ch = fgetc(file)) != EOF) { // L\u00ea arquivo\n",
                "    printf(\"%c\", ch); // caracter por caracter\n",
                "  }\n",
                "\n",
                "  fclose(file); // fecha arquivo\n",
                "  return 0;\n",
                "}"
            ],
            "execution_count": null,
            "outputs": []
        },
        {
            "cell_type": "code",
            "metadata": {},
            "source": [
                "%%shell\n",
                "gcc -Wall -std=c99 cap7ex08.c -o output\n",
                "./output"
            ],
            "execution_count": null,
            "outputs": []
        },
        {
            "cell_type": "markdown",
            "metadata": {},
            "source": [
                "### Exemplo 09 - Criar dois registros usando biblioteca, lendo arquivo\n",
                "\n",
                "Exemplo para criar a `struct` **Cliente** contendo 3 atributos, sendo um deles uma outra estrutura **Endereco**, organizados em uma biblioteca. \n",
                "\n",
                "Destacando que os dados ser\u00e3o lidos do arquivo CSV abaixo:\n"
            ]
        },
        {
            "cell_type": "code",
            "source": [
                "%%writefile dados.csv\n",
                "Maria Souza, 19, Avenida Paulista, 1000\n",
                "Pedro Silva, 18, Avenida Rebou\u00e7as, 2500"
            ],
            "metadata": {},
            "execution_count": null,
            "outputs": []
        },
        {
            "cell_type": "code",
            "metadata": {},
            "source": [
                "%%writefile cap7ex09.c\n",
                "#include \"myBiblioteca.h\"\n",
                "\n",
                "int main() {\n",
                "  Cliente clientes[20];\n",
                "  char* filename = \"dados.csv\";\n",
                "\n",
                "  // ENTRADA DE DADOS\n",
                "  FILE* file; // Cria arquivo para leitura\n",
                "  if ((file = fopen(filename, \"r\")) == NULL) {\n",
                "    printf(\"Erro ao abrir o arquivo: %s\\n\", filename);\n",
                "    return -1;\n",
                "  }\n",
                "\n",
                "  int contador = 0;\n",
                "  char linha[512]; // espa\u00e7o para cada linha lida\n",
                "  while (fgets(linha, sizeof(linha), file))  // para cada linha\n",
                "    criaCliente(&clientes[contador++], linha);\n",
                "\n",
                "  // SA\u00cdDA DE DADOS\n",
                "  for (int i = 0; i < contador; i++) {\n",
                "    printf(\"\\nImprimir dados do cliente %d\\n\", i + 1);\n",
                "    escrevaCliente(clientes[i]);\n",
                "  }\n",
                "\n",
                "  fclose(file); // fecha arquivo\n",
                "  return 0;\n",
                "}"
            ],
            "execution_count": null,
            "outputs": []
        },
        {
            "cell_type": "code",
            "metadata": {},
            "source": [
                "%%writefile myBiblioteca.h\n",
                "#include <stdio.h>\n",
                "#include <string.h>\n",
                "#include <stdlib.h>\n",
                "\n",
                "typedef struct {\n",
                "  char rua[50];\n",
                "  int numero;\n",
                "} Endereco;\n",
                "\n",
                "typedef struct {\n",
                "  char nome[50];\n",
                "  int idade;\n",
                "  Endereco end;\n",
                "} Cliente;\n",
                "\n",
                "void leiaCliente(Cliente* cliente);\n",
                "void escrevaCliente(Cliente cliente);\n",
                "void criaCliente(Cliente* cliente, char linha[512]);"
            ],
            "execution_count": null,
            "outputs": []
        },
        {
            "cell_type": "code",
            "metadata": {},
            "source": [
                "%%writefile myBiblioteca.c\n",
                "#include \"myBiblioteca.h\"\n",
                "// cria um cliente a partir de uma linha de texto. Exemplo:\n",
                "// \"Maria Souza, 20, Avenida Paulista, 1200\"\n",
                "void criaCliente(Cliente* cliente, char linha[512]) {\n",
                "  // Ler nome\n",
                "  char* token = strtok(linha, \",\"); // ler at\u00e9 a primeira \",\"\n",
                "  strcpy((*cliente).nome, token); // nome\n",
                "\n",
                "  // Ler idade\n",
                "  token = strtok(NULL, \",\"); // continar lendo at\u00e9 a pr\u00f3xima \",\"\n",
                "  (*cliente).idade = atoi(token); // converter str to int\n",
                "\n",
                "  // Ler rua\n",
                "  token = strtok(NULL, \",\");\n",
                "  strcpy((*cliente).end.rua, token + 1); // +1 retira 1o espa\u00e7o em branco\n",
                "\n",
                "  // Ler numero\n",
                "  token = strtok(NULL, \",\");\n",
                "  (*cliente).end.numero = atoi(token); // converter str to int\n",
                "}\n",
                "void escrevaCliente(Cliente cliente) {\n",
                "  printf(\"nome: %s\\nidade: %d\\n\", cliente.nome, cliente.idade);\n",
                "  printf(\"rua: %s\\nn\u00famero: %d\\n\", cliente.end.rua, cliente.end.numero);\n",
                "}\n",
                "\n",
                "// leia um cliente a partir do teclado\n",
                "// nome, idade, rua, numero\n",
                "void leiaCliente(Cliente* cliente) {\n",
                "  fflush(stdin);\n",
                "  printf(\"nome: \");\n",
                "  fgets((*cliente).nome, 50, stdin);\n",
                "  printf(\"idade: \");\n",
                "  scanf(\"%d\", &(*cliente).idade);\n",
                "  fflush(stdin);\n",
                "  printf(\"rua: \");\n",
                "  fgets((*cliente).end.rua, 50, stdin);\n",
                "  printf(\"numero: \");\n",
                "  scanf(\"%d\", &(*cliente).end.numero);\n",
                "}"
            ],
            "execution_count": null,
            "outputs": []
        },
        {
            "cell_type": "code",
            "metadata": {},
            "source": [
                "%%shell\n",
                "gcc -Wall -std=c99 cap7ex09.c myBiblioteca.c -o output\n",
                "./output"
            ],
            "execution_count": null,
            "outputs": []
        },
        {
            "cell_type": "markdown",
            "metadata": {},
            "source": [
                "## Exerc\u00edcios"
            ]
        },
        {
            "cell_type": "markdown",
            "metadata": {},
            "source": [
                "Ver notebook Colab nos arquivos `cap7.partX.lab.*.ipynb` (`X` $\\in$ `[2,3,4,5]` e `*` \u00e9 a extens\u00e3o da linguagem), utilizando alguma linguagem de programa\u00e7\u00e3o de sua prefer\u00eancia, onganizadas em subpastas contidas em `\"gen\"`, na pasta do Google Drive [colabs](https://drive.google.com/drive/folders/1YlFwv8XYN7PYYf-HwDMlkxzbmXzJw9cM?usp=sharing)."
            ]
        },
        {
            "cell_type": "markdown",
            "metadata": {},
            "source": [
                "## Revis\u00e3o deste cap\u00edtulo\n",
                "* Introdu\u00e7\u00e3o\n",
                "* Paradigma Estruturado\n",
                "* Paradigma Orientado a Objetos\n",
                "* Tipos de dados\n",
                "* Arquivos\n",
                "* Exerc\u00edcios\n",
                "* Revis\u00e3o deste cap\u00edtulo de Vetores"
            ]
        }
    ]
}