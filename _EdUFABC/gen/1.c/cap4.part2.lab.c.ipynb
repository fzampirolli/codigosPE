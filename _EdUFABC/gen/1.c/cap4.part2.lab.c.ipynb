{
    "nbformat": 4,
    "nbformat_minor": 0,
    "metadata": {
        "colab": {
            "provenance": [
                {
                    "file_id": "120HGhuQUsYqKDvUqyrl3bAJBrlWmHUC8",
                    "timestamp": 1616405504493
                },
                {
                    "file_id": "1IUumSmkO7OKjjjmphpRGVZm9XAQ106g2",
                    "timestamp": 1575381269264
                }
            ],
            "collapsed_sections": []
        },
        "kernelspec": {
            "name": "python3",
            "display_name": "Python 3"
        }
    },
    "cells": [
        {
            "cell_type": "markdown",
            "metadata": {},
            "source": [
                "## Processando a Informa\u00e7\u00e3o: Cap. 4: Estruturas de Repeti\u00e7\u00e3o (La\u00e7os) - Pr\u00e1tica 1"
            ]
        },
        {
            "cell_type": "markdown",
            "metadata": {},
            "source": [
                "<img src=\"https://editora.ufabc.edu.br/images/Capa_Processando_Informacao.jpg\" alt=\"Capa\" width=\"150\" align=\"right\">\n",
                "\n",
                "![](\"figs/Capa_Processando_Informacao.jpg\")\n",
                "\n",
                "Este caderno (Notebook) \u00e9 parte complementar *online* do livro **[Processando a Informa\u00e7\u00e3o](https://editora.ufabc.edu.br/matematica-e-ciencias-da-computacao/58-processando-a-informacao): um livro pr\u00e1tico de programa\u00e7\u00e3o independente de linguagem**, que deve ser consultado no caso de d\u00favidas sobre os temas apresentados. \n",
                "\n",
                "> Este conte\u00fado pode ser copiado e alterado livremente e foi inspirado nesse livro. \n"
            ]
        },
        {
            "cell_type": "markdown",
            "metadata": {},
            "source": [
                "### Exerc\u00edcios"
            ]
        },
        {
            "cell_type": "markdown",
            "metadata": {},
            "source": [
                "---\n",
                "1.   Demonstre o uso de la\u00e7os imprimindo os 50 primeiros m\u00faltiplos de 3."
            ]
        },
        {
            "cell_type": "markdown",
            "metadata": {},
            "source": [
                "---\n",
                "2. Fa\u00e7a um m\u00e9todo `fibonacci(n)` ou `F(n)` para retornar o Fibonacci $F(n)$, definido por $F(0)=0$, $F(1)=1$, e $\\forall n>1$:\n",
                "\n",
                "$$F(n) = 0, 1, 1, 2, 3, 5, \\cdots, F(n-2), F(n-1), F(n-1) + F(n-2) $$ \n",
                "\n",
                "  > Teste em um programa principal v\u00e1rias chamadas destes m\u00e9todos.\n",
                "\n",
                "\n",
                "\n",
                "\n"
            ]
        },
        {
            "cell_type": "markdown",
            "metadata": {},
            "source": [
                "---\n",
                "3.  Fa\u00e7a um m\u00e9todo `primo(n)` para retornar o valor `1` (n\u00famero um) se um n\u00famero $n$ entrado pelo teclado \u00e9 primo, caso contr\u00e1rio, retornar o valor `0` (n\u00famero zero). Isto pode ser feito dividindo sucessivamente o n\u00famero entrado por valores $i$, onde $i$ varia de $2$ at\u00e9 $n-1$, e verificando o resto da divis\u00e3o. Se $n\\%i$ (resto da divis\u00e3o de $n$ por $i$) for zero para qualquer $i$, o m\u00e9todo dever retornar o valor `0`. Caso a condi\u00e7\u00e3o anterior n\u00e3o ocorra, o m\u00e9todo dever retornar o valor `1`.\n",
                "\n",
                "  > Teste em um programa principal v\u00e1rias chamadas destes m\u00e9todos, exibindo a mensagem `\"N\u00e3o \u00e9 primo!\"` ou  `\"\u00e9 primo\"`."
            ]
        },
        {
            "cell_type": "markdown",
            "metadata": {},
            "source": [
                "---\n",
                "4. Escreva um programa que \n",
                "  * leia tr\u00eas dados: Investimento inicial (I), Taxa de juros (J) e N\u00famero de meses (N); \n",
                "  * em seguida calcule e exiba uma tabela de juros compostos, com o valor total do investimento corrigido do m\u00eas zero at\u00e9 o m\u00eas selecionado.  \n",
                "  \n",
                "  > Dica: procure saber mais sobre \u201csa\u00edda formatada\u201d na linguagem escolhida. \n",
                "  Veja o exemplo de sa\u00edda produzida usando o comando de impress\u00e3o formatada `print` (python) ou `printf` (em diferentes linguagens): "
            ]
        },
        {
            "cell_type": "markdown",
            "metadata": {},
            "source": [
                "```\n",
                "printf(\"%5d %,20.2f %,20.2f %,20.2f\\n\", n, Jn, Jt, I );\n",
                "```"
            ]
        },
        {
            "cell_type": "markdown",
            "metadata": {},
            "source": [
                "```\n",
                "M\u00eas\tjuros no m\u00eas\tjuros total\t Investimento\n",
                "  0\t\t 0.00\t       0.00\t \t100.00\n",
                "  1\t\t 1.00\t       1.00\t \t101.00\n",
                "  2\t \t1.51\t       2.51 \t    102.51\n",
                "  3\t \t2.02\t       4.53\t \t104.53\n",
                "```"
            ]
        },
        {
            "cell_type": "markdown",
            "metadata": {},
            "source": [
                "---\n",
                "5.  a) Utilize la\u00e7os para calcular o M\u00ednimo M\u00faltiplo Comum (MMC) de dois n\u00fameros entrados pelo usu\u00e1rio; b) Fa\u00e7a uma fun\u00e7\u00e3o que receba dois n\u00fameros como par\u00e2metros e retorne o MMC ao ponto de chamada."
            ]
        }
    ]
}