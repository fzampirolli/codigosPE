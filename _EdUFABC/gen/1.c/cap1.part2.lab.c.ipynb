{
    "nbformat": 4,
    "nbformat_minor": 0,
    "metadata": {
        "colab": {
            "provenance": [
                {
                    "file_id": "120HGhuQUsYqKDvUqyrl3bAJBrlWmHUC8",
                    "timestamp": 1616405504493
                },
                {
                    "file_id": "1IUumSmkO7OKjjjmphpRGVZm9XAQ106g2",
                    "timestamp": 1575381269264
                }
            ],
            "collapsed_sections": [],
            "toc_visible": true
        },
        "kernelspec": {
            "name": "python3",
            "display_name": "Python 3"
        }
    },
    "cells": [
        {
            "cell_type": "markdown",
            "metadata": {},
            "source": [
                "## Processando a Informa\u00e7\u00e3o: Cap. 1: Fundamentos - Pr\u00e1tica 1\n",
                "\n",
                "\n",
                "\n",
                "\n",
                "\n"
            ]
        },
        {
            "cell_type": "markdown",
            "metadata": {},
            "source": [
                "<img src=\"https://editora.ufabc.edu.br/images/Capa_Processando_Informacao.jpg\" alt=\"Capa\" width=\"150\" align=\"right\">\n",
                "\n",
                "![](\"figs/Capa_Processando_Informacao.jpg\")\n",
                "\n",
                "Este caderno (Notebook) \u00e9 parte complementar *online* do livro **[Processando a Informa\u00e7\u00e3o](https://editora.ufabc.edu.br/matematica-e-ciencias-da-computacao/58-processando-a-informacao): um livro pr\u00e1tico de programa\u00e7\u00e3o independente de linguagem**, que deve ser consultado no caso de d\u00favidas sobre os temas apresentados. \n",
                "\n",
                "> Este conte\u00fado pode ser copiado e alterado livremente e foi inspirado nesse livro. \n"
            ]
        },
        {
            "cell_type": "markdown",
            "metadata": {},
            "source": [
                "### Instru\u00e7\u00f5es"
            ]
        },
        {
            "cell_type": "markdown",
            "metadata": {},
            "source": [
                "*   A lista de exerc\u00edcios PODER\u00c1 N\u00c3O SER AVALIADA PELO PROFESSOR, mas entre em contato com o monitor ou o professor se tiver alguma d\u00favida.\n",
                "*   \u00c9 recomendado tirar uma c\u00f3pia do notebook clicando na op\u00e7\u00e3o **\"copiar para o drive\"** no menu acima \u00e0 direita (voc\u00ea precisa estar logado na sua conta no Google para fazer isto). Alternativamente, selecione **\"Arquivo\"**-->**\"Salvar c\u00f3pia no drive\"**. Desta forma voc\u00ea poder\u00e1 edit\u00e1-lo e executar os campos de c\u00f3digo sempre que quiser, sem perder os seu progresso ao fechar esta p\u00e1gina.\n",
                "*   Ap\u00f3s digitar o c\u00f3digo pedido no campo indicado, clique no bot\u00e3o **\"executar\"** ou **\"play\"** para ver a sa\u00edda do c\u00f3digo entrado.\n",
                "*   \u00c9 recomendado seguir a ordem sugerida dos exerc\u00edcios, uma vez que familiaridade com os conceitos introduzidos s\u00e3o esperados nos exerc\u00edcios seguintes.\n",
                "*   O *notebook Colab* tem o Python nativo para rodar as c\u00e9lulas de c\u00f3digo. Se desejar outra linguagem de programa\u00e7\u00e3o, consulte o material do Cap\u00edtulo 1, na pasta do Google Drive [colabs](https://drive.google.com/drive/folders/1YlFwv8XYN7PYYf-HwDMlkxzbmXzJw9cM?usp=sharing)\n",
                "\n",
                "\n"
            ]
        },
        {
            "cell_type": "markdown",
            "metadata": {},
            "source": [
                "### Sugest\u00f5es para envio dos exerc\u00edcios com avalia\u00e7\u00e3o autom\u00e1tica no Moodle+VPL"
            ]
        },
        {
            "cell_type": "markdown",
            "metadata": {},
            "source": [
                "*   Fique atento as datas de entrega no calend\u00e1rio do Moodle.\n",
                "*   Escolha uma linguagem de programa\u00e7\u00e3o para submeter os exerc\u00edcios (ou a definida pelo seu professor). \n",
                "*   A atividade no Moodle considera sempre a \u00faltima submiss\u00e3o, com a nota atribu\u00edda de forma autom\u00e1tica.\n",
                "*   Fa\u00e7a uma c\u00f3pia do Colab e tente resolver as quest\u00f5es aqui, ou em alguma IDE de sua prefer\u00eancia, antes de enviar para avalia\u00e7\u00e3o no Moodle.\n",
                "*   \u00c9 poss\u00edvel rodar c\u00f3digos independentes em IDEs e tamb\u00e9m *online*, utilizando navegadores como o chrome: https://ideone.com/, https://www.codechef.com/ide, https://replit.com/, https://www.jdoodle.com.\n",
                "*   \u00c9 poss\u00edvel tamb\u00e9m rodar c\u00f3digos no seu celular, utilizando navegadores acessando esses links.\n"
            ]
        },
        {
            "cell_type": "markdown",
            "metadata": {},
            "source": [
                "### Exerc\u00edcios"
            ]
        },
        {
            "cell_type": "markdown",
            "metadata": {},
            "source": [
                "---\n",
                "1.   No espa\u00e7o abaixo, escreva um programa para exibir a mensagem \"Al\u00f4 mundo!\". Execute-o e verifique se a sa\u00edda est\u00e1 correta."
            ]
        },
        {
            "cell_type": "markdown",
            "metadata": {},
            "source": [
                "---\n",
                "\n",
                "2.   **Complete** o processamento do c\u00f3digo abaixo com a f\u00f3rmula correta para o delta ($\\Delta = b^2-4ac$) da equa\u00e7\u00e3o do segundo grau, na forma $ax^{2}+bx+c=0$. **Dados**: a opera\u00e7\u00e3o 'elevado' em Python \u00e9 `**`. Considere alguns valores inteiros e reais para $a$, $b$ e $c$. **Resposta correta:** delta = 49\n",
                "\n",
                "```\n",
                "a = 2\n",
                "b = 3\n",
                "c = -5\n",
                "```"
            ]
        },
        {
            "cell_type": "markdown",
            "metadata": {},
            "source": [
                "---\n",
                "\n",
                "3.   **Complete o c\u00f3digo anterior** no campo abaixo com comandos para calcular e exibir as ra\u00edzes da equa\u00e7\u00e3o do segundo grau, usando a f\u00f3rmula $raiz_1=\\frac{-b+\\sqrt{\\Delta}}{2a}$ e $raiz_2=\\frac{-b-\\sqrt{\\Delta}}{2a}$. **Dados**: raiz de um n\u00famero = n\u00famero\\*\\*.5 (elevado a meio). **Respostas:** (-2.5, 1.0)."
            ]
        },
        {
            "cell_type": "markdown",
            "metadata": {},
            "source": [
                "---\n",
                "\n",
                "4.   Adicione `c\u00f3digo` na parte indicada para trocar os valores das vari\u00e1veis `a, b e c` (<u>definidas anteriormente</u>) de forma que `a` contenha o menor valor, `b` contenha o valor central e `c` contenha o maior valor. A \u00faltima linha `(a, b, c)` <u>n\u00e3o deve ser alterada</u>. **Sa\u00edda**: `(-5, 2, 3)`"
            ]
        },
        {
            "cell_type": "markdown",
            "metadata": {},
            "source": [
                "---\n",
                "\n",
                "5. Escreva abaixo um programa completo que leia dois n\u00fameros (devem ser digitados pelo usu\u00e1rio) e calcule e exiba a m\u00e9dia. Quando executado, o programa deve gerar a seguinte sa\u00edda: \n",
                "\n",
                "```\n",
                "Entre com o primeiro n\u00famero: 10\n",
                "Entre com o segundo n\u00famero: 5\n",
                "M\u00e9dia: 7.5\n",
                "```\n"
            ]
        }
    ]
}