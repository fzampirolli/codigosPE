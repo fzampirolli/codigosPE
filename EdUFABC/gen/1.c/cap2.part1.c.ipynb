{
    "nbformat": 4,
    "nbformat_minor": 0,
    "metadata": {
        "colab": {
            "provenance": [
                {
                    "file_id": "120HGhuQUsYqKDvUqyrl3bAJBrlWmHUC8",
                    "timestamp": 1616405504493
                },
                {
                    "file_id": "1IUumSmkO7OKjjjmphpRGVZm9XAQ106g2",
                    "timestamp": 1575381269264
                }
            ],
            "collapsed_sections": [],
            "toc_visible": true
        },
        "kernelspec": {
            "name": "python3",
            "display_name": "Python 3"
        }
    },
    "cells": [
        {
            "cell_type": "markdown",
            "metadata": {},
            "source": [
                "# Processando a Informa\u00e7\u00e3o: Cap. 2: Organiza\u00e7\u00e3o de c\u00f3digo\n",
                "\n",
                "\n",
                "\n",
                "\n",
                "\n"
            ]
        },
        {
            "cell_type": "markdown",
            "metadata": {},
            "source": [
                "<img src=\"https://editora.ufabc.edu.br/images/Capa_Processando_Informacao.jpg\" alt=\"Capa\" width=\"150\" align=\"right\">\n",
                "\n",
                "![](\"figs/Capa_Processando_Informacao.jpg\")\n",
                "\n",
                "Este caderno (Notebook) \u00e9 parte complementar *online* do livro **[Processando a Informa\u00e7\u00e3o](https://editora.ufabc.edu.br/matematica-e-ciencias-da-computacao/58-processando-a-informacao): um livro pr\u00e1tico de programa\u00e7\u00e3o independente de linguagem**, que deve ser consultado no caso de d\u00favidas sobre os temas apresentados. \n",
                "\n",
                "> Este conte\u00fado pode ser copiado e alterado livremente e foi inspirado nesse livro. \n"
            ]
        },
        {
            "cell_type": "markdown",
            "metadata": {},
            "source": [
                "## Sum\u00e1rio\n",
                "* Revis\u00e3o do cap\u00edtulo anterior\n",
                "* Programas sequenciais\n",
                "* Coment\u00e1rios\n",
                "* Desvios de fluxo \n",
                "* Programas e Subprogramas\n",
                "* Fun\u00e7\u00f5es, m\u00e9todos e modulariza\u00e7\u00e3o\n",
                "* Reaproveitamento e manuten\u00e7\u00e3o de c\u00f3digo\n",
                "* Revis\u00e3o deste cap\u00edtulo\n",
                "* Exerc\u00edcios"
            ]
        },
        {
            "cell_type": "markdown",
            "metadata": {},
            "source": [
                "## Revis\u00e3o do cap\u00edtulo anterior (Fundamentos)"
            ]
        },
        {
            "cell_type": "markdown",
            "metadata": {},
            "source": [
                "* No cap\u00edtulo anterior foram apresentados os fundamentos para se iniciar a programar utilizando alguma linguagem de programa\u00e7\u00e3o, al\u00e9m de alguns exemplos de c\u00f3digos e principalmente de como executar estes c\u00f3digos em ambientes de programa\u00e7\u00e3o. \n",
                "\n",
                "* Neste cap\u00edtulo iremos iniciar a organizar esses c\u00f3digos, utilizando o conceito de sistema de informa\u00e7\u00e3o em partes:\n",
                "\n",
                "  * **ENTRADA DE DADOS   $\\Rightarrow$   PROCESSAMENTO DA INFORMA\u00c7\u00c3O   $\\Rightarrow$   SA\u00cdDA**"
            ]
        },
        {
            "cell_type": "markdown",
            "metadata": {},
            "source": [
                "## Programas sequenciais"
            ]
        },
        {
            "cell_type": "markdown",
            "metadata": {},
            "source": [
                "* Como vimos no cap\u00edtulo anterior, um programa consiste de uma **sequ\u00eancia l\u00f3gica de comandos e opera\u00e7\u00f5es** que, executadas em ordem, realizam uma determinada tarefa. \n",
                "\n",
                "* Em geral, um programa processa dados de entrada de forma a obter o resultado desejado ou sa\u00edda.\n",
                "\n",
                "* A **entrada** e a **sa\u00edda** de dados s\u00e3o, comumente, realizadas utilizando os dispositivos de entrada e sa\u00edda, como teclado e monitor.\n",
                "\n",
                "* Os dados requeridos para o **processamento** podem estar tamb\u00e9m contidos no c\u00f3digo do programa (no exemplo a seguir, poderia ser `conta = 100`). \n",
                "\n",
                "* No exemplo a seguir em **pseudoc\u00f3digo** a entrada \u00e9 lida do teclado (comando `leia()`) e a sa\u00edda \u00e9 impressa no monitor (comando `escreva`)."
            ]
        },
        {
            "cell_type": "markdown",
            "metadata": {},
            "source": [
                "```\n",
                "#1 ENTRADA de dados:\n",
                "#1.1 Defini\u00e7\u00e3o das vari\u00e1veis do programa:\n",
                "Real: conta, gorjeta;\n",
                "\n",
                "#1.2 Entrada de dados\n",
                "conta = leia(\"Entre o valor da conta: \");\n",
                "\n",
                "#2 PROCESSAMENTO:\n",
                "gorjeta = conta * 0.2;\n",
                "\n",
                "#3 SA\u00cdDA de dados (na tela):\n",
                "escreva(\"Valor da gorjeta = \" + gorjeta);\n",
                "```"
            ]
        },
        {
            "cell_type": "markdown",
            "metadata": {},
            "source": [
                "Assim, o procedimento para especificar um programa \u00e9 definir:\n",
                "1. Os dados de **entrada** necess\u00e1rios (insumos)\n",
                "2. O **processamento** ou transforma\u00e7\u00e3o dos dados de entrada em sa\u00edda\n",
                "3. A **sa\u00edda** desejada do programa\n"
            ]
        },
        {
            "cell_type": "markdown",
            "metadata": {},
            "source": [
                "## Coment\u00e1rios"
            ]
        },
        {
            "cell_type": "markdown",
            "metadata": {},
            "source": [
                "* Coment\u00e1rios s\u00e3o partes do c\u00f3digo usados pelo desenvolvedor para deixar notas, explica\u00e7\u00f5es, exemplos, etc.\n",
                "* Quando definido um coment\u00e1rio, \u00e9 dada uma instru\u00e7\u00e3o direta ao **compilador/interpretador para ignorar a parte comentada**. \n",
                "* Isto quer dizer que os coment\u00e1rios n\u00e3o ser\u00e3o considerados quando o c\u00f3digo for executado.\n",
                "* Logo, os coment\u00e1rios n\u00e3o s\u00e3o parte da execu\u00e7\u00e3o. \n",
                "* Cada linguagem tem sua pr\u00f3pria maneira de introduzir coment\u00e1rios no c\u00f3digo."
            ]
        },
        {
            "cell_type": "markdown",
            "metadata": {},
            "source": [
                "| Tabela. Identificadores  de coment\u00e1rio. \t|||\n",
                "|-|-|-|\n",
                "| Linguagem | Uma linha | V\u00e1rias linhas |\n",
                "| Java/JS/C/C++| //... | /\\*...\\*/ |\n",
                "| Python| #... | \"\"\"...\"\"\" ou '''...''' |\n",
                "| Matlab| %... | %{...}% |\n",
                "| Pascal| {...} | {*...*} |\n",
                "| SQL   | --... | /*...*/ |\n",
                "| R     | #.. | |\n"
            ]
        },
        {
            "cell_type": "markdown",
            "metadata": {},
            "source": [
                "## Desvio de Fluxo"
            ]
        },
        {
            "cell_type": "markdown",
            "metadata": {},
            "source": [
                "* Um programa consiste em uma sequ\u00eancia de comandos executados em ordem, em uma linha cont\u00ednua de execu\u00e7\u00e3o. \n",
                "\n",
                "* No entanto, esta linha (em ingl\u00eas: *thread*) pode conter desvios ou descontinuidades, processando c\u00f3digos de bibliotecas ou subprogramas."
            ]
        },
        {
            "cell_type": "markdown",
            "metadata": {},
            "source": [
                "## Programas e Subprogramas"
            ]
        },
        {
            "cell_type": "markdown",
            "metadata": {},
            "source": [
                "* Em grande parte das linguagens de programa\u00e7\u00e3o, **o c\u00f3digo dos programas pode ser dividido em um ou mais arquivos ou partes**.\n",
                "\n",
                "* <font color='blue'>Cada parte contem uma sequ\u00eancia de comandos com um objetivo</font>, realizando uma tarefa dentro do programa. \n",
                "\n",
                "* Dentro de um mesmo programa podem existir **subprogramas** (ou partes) com fun\u00e7\u00f5es espec\u00edficas ou subconjuntos de comandos que s\u00f3 ser\u00e3o executados em condi\u00e7\u00f5es especiais.\n",
                "\n",
                "* Todas as linguagens v\u00eam acompanhadas de **bibliotecas**, estas <font color='blue'>contendo fun\u00e7\u00f5es ou programas de uso comum</blue>. \n",
                "\n",
                "* S\u00e3o exemplos as fun\u00e7\u00f5es para c\u00e1lculos matem\u00e1ticos, para opera\u00e7\u00f5es de entrada e sa\u00edda, para comunica\u00e7\u00e3o e convers\u00e3o de dados. \n"
            ]
        },
        {
            "cell_type": "markdown",
            "metadata": {},
            "source": [
                "## Bibliotecas"
            ]
        },
        {
            "cell_type": "markdown",
            "metadata": {},
            "source": [
                "Cada linguagem de programa\u00e7\u00e3o possui um conjunto de bibliotecas dispon\u00edveis para uso. As bibliotecas podem guardar vari\u00e1veis ou fun\u00e7\u00f5es."
            ]
        },
        {
            "cell_type": "markdown",
            "metadata": {},
            "source": [
                "## Fun\u00e7\u00f5es ou M\u00e9todos de Usu\u00e1rio"
            ]
        },
        {
            "cell_type": "markdown",
            "metadata": {},
            "source": [
                "* O uso de fun\u00e7\u00f5es facilita a **reutiliza\u00e7\u00e3o de c\u00f3digo**, dado que uma fun\u00e7\u00e3o \u00e9 um programa autocontido, com **entrada**, **processamento** e **sa\u00edda**.\n",
                "\n",
                "* Uma fun\u00e7\u00e3o pode ser copiada de um programa para outro ou incorporado em uma biblioteca escrita pelo usu\u00e1rio, utilizando o comando em Python `import myBiblioteca`. Ou tamb\u00e9m, para C/C++/Java, `#include \"myBiblioteca.h\"`.\n",
                "\n",
                "* Uma fun\u00e7\u00e3o \u00e9 definida por um nome, retorno (opcional), argumento(s) (opcional) e um conjunto de instru\u00e7\u00f5es.\n",
                "\n",
                "* A seguir temos um exemplo de fun\u00e7\u00e3o de usu\u00e1rio escrita em pseudoc\u00f3digo:"
            ]
        },
        {
            "cell_type": "markdown",
            "metadata": {},
            "source": [
                "```\n",
                "# MINHA(S) FUN\u00c7\u00c3O(\u00d5ES)\n",
                "fun\u00e7\u00e3o delta(recebe: real a, real b, real c) retorna real d {\n",
                "     d = b2 \u2013 4ac\n",
                "     retorne d\n",
                "}\n",
                "\n",
                "principal {\n",
                "  # ENTRADAS\n",
                "  a = 5\n",
                "  b = -2\n",
                "  c = 4\n",
                "\n",
                "  # PROCESSAMENTO\n",
                "  real valor = delta(a, b, c) # AQUI EST\u00c1 A CHAMADA DA FUN\u00c7\u00c3O\n",
                "  \n",
                "  # SA\u00cdDA\n",
                "  escreva(\u201cO delta de ax2 +bx + c \u00e9 \u201d + valor)\n",
                "}\n",
                "```\n"
            ]
        },
        {
            "cell_type": "markdown",
            "metadata": {},
            "source": [
                "```\n",
                "TERMINOLOGIA: Os m\u00e9todos podem ser chamados tamb\u00e9m de \n",
                "m\u00f3dulos, fun\u00e7\u00f5es, subprogramas ou procedimentos. \n",
                "\n",
                "Existe uma conven\u00e7\u00e3o: quando um m\u00e9todo tem argumento(s) \n",
                "(par\u00e2metros) e um retorno \u00e9 chamado de fun\u00e7\u00e3o, caso contr\u00e1rio, \n",
                "\u00e9 chamado procedimento. \n",
                "\n",
                "Por\u00e9m, poucas linguagens fazem distin\u00e7\u00e3o na sintaxe entre \n",
                "fun\u00e7\u00e3o e procedimento, como a Pascal, tornando confusa \n",
                "esta conven\u00e7\u00e3o. \n",
                "```"
            ]
        },
        {
            "cell_type": "markdown",
            "metadata": {},
            "source": [
                "#### Exemplo 01 - Uso de Fun\u00e7\u00f5es"
            ]
        },
        {
            "cell_type": "markdown",
            "metadata": {},
            "source": [
                "###### Casos para Teste Moodle+VPL\n",
                "\n",
                "Para o professor criar uma atividade VPL no Moodle para este Exemplo 01, basta incluir em `Casos para teste`, o seguinte texto (pode incluir mais casos):\n",
                "\n",
                "```\n",
                "case=caso1\n",
                "output= \n",
                "O delta de ax^2 + bx + c \u00e9 -76.0\n",
                "```"
            ]
        },
        {
            "cell_type": "markdown",
            "metadata": {},
            "source": [
                "\n",
                "* Quando uma fun\u00e7\u00e3o n\u00e3o tem `return` ela deve retornar o tipo `void` (nada), por exemplo, `void escrevaDelta(float d){...}`.\n",
                "\n",
                "*  <font color='blue'>Os argumentos de uma fun\u00e7\u00e3o podem ser passados por **valor** ou por **refer\u00eancia**</font>. \n",
                "\n",
                "  * Por **valor**: qualquer altera\u00e7\u00e3o do argumento dentro da fun\u00e7\u00e3o n\u00e3o ser\u00e1 passada para quem chamou a fun\u00e7\u00e3o. \n",
                "  *  <font color='red'>Por **refer\u00eancia**: oposto ao anterior, qualquer altera\u00e7\u00e3o dentro da fun\u00e7\u00e3o ser\u00e1 repassada para quem chamou e isso ocorre passando o endere\u00e7o de mem\u00f3ria da vari\u00e1vel (com `&`) ao ser chamado. Por exemplo: \n",
                "    * ````\n",
                "      incrementaUm(&x)\n",
                "      ````\n",
                "    </font>\n",
                "  * Esse endere\u00e7o de mem\u00f3ria \u00e9 definido como o tipo de dados **ponteiro** e ser\u00e1 estudado em detalhes na parte de  aloca\u00e7\u00e3o est\u00e1tica vs din\u00e2micas.\n",
                "  * <font color='red'>Para acessar o conte\u00fado de uma vari\u00e1vel ponteiro, usar o prefixo `*`. Por exemplo: \n",
                "    * ```\n",
                "      void incrementaUm(int *x) {\n",
                "          *x=*x+1;\n",
                "      }\n",
                "      ```\n",
                "      </font>\n",
                "\n",
                "* Observe que o **ESCOPO** da fun\u00e7\u00e3o \u00e9 definido por `{` ... `}`. \n"
            ]
        },
        {
            "cell_type": "code",
            "metadata": {},
            "source": [
                "%%writefile cap2ex01.c\n",
                "#include <stdio.h>\n",
                "// M\u00c9TODO\n",
                "\n",
                "float delta(float a, float b, float c) {\n",
                "  float d = b * b - 4 * a * c;\n",
                "  return d;\n",
                "}\n",
                "// PROGRAMA PRINCIPAL\n",
                "int main(void) {\n",
                "  float a = 5.0, b = -2.0, c = 4.0;\n",
                "  printf(\"O delta de ax^2 + bx + c e %.1f\\n\", delta(a, b, c));\n",
                "  return 0;\n",
                "}"
            ],
            "execution_count": 9,
            "outputs": []
        },
        {
            "cell_type": "code",
            "metadata": {},
            "source": [
                "%%shell\n",
                "gcc -Wall -std=c99 cap2ex01.c -o output2\n",
                "./output2"
            ],
            "execution_count": 10,
            "outputs": []
        },
        {
            "cell_type": "markdown",
            "metadata": {},
            "source": [
                "### Tabula\u00e7\u00e3o"
            ]
        },
        {
            "cell_type": "markdown",
            "metadata": {},
            "source": [
                "\n",
                "* Um conceito muito importante em programa\u00e7\u00e3o \u00e9 a \u201cendenta\u00e7\u00e3o\u201d (*indentation*) ou tabula\u00e7\u00e3o do c\u00f3digo.\n",
                "\n",
                "* Note que sempre que um bloco ou subconjunto de comandos \u00e9 iniciado com `{` a tabula\u00e7\u00e3o \u00e9 incrementada, e quando um subconjunto de comandos se encerra com `}` a tabula\u00e7\u00e3o \u00e9 recuada. \n",
                "\n",
                "* Isto permite visualizar claramente quando um grupo de comandos define um subprograma. \n",
                "\n",
                "* Alguns editores de programa e a maioria das IDEs j\u00e1 fazem a tabula\u00e7\u00e3o de forma autom\u00e1tica. Pesquise como fazer isso em uma IDE que esteja utilizando.\n",
                "\n",
                "* C\u00f3digos sem tabula\u00e7\u00f5es corretas s\u00e3o muito dif\u00edceis de ler por outra pessoa (**os professores geralmente descontam pontos em c\u00f3digos desorganizados!**)."
            ]
        },
        {
            "cell_type": "markdown",
            "metadata": {},
            "source": [
                "## Escopo"
            ]
        },
        {
            "cell_type": "markdown",
            "metadata": {},
            "source": [
                "* Os subprogramas s\u00e3o programas independentes dentro do programa.\n",
                "\n",
                "* Logo possuem vari\u00e1veis pr\u00f3prias para armazenar seus dados. \n",
                "\n",
                "* Estas <font color='blue'>**vari\u00e1veis locais** s\u00f3 existem no \u00e2mbito do subprograma e s\u00f3 durante cada execu\u00e7\u00e3o (chamada) do mesmo</font>, desaparecendo (ou sendo apagadas) ao t\u00e9rmino do subprograma ou ao retornar em qualquer ponto com o comando `return`.\n",
                "\n",
                "* **Vari\u00e1veis globais**, por outro lado, podem ser criadas em um escopo hierarquicamente superior a todos os m\u00e9todos/fun\u00e7\u00f5es, desta forma permeando todos os subprogramas. \n",
                "\n",
                "* Logo, as **vari\u00e1veis globais** t\u00eam escopo em todos os m\u00e9todos.\n"
            ]
        },
        {
            "cell_type": "markdown",
            "metadata": {},
            "source": [
                "## Reaproveitamento e Manuten\u00e7\u00e3o de C\u00f3digo"
            ]
        },
        {
            "cell_type": "markdown",
            "metadata": {},
            "source": [
                "* Outra vantagem do uso de fun\u00e7\u00f5es/m\u00e9todos, al\u00e9m da capacidade de se reaproveitar o c\u00f3digo j\u00e1 escrito em novos programas copiando os subprogramas desejados, \u00e9 \n",
                "\n",
                "  * a possibilidade de se atualizar os m\u00e9todos sem a necessidade de alterar o c\u00f3digo do programa principal. \n",
                "\n",
                "* Para tanto, basta que a comunica\u00e7\u00e3o do m\u00e9todo (entradas e sa\u00eddas) permane\u00e7a inalterada. \n",
                "\n",
                "* Como exemplo, utilizamos um programa com m\u00e9todos para entrada e sa\u00edda de dados com os m\u00e9todos/fun\u00e7\u00f5es `leia()` e `escreva()`, baseado nos exemplos anteriores.\n",
                "\n",
                "* Para programas muito simples, como poucas linhas de c\u00f3digo, pode ter a impress\u00e3o de deixar o c\u00f3digo mais complicado, mas a principal vantagem \u00e9 o reaproveitamento de c\u00f3digo em outros programas similares. \n",
                "\n",
                "* <font color='red'>Esse recurso de m\u00e9todos de entrada e sa\u00edda ser\u00e3o muito \u00fateis nos t\u00f3picos de Vetores e Matr\u00edzes, abordados nos Cap\u00edtulos 5 e 6, respectivamente</font>,\n",
                "\n",
                "  * quando fun\u00e7\u00f5es para ler e escrever um vetor/matriz poder\u00e3o ser reaproveitados em v\u00e1rias quest\u00f5es. "
            ]
        },
        {
            "cell_type": "markdown",
            "metadata": {},
            "source": [
                "#### Exemplo 02 - Uso de Fun\u00e7\u00f5es com Entrada e Sa\u00edda de Dados"
            ]
        },
        {
            "cell_type": "markdown",
            "metadata": {},
            "source": [
                "###### Casos para Teste no Moodle+VPL\n",
                "\n",
                "Para o professor criar uma atividade VPL no Moodle para este Exemplo 02, basta incluir em `Casos para teste`, o seguinte texto (pode incluir mais casos):\n",
                "\n",
                "```\n",
                "case=caso1\n",
                "input=3\n",
                "4\n",
                "5\n",
                "output= \n",
                "-44.0\n",
                "case=caso2\n",
                "input=3\n",
                "4\n",
                "2\n",
                "output= \n",
                "-8.0\n",
                "case=caso3\n",
                "input=3\n",
                "5\n",
                "2\n",
                "output= \n",
                "1.0\n",
                "```"
            ]
        },
        {
            "cell_type": "code",
            "metadata": {},
            "source": [
                "%%writefile cap2ex02.c\n",
                "#include <stdio.h>\n",
                "\n",
                "float delta(float a, float b, float c) {\n",
                "  float d = b*b-4*a*c;\n",
                "  return d;\n",
                "}\n",
                "\n",
                "float leia() {\n",
                "  float valor;\n",
                "  printf(\"Entre com um valor: \");\n",
                "  scanf(\"%f\", &valor);\n",
                "  return valor;\n",
                "}\n",
                "\n",
                "int main(void) {\n",
                "\n",
                "  // ENTRADAS\n",
                "  float a, b, c, d;\n",
                "  a = leia();\n",
                "  b = leia();\n",
                "  c = leia();\n",
                "  \n",
                "  // PROCESSAMENTO\n",
                "  d = delta(a, b, c);\n",
                "\n",
                "  //SA\u00cdDA\n",
                "  printf(\"Delta = %.1f\", d);\n",
                "  return 0;\n",
                "}"
            ],
            "execution_count": 11,
            "outputs": []
        },
        {
            "cell_type": "code",
            "metadata": {},
            "source": [
                "%%shell\n",
                "gcc -Wall -std=c99 cap2ex02.c -o output2\n",
                "./output2"
            ],
            "execution_count": 12,
            "outputs": []
        },
        {
            "cell_type": "markdown",
            "metadata": {},
            "source": [
                "## Exerc\u00edcios"
            ]
        },
        {
            "cell_type": "markdown",
            "metadata": {},
            "source": [
                "Ver notebook Colab no arquivo `cap2.part2.lab.*.ipynb` (`*` \u00e9 a extens\u00e3o da linguagem), utilizando alguma linguagem de programa\u00e7\u00e3o de sua prefer\u00eancia, organizadas em subpastas contidas de `\"gen\"`, na pasta do Google Drive [colabs](https://drive.google.com/drive/folders/1YlFwv8XYN7PYYf-HwDMlkxzbmXzJw9cM?usp=sharing)."
            ]
        },
        {
            "cell_type": "markdown",
            "metadata": {},
            "source": [
                "## Revis\u00e3o deste cap\u00edtulo de Organiza\u00e7\u00e3o de C\u00f3digo\n",
                "* Programas sequenciais\n",
                "  * organize o seu c\u00f3digo em tr\u00eas parte: \n",
                "  > Entrada $\\Rightarrow$ Processamento $\\Rightarrow$ Sa\u00edda\n",
                "* Coment\u00e1rios\n",
                "  * S\u00e3o \u00fateis para outros podem ententer o seu c\u00f3digo\n",
                "* Desvios de fluxo \n",
                "* Programas e subprogramas\n",
                "* Fun\u00e7\u00f5es, m\u00e9todos e modulariza\u00e7\u00e3o\n",
                "* Reaproveitamento e manuten\u00e7\u00e3o de c\u00f3digo\n",
                "  * Esses 4 \u00faltimos t\u00f3picos s\u00e3o muito importantes para organizar o seu c\u00f3digo em partes\n",
                "  * Fique atento ao **escopo** de uma vari\u00e1vel **local** ou **global**\n",
                "* Exerc\u00edcios"
            ]
        }
    ]
}