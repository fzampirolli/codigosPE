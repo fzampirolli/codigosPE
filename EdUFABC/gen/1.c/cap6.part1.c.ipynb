{
    "nbformat": 4,
    "nbformat_minor": 0,
    "metadata": {
        "colab": {
            "provenance": [
                {
                    "file_id": "120HGhuQUsYqKDvUqyrl3bAJBrlWmHUC8",
                    "timestamp": 1616405504493
                },
                {
                    "file_id": "1IUumSmkO7OKjjjmphpRGVZm9XAQ106g2",
                    "timestamp": 1575381269264
                }
            ],
            "collapsed_sections": []
        },
        "kernelspec": {
            "name": "python3",
            "display_name": "Python 3"
        }
    },
    "cells": [
        {
            "cell_type": "markdown",
            "metadata": {},
            "source": [
                "# Processando a Informa\u00e7\u00e3o: Cap. 6: Matrizes\n",
                "\n",
                "\n",
                "\n",
                "\n",
                "\n"
            ]
        },
        {
            "cell_type": "markdown",
            "metadata": {},
            "source": [
                "<img src=\"https://editora.ufabc.edu.br/images/Capa_Processando_Informacao.jpg\" alt=\"Capa\" width=\"150\" align=\"right\">\n",
                "\n",
                "![](\"figs/Capa_Processando_Informacao.jpg\")\n",
                "\n",
                "Este caderno (Notebook) \u00e9 parte complementar *online* do livro **[Processando a Informa\u00e7\u00e3o](https://editora.ufabc.edu.br/matematica-e-ciencias-da-computacao/58-processando-a-informacao): um livro pr\u00e1tico de programa\u00e7\u00e3o independente de linguagem**, que deve ser consultado no caso de d\u00favidas sobre os temas apresentados. \n",
                "\n",
                "> Este conte\u00fado pode ser copiado e alterado livremente e foi inspirado nesse livro. \n"
            ]
        },
        {
            "cell_type": "markdown",
            "metadata": {},
            "source": [
                "## Sum\u00e1rio\n",
                "* Revis\u00e3o do cap\u00edtulo anterior\n",
                "* Introdu\u00e7\u00e3o\n",
                "* Instanciando matrizes\n",
                "* Acessando elementos de uma matriz\n",
                "* Formas de percorrer uma matriz\n",
                "* Aplica\u00e7\u00f5es usando matrizes\n",
                "* Revis\u00e3o deste cap\u00edtulo\n",
                "* Exerc\u00edcios"
            ]
        },
        {
            "cell_type": "markdown",
            "metadata": {},
            "source": [
                "## Revis\u00e3o do cap\u00edtulo anterior (Vetores)"
            ]
        },
        {
            "cell_type": "markdown",
            "metadata": {},
            "source": [
                "* Introdu\u00e7\u00e3o\n",
                "  > Vetores s\u00e3o estruturas para armazenar v\u00e1rios elementos de um mesmo tipo de dados em uma \u00fanica vari\u00e1vel.\n",
                "* Trabalhando com vetores\n",
                "  > Cada linguagem possui uma sintaxe pr\u00f3pria para declarar e alocar vetores.\n",
                "* Acessando elementos de um vetor\n",
                "  > **ATEN\u00c7\u00c3O** para n\u00e3o acessar uma posi\u00e7\u00e3o do vetor n\u00e3o reservada/alocada, geralmente `<0` e `>=n`.\n",
                "* Formas de percorrer um vetor\n",
                "  > \u00c9 poss\u00edvel varrer um vetor na forma ***raster*** e ***anti-raster***, tamb\u00e9m usando diferentes passos, mas geralmente \u00e9 passo=1.\n",
                "* Modulariza\u00e7\u00e3o e vetores\n",
                "  > Muito \u00fatil usar principalmente os m\u00f3dulos de `leiaVetor` e `escrevaVetor`, podendo ser reaproveitados em v\u00e1rios c\u00f3digos.\n",
                "\n",
                "* Tudo que foi visto no cap\u00edtulo anterior de **Vetores** (ou estruturas **unidimensional** ou **1D**) se estende a estrutura de **Matrizes** (ou estruturas **bidimensional** ou **2D)**)."
            ]
        },
        {
            "cell_type": "markdown",
            "metadata": {},
            "source": [
                "## Introdu\u00e7\u00e3o"
            ]
        },
        {
            "cell_type": "markdown",
            "metadata": {},
            "source": [
                "* Existem situa\u00e7\u00f5es onde \u00e9 necess\u00e1rio estender a defini\u00e7\u00e3o de vetor para mais de uma dimens\u00e3o de dados. \n",
                "* Por exemplo, uma forma muito utilizada de manipula\u00e7\u00e3o de dados \u00e9 em tabelas. \n",
                "\n",
                "* Como exemplo, para listar todos os alunos de uma turma e suas notas em uma disciplina, \n",
                "  * as linhas da tabela podem armazenar a identifica\u00e7\u00e3o dos alunos na primeira coluna, \n",
                "  * nas colunas seguintes podem armazenar as notas da prova1, prova2, projeto e, numa \u00faltima coluna, podem armazenar a nota final do aluno. \n",
                "\n",
                "* Analogamente a um vetor, em uma matriz cada elemento possui apenas um dado. \n",
                "\n",
                "* Al\u00e9m disso, na maioria das linguagens de programa\u00e7\u00e3o, todos os elementos de uma matriz s\u00e3o de um mesmo tipo de dado."
            ]
        },
        {
            "cell_type": "markdown",
            "metadata": {},
            "source": [
                "* Um outro exemplo de matrizes muito usado, especialmente com a populariza\u00e7\u00e3o dos dispositivos m\u00f3veis como celulares e *tablets*, que comumente trazem c\u00e2meras digitais acopladas, ocorre no armazenamento e processamento digital de imagens. \n",
                "* Mas antes das c\u00e2meras digitais, j\u00e1 havia *scanners* e digitalizadores, e uma imagem pode ser representada por uma **matriz** em um computador. \n",
                "\n",
                "* Veja o conte\u00fado no ***QRCode*** (imagem=matriz) abaixo usando um aplicativo leitor de QRCode, dispon\u00edvel para *Smartphones* (teste nesta imagem). \n",
                "\n",
                "* O conte\u00fado do ***QRCode*** direciona para uma p\u00e1gina *web* mostrando uma imagem colorida.\n",
                "\n",
                "* As imagens coloridas podem ser armazenada em uma estrutura de matriz **tridimensional**, onde cada dimens\u00e3o armazena uma matriz para uma cor prim\u00e1ria (RGB - *Red-Green-Blue* ou vermelhor, verde e azul). \n",
                "\n",
                "![](\"figs/image38.png\")"
            ]
        },
        {
            "cell_type": "markdown",
            "metadata": {},
            "source": [
                "![image.png](data:image/png;base64,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)"
            ]
        },
        {
            "cell_type": "markdown",
            "metadata": {},
            "source": [
                "## Instanciando Matrizes"
            ]
        },
        {
            "cell_type": "markdown",
            "metadata": {},
            "source": [
                "* Nas linguagens MatLab e R, uma matriz \u00e9 definida com elementos da posi\u00e7\u00e3o `(1,1)` at\u00e9 a posi\u00e7\u00e3o `(L, C)`, onde `L` representa o n\u00famero de linhas e `C` representa o n\u00famero de colunas de uma matriz. \n",
                "\n",
                "* Na maioria das linhagens de programa\u00e7\u00e3o, no entanto, o \u00edndice come\u00e7a no zero, sendo os elementos de uma matriz armazenados da posi\u00e7\u00e3o `(0,0)` at\u00e9 `(L-1,C-1)`.\n",
                "\n",
                "* Nos exemplos a seguir s\u00e3o apresentados alguns exemplos de instancia\u00e7\u00e3o de matrizes em diferentes linguagens de programa\u00e7\u00e3o."
            ]
        },
        {
            "cell_type": "markdown",
            "metadata": {},
            "source": [
                "## Acessando elementos de uma matriz"
            ]
        },
        {
            "cell_type": "markdown",
            "metadata": {},
            "source": [
                "* Uma matriz est\u00e1 pronta para se inserir elementos ou se alterar seus dados ap\u00f3s instanciada e alocada na mem\u00f3ria, em todas as suas dimens\u00f5es. \n",
                "* Veja uma forma de visualizar uma matriz 2D na Figura abaixo.\n",
                "\n",
                "![](\"figs/image40.png\")"
            ]
        },
        {
            "cell_type": "markdown",
            "metadata": {},
            "source": [
                "![image.png](data:image/png;base64,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)"
            ]
        },
        {
            "cell_type": "markdown",
            "metadata": {},
            "source": [
                "* Essa figura ilustra uma matriz com `3` linhas e `2` colunas. \n",
                "* Para visualizar seus elementos podemos usar os \u00edndices `i` e `j`, \n",
                "   * com valores para as linhas `0<=i<3` e \n",
                "   * para as colunas `0<=j<2`.\n",
                "* Analogamente ao vetor, mas com uma dimens\u00e3o a mais, a matriz recebe valores para os seus elementos, conforme a seguinte estrutura em pseudoc\u00f3digo:"
            ]
        },
        {
            "cell_type": "markdown",
            "metadata": {},
            "source": [
                "```\n",
                "Instanciar uma matriz m com 3 linhas e 2 colunas\n",
                "m[0,0] = 5 # linha i=0\n",
                "m[0,1] = 6\n",
                "m[1,0] = 7 # linha i=1\n",
                "m[1,1] = 8\n",
                "m[2,0] = 9 # linha i=2\n",
                "m[2,1] = 7\n",
                "```"
            ]
        },
        {
            "cell_type": "markdown",
            "metadata": {},
            "source": [
                "## Formas de se percorrer uma matriz"
            ]
        },
        {
            "cell_type": "markdown",
            "metadata": {},
            "source": [
                "* Analogamente ao vetor, uma matriz, ap\u00f3s criada, possui tamanho fixo. \n",
                "* Geralmente, para cada dimens\u00e3o da matriz, \u00e9 recomendado usar uma estrutura de repeti\u00e7\u00e3o `para`, \n",
                "  > com o objetivo de tornar o c\u00f3digo mais compacto e gen\u00e9rico para matrizes de quaisquer dimens\u00f5es. \n",
                "* Al\u00e9m disso, \u00e9 natural percorrer (ou varrer) a matriz \n",
                "  * da linha `i=0` at\u00e9 a linha `i<L`, onde L representa o n\u00famero de linhas de uma matriz. \n",
                "  * e da coluna `j=0` at\u00e9 a coluna `j<C`.\n",
                "\n",
                "* No exemplo a seguir em pseudoc\u00f3digo, uma matriz `m` \u00e9 criada com `6` elementos, sendo tr\u00eas linhas e `2` colunas, e os dois la\u00e7os `para` inicializam todos os seus elementos com o valor 0."
            ]
        },
        {
            "cell_type": "markdown",
            "metadata": {},
            "source": [
                "```\n",
                "Instanciar uma matriz m com 3 linhas e 2 colunas \n",
                "inteiros L=3, C=2\n",
                "Para cada i, de i=0; at\u00e9 i<L; passo i=i+1 fa\u00e7a\n",
                "    Para cada j, de j=0; at\u00e9 j<C; passo j=j+1 fa\u00e7a\n",
                "        m[i,j] = 0\n",
                "```"
            ]
        },
        {
            "cell_type": "markdown",
            "metadata": {},
            "source": [
                "* Existem v\u00e1rias formas de percorrer (ou varrer) uma matriz usando uma estrutura de repeti\u00e7\u00e3o. \n",
                "* Por exemplo, \u00e9 poss\u00edvel percorrer uma matriz \n",
                "  * do primeiro elemento `m[0,0]` \n",
                "  > (convencionando como canto superior esquerdo) \n",
                "  * at\u00e9 o \u00faltimo elemento `m[L-1,C-1]` \n",
                "    > (convencionando como canto inferior direito da matriz), \n",
                "  * linha por linha, ou coluna por coluna. \n",
                "  \n",
                "* Esse tipo de varredura \u00e9 chamada ***raster***. \n",
                "\n",
                "* A varredura inversa \u00e9 chamada ***anti-raster***, do \u00faltimo elemento inferior direito, at\u00e9 o primeiro elemento superior esquerdo. "
            ]
        },
        {
            "cell_type": "markdown",
            "metadata": {},
            "source": [
                "## Exemplo 01 - Ler/Escrever matriz\n"
            ]
        },
        {
            "cell_type": "markdown",
            "metadata": {},
            "source": [
                "* Analogamente ao que foi feito no cap\u00edtulo anterior sobre vetores, onde alocamos os vetores em tempo de execu\u00e7\u00e3o atrav\u00e9s de m\u00e9todos, \u00e9 poss\u00edvel usar modulariza\u00e7\u00e3o para melhorar a organiza\u00e7\u00e3o, manuten\u00e7\u00e3o e reaproveitamento de c\u00f3digo.  \n",
                "\n",
                "* Aqui \u00e9 apresentado um m\u00e9todo `leiaMatriz` e `escrevaMatriz` gen\u00e9ricos\n",
                "\n",
                "* Para entrada de dados, ou seja, inserir valores nos elementos alocados na mem\u00f3ria para uma matriz.\n",
                "\n",
                "* Al\u00e9m de sa\u00edda de dados, para escrever a matriz, linha por linha."
            ]
        },
        {
            "cell_type": "markdown",
            "metadata": {},
            "source": [
                "#### Pseudoc\u00f3digo"
            ]
        },
        {
            "cell_type": "markdown",
            "metadata": {},
            "source": [
                "**Exemplo 01:** Considere um algoritmo para: \n",
                "* Ler um inteiro `L` (linhas) representando o n\u00famero de alunos, \n",
                "* Ler um inteiro `C` representando o n\u00famero de avalia\u00e7\u00f5es. \n",
                "* Considere a primeira coluna o `RA` do aluno, assim `C=C+1`. \n",
                "* Criar uma matriz `m` com dimens\u00f5es `LxC`. \n",
                "* Ler todos os elementos da matriz.\n",
                "* Escrever todos os elementos da matriz, formando a sa\u00edda, linha por linha, por exemplo, para uma matriz com `2` alunos e `3` avalia\u00e7\u00f5es, escreva:\n",
                "\n",
                "```\n",
                "LISTA DE ALUNOS vs Avalia\u00e7\u00f5es:\n",
                "1234 4 3 9\n",
                "3456 6 4 8\n",
                "```"
            ]
        },
        {
            "cell_type": "markdown",
            "metadata": {},
            "source": [
                "```\n",
                "Fun\u00e7\u00e3o inteiro m[][] leiaMatriz(inteiro L, inteiro C):\n",
                "    Instanciar e alocar uma matriz m de Reais com L x C\n",
                "    Para cada i, de i=0; at\u00e9 i<L; passo i=i+1 fa\u00e7a\n",
                "        Para cada j, de j=0; at\u00e9 j<C; passo j=j+1 fa\u00e7a\n",
                "            m[i,j] = leia(\"Digite um n\u00famero inteiro:\");\n",
                "\n",
                "Fun\u00e7\u00e3o escrevaMatriz(inteiro m[][], inteiro L, inteiro C): \n",
                "    Instanciar e alocar uma matriz m de Reais com L x C\n",
                "    Para cada i, de i=0; at\u00e9 i<L; passo i=i+1 fa\u00e7a\n",
                "        Para cada j, de j=0; at\u00e9 j<C; passo j=j+1 fa\u00e7a\n",
                "            escreva(\" \", m[i,j]);\n",
                "        escreva(\"\\n\"); // pula linha\n",
                "\n",
                "// PROGRAMA PRINCIPAL\n",
                "// ENTRADAS\n",
                "inteiro L = leia(\"Digite o numero de alunos:\")\n",
                "inteiro C = leia(\"Digite o numero de avalia\u00e7\u00f5es:\")\n",
                "C = C + 1  // a primeira coluna \u00e9 o RA\n",
                "Instanciar uma matriz m com L linhas e C colunas \n",
                "\n",
                "m = leiaMatriz(L,C)\n",
                "// PROCESSAMENTO: ?\n",
                "\n",
                "// SA\u00cdDA\n",
                "escrevaMatriz(m)\n",
                "```"
            ]
        },
        {
            "cell_type": "markdown",
            "metadata": {},
            "source": [
                "#### Casos para Teste Moodle+VPL\n",
                "\n",
                "Para o professor criar uma atividade VPL no Moodle para este Exemplo 01, basta incluir em `Casos para teste`, o seguinte texto (pode incluir mais casos):\n",
                "\n",
                "```\n",
                "case=caso1\n",
                "input=2\n",
                "3\n",
                "1234 \n",
                "4 \n",
                "3 \n",
                "9\n",
                "3456\n",
                "6\n",
                "4\n",
                "8\n",
                "output=\n",
                "LISTA DE ALUNOS vs Avalia\u00e7\u00f5es:\n",
                "1234 4 3 9\n",
                "3456 6 4 8\n",
                "```"
            ]
        },
        {
            "cell_type": "code",
            "metadata": {},
            "source": [
                "%%writefile cap6ex01.c\n",
                "#include <stdio.h>\n",
                "#include<malloc.h>  \n",
                "\n",
                "int ** leiaMatriz(int L, int C) {\n",
                "  int **m = (int **)malloc(L*sizeof(int*)); \n",
                "  for (int i = 0; i < L; i++) {\n",
                "    m[i] = (int *)malloc(C * sizeof(int)); // for each row allocate C ints\n",
                "    for (int j = 0; j < C; j++) {\n",
                "      scanf(\"%d\", &m[i][j]); \n",
                "    }\n",
                "  }\n",
                "  return m;\n",
                "}\n",
                "\n",
                "// you must supply the number of rows\n",
                "void free_matrix(int **m, int L) \n",
                "{\n",
                "    // first free each row\n",
                "    for (int i = 0; i < L; i++) {\n",
                "         free(m[i]);\n",
                "    }\n",
                "\n",
                "    // Eventually free the memory of the pointers to the rows\n",
                "    free(m);\n",
                " }\n",
                "\n",
                "void escrevaMatriz(int **m, int L, int C) {\n",
                "  for (int i = 0; i < L; i++) {\n",
                "   for (int j = 0; j < C; j++) {\n",
                "      printf(\"%d\\t\", m[i][j]); \n",
                "   }\n",
                "   printf(\"\\n\");\n",
                "  }\n",
                "}\n",
                "int main(void) {\n",
                "  // ENTRADA DE DADOS\n",
                "  int L, C, **m;   // variaveis de refer\u00eancia m\n",
                "  printf(\"Digite o n\u00famero de alunos: \");\n",
                "  scanf(\"%d\", &L);\n",
                "\n",
                "  printf(\"Digite o n\u00famero de avalia\u00e7\u00f5es: \");\n",
                "  scanf(\"%d\", &C);\n",
                "\n",
                "  C = C + 1; // a primeira coluna \u00e9 o RA do aluno\n",
                "\n",
                "  printf(\"Digite os elementos da matriz\");\n",
                "  m = leiaMatriz(L,C);\n",
                "\n",
                "  // PROCESSAMENTO ?\n",
                "\n",
                "  // SA\u00cdDA DE DADOS\n",
                "  printf(\"\\nLISTA DE ALUNOS vs Avalia\u00e7\u00f5es:\\n\");\n",
                "  printf(\"RA \");\n",
                "  for (int i = 0; i < C-1; i++) {\n",
                "    printf(\"\\t%d\",(i+1)); \n",
                "  }\n",
                "  printf(\"\\n\");\n",
                "  escrevaMatriz(m,L,C);\n",
                "  free_matrix(m,L); // liberar mem\u00f3ria alocado com malloc\n",
                "  return 0;\n",
                "}"
            ],
            "execution_count": null,
            "outputs": []
        },
        {
            "cell_type": "code",
            "metadata": {},
            "source": [
                "%%shell\n",
                "gcc cap6ex01.c -o output2\n",
                "./output2"
            ],
            "execution_count": null,
            "outputs": []
        },
        {
            "cell_type": "markdown",
            "metadata": {},
            "source": [
                "## Exerc\u00edcios"
            ]
        },
        {
            "cell_type": "markdown",
            "metadata": {},
            "source": [
                "Ver notebook Colab nos arquivos `cap6.partX.lab.*.ipynb` (`X` $\\in$ `[2,3,4,5]` e `*` \u00e9 a extens\u00e3o da linguagem), utilizando alguma linguagem de programa\u00e7\u00e3o de sua prefer\u00eancia, onganizadas em subpastas contidas em `\"gen\"`, na pasta do Google Drive [colabs](https://drive.google.com/drive/folders/1YlFwv8XYN7PYYf-HwDMlkxzbmXzJw9cM?usp=sharing)."
            ]
        },
        {
            "cell_type": "markdown",
            "metadata": {},
            "source": [
                "## Atividades no Moodle+VPL\n",
                "\n",
                "Algumas atividades no Moodle+VPL pedem como entradas matrizes de inteiros (ou reais), <font color='red'>**armazenados em v\u00e1rias linhas**</font>. Exemplo de entrada a ser lida:\n",
                "\n",
                "### Entrada de Dados (cada linha contem um texto ou *string* com elementos da linha da matriz e v\u00e1rios espa\u00e7os \"` `\"):\n",
                "```\n",
                "0 9 3 6 9 8 4 5 4\n",
                "8 1 2 3 5 2 9 9 6\n",
                "4 1 1 0 9 9 8 2 7\n",
                "5 2 8 4 6 6 0 8 0\n",
                "4 7 6 4 3 9 3 3 5\n",
                "2 6 0 4 0 7 5 5 2\n",
                "9 8 4 8 4 7 1 4 3\n",
                "```\n",
                "\n",
                "Para n\u00e3o ter que incluir v\u00e1rias entradas inteiras, a melhor solu\u00e7\u00e3o \u00e9 fazer um m\u00e9todo de leitura, passando como argumento um texto (*string*) com v\u00e1rias linhas. O final de cada linha \u00e9 definido por `\\n` e o final da matriz deve ser uma linha em branco com apenas `\\n`. Esse m\u00e9todo deve retornar a matriz."
            ]
        },
        {
            "cell_type": "markdown",
            "metadata": {},
            "source": [
                "## Revis\u00e3o deste cap\u00edtulo de Vetores\n",
                "* Introdu\u00e7\u00e3o\n",
                "* Instanciando matrizes\n",
                "* Acessando elementos de uma matriz\n",
                "* Formas de percorrer uma matriz\n",
                "* Aplica\u00e7\u00f5es usando matrizes\n",
                "* Exerc\u00edcios\n",
                "* Revis\u00e3o deste cap\u00edtulo de Vetores"
            ]
        }
    ]
}