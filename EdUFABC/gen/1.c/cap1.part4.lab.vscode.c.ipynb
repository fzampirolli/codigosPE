{
    "nbformat": 4,
    "nbformat_minor": 0,
    "metadata": {
        "colab": {
            "provenance": [
                {
                    "file_id": "120HGhuQUsYqKDvUqyrl3bAJBrlWmHUC8",
                    "timestamp": 1616405504493
                },
                {
                    "file_id": "1IUumSmkO7OKjjjmphpRGVZm9XAQ106g2",
                    "timestamp": 1575381269264
                }
            ],
            "collapsed_sections": [],
            "toc_visible": true
        },
        "kernelspec": {
            "name": "python3",
            "display_name": "Python 3"
        }
    },
    "cells": [
        {
            "cell_type": "markdown",
            "metadata": {},
            "source": [
                "## Processando a Informa\u00e7\u00e3o: Cap. 1: Fundamentos - Pr\u00e1tica 4: Tutorial VSCode\n",
                "\n",
                "\n",
                "\n",
                "\n",
                "\n"
            ]
        },
        {
            "cell_type": "markdown",
            "metadata": {},
            "source": [
                "<img src=\"https://editora.ufabc.edu.br/images/Capa_Processando_Informacao.jpg\" alt=\"Capa\" width=\"150\" align=\"right\">\n",
                "\n",
                "![](\"figs/Capa_Processando_Informacao.jpg\")\n",
                "\n",
                "Este caderno (Notebook) \u00e9 parte complementar *online* do livro **[Processando a Informa\u00e7\u00e3o](https://editora.ufabc.edu.br/matematica-e-ciencias-da-computacao/58-processando-a-informacao): um livro pr\u00e1tico de programa\u00e7\u00e3o independente de linguagem**, que deve ser consultado no caso de d\u00favidas sobre os temas apresentados. \n",
                "\n",
                "> Este conte\u00fado pode ser copiado e alterado livremente e foi inspirado nesse livro. \n"
            ]
        },
        {
            "cell_type": "markdown",
            "metadata": {},
            "source": [
                "### Tuturial (em constru\u00e7\u00e3o) VSCode"
            ]
        },
        {
            "cell_type": "markdown",
            "source": [
                "* **[VSCODE](https://vscode.dev)** - vers\u00e3o *online* de c\u00f3digo aberto do *Visual studio*. \n",
                "\n",
                "* Para download e uso local: https://code.visualstudio.com/download.\n",
                "\n",
                "* Ver: \n",
                "\n",
                "  * https://docs.microsoft.com/pt-br/learn/modules/introduction-to-github-visual-studio-code/\n",
                "  * https://www.digitalocean.com/community/tutorials/how-to-use-git-integration-in-visual-studio-code-pt\n",
                "  * https://balta.io/blog/git-github-primeiros-passos\n",
                "\n",
                "* Clonar: https://github.com/fzampirolli/codigosPE\n",
                "\n",
                "* Alterar `settings.json` em `code-runner.executorMap`:\n",
                "  * `\"c\": \"cd $dir && gcc -Wall -std=c99 $fileName -o ...`\n",
                "    * `-Wall` para mostrar `warning` (programas ruins)\n",
                "    * `-std=c99` - padr\u00e3o ANSI ou [C99](https://en.m.wikipedia.org/wiki/C99), os programas seguindo esse padr\u00e3o s\u00e3o mais port\u00e1veis, ou seja, possuem menos problemas de compatibilidade entre diferentes arquiteturas."
            ],
            "metadata": {}
        }
    ]
}