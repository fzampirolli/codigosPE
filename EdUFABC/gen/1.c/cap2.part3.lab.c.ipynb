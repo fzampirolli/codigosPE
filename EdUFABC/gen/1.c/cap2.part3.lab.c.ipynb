{
    "nbformat": 4,
    "nbformat_minor": 0,
    "metadata": {
        "colab": {
            "provenance": [
                {
                    "file_id": "120HGhuQUsYqKDvUqyrl3bAJBrlWmHUC8",
                    "timestamp": 1616405504493
                },
                {
                    "file_id": "1IUumSmkO7OKjjjmphpRGVZm9XAQ106g2",
                    "timestamp": 1575381269264
                }
            ],
            "collapsed_sections": []
        },
        "kernelspec": {
            "name": "python3",
            "display_name": "Python 3"
        }
    },
    "cells": [
        {
            "cell_type": "markdown",
            "metadata": {},
            "source": [
                "## Processando a Informa\u00e7\u00e3o: Cap. 2: Organiza\u00e7\u00e3o de C\u00f3digo - Pr\u00e1tica 2\n",
                "\n",
                "\n",
                "\n",
                "\n",
                "\n"
            ]
        },
        {
            "cell_type": "markdown",
            "metadata": {},
            "source": [
                "<img src=\"https://editora.ufabc.edu.br/images/Capa_Processando_Informacao.jpg\" alt=\"Capa\" width=\"150\" align=\"right\">\n",
                "\n",
                "![](\"figs/Capa_Processando_Informacao.jpg\")\n",
                "\n",
                "Este caderno (Notebook) \u00e9 parte complementar *online* do livro **[Processando a Informa\u00e7\u00e3o](https://editora.ufabc.edu.br/matematica-e-ciencias-da-computacao/58-processando-a-informacao): um livro pr\u00e1tico de programa\u00e7\u00e3o independente de linguagem**, que deve ser consultado no caso de d\u00favidas sobre os temas apresentados. \n",
                "\n",
                "> Este conte\u00fado pode ser copiado e alterado livremente e foi inspirado nesse livro. \n"
            ]
        },
        {
            "cell_type": "markdown",
            "metadata": {},
            "source": [
                "### Exerc\u00edcios"
            ]
        },
        {
            "cell_type": "markdown",
            "source": [
                "[Fonte: https://wiki.python.org.br/ExerciciosFuncoes]\n",
                "\n",
                "Organizar cada quest\u00e3o em partes:\n",
                "\n",
                " * **ENTRADA DE DADOS   $\\Rightarrow$   PROCESSAMENTO DA INFORMA\u00c7\u00c3O   $\\Rightarrow$   SA\u00cdDA**\n",
                "\n",
                "Seguindo o pseudoc\u00f3digo a seguir:"
            ],
            "metadata": {}
        },
        {
            "cell_type": "markdown",
            "metadata": {},
            "source": [
                "```\n",
                "# MINHA(S) FUN\u00c7\u00c3O(\u00d5ES)\n",
                "fun\u00e7\u00e3o delta(recebe: real a, real b, real c) retorna real d {\n",
                "     d = b2 \u2013 4ac\n",
                "     retorne d\n",
                "}\n",
                "\n",
                "principal {\n",
                "  # ENTRADAS\n",
                "  a = 5\n",
                "  b = -2\n",
                "  c = 4\n",
                "\n",
                "  # PROCESSAMENTO\n",
                "  real valor = delta(a, b, c) # AQUI EST\u00c1 A CHAMADA DA FUN\u00c7\u00c3O\n",
                "  \n",
                "  # SA\u00cdDA\n",
                "  escreva(\u201cO delta de ax2 +bx + c \u00e9 \u201d + valor)\n",
                "}\n",
                "```\n"
            ]
        },
        {
            "cell_type": "markdown",
            "metadata": {},
            "source": [
                "---\n",
                "1.   Fazer uma fun\u00e7\u00e3o que recebe tr\u00eas argumentos e retorne o produto\n",
                "desses tr\u00eas argumentos. Teste em um programa principal v\u00e1rias chamadas deste m\u00e9todo."
            ]
        },
        {
            "cell_type": "markdown",
            "metadata": {},
            "source": [
                "---\n",
                "2.   Fa\u00e7a um programa com uma fun\u00e7\u00e3o chamada `somaImposto`. A fun\u00e7\u00e3o possui dois par\u00e2metros formais: taxaImposto, que \u00e9 a quantia de imposto sobre vendas expressa em porcentagem e custo, que \u00e9 o custo de um item antes do imposto. A fun\u00e7\u00e3o \u201caltera\u201d o valor de custo para incluir o imposto sobre vendas."
            ]
        },
        {
            "cell_type": "markdown",
            "metadata": {},
            "source": [
                "---\n",
                "3.   Fa\u00e7a um programa que use a fun\u00e7\u00e3o valorPagamento para determinar o valor a ser pago por uma presta\u00e7\u00e3o de uma conta. O programa dever\u00e1 solicitar ao usu\u00e1rio o valor da presta\u00e7\u00e3o e o n\u00famero de dias em atraso e passar estes valores para a fun\u00e7\u00e3o valorPagamento, que calcular\u00e1 o valor a ser pago e devolver\u00e1 este valor ao programa que a chamou. O programa dever\u00e1 ent\u00e3o exibir o valor a ser pago na tela. O c\u00e1lculo do valor a ser pago \u00e9 feito da seguinte forma. Considere que sempre tem atraso. Nestes casos, cobrar 3% de multa, mais 0,1% de juros por dia de atraso."
            ]
        },
        {
            "cell_type": "markdown",
            "metadata": {},
            "source": [
                "---\n",
                "4.   Escreva uma fun\u00e7\u00e3o que recebe dois inteiros, $n$ e $p$, como par\u00e2metros e retorna a **combina\u00e7\u00e3o** $\\frac{n!}{p!(n-p)!}$. Use a fun\u00e7\u00e3o `math.factorial(x)` para calcular o fatorial de `x`. Conceitos:\n",
                "  * **Permuta\u00e7\u00e3o** s\u00e3o agrupamentos de elementos de um conjunto nos quais a ordem dos elementos faz diferen\u00e7a. \n",
                "    > Exemplo $\\{a,b,c\\} = abc, acb, bac, bca, cab, cba$. O n\u00famero de combina\u00e7\u00f5es de um conjunto com $n$ elementos \u00e9 $n!$ (fatorial de $n$), onde $0! = 1$.\n",
                "  * **Combina\u00e7\u00e3o** indica quantas variedades de subconjuntos diferentes com $p\\leq n$ elementos existem, onde a ordem dos elementos n\u00e3o interfere."
            ]
        },
        {
            "cell_type": "markdown",
            "metadata": {},
            "source": [
                "---\n",
                "5.   Cria uma fun\u00e7\u00e3o para ler tr\u00eas notas para prova1, prova2, projeto, declaradas como vari\u00e1veis globais. Crie outra fun\u00e7\u00e3o para retornar a m\u00e9dia ponderada com pesos, prova1 30%, prova2 40% e trabalho 30%. Crie uma terceira fun\u00e7\u00e3o para receber como par\u00e2metros o nome de um aluno e a m\u00e9dia e imprimir nesse formato:\n",
                "\n",
                "```\n",
                "Aluno: Ana Maria Chavier\n",
                "Prova1: 7.0\n",
                "Prova2: 8.0\n",
                "Trabalho: 10.0\n",
                "M\u00e9dia: X.0\n",
                "```"
            ]
        }
    ]
}