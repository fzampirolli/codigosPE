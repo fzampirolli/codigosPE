{
    "nbformat": 4,
    "nbformat_minor": 0,
    "metadata": {
        "colab": {
            "provenance": [
                {
                    "file_id": "120HGhuQUsYqKDvUqyrl3bAJBrlWmHUC8",
                    "timestamp": 1616405504493
                },
                {
                    "file_id": "1IUumSmkO7OKjjjmphpRGVZm9XAQ106g2",
                    "timestamp": 1575381269264
                }
            ],
            "collapsed_sections": []
        },
        "kernelspec": {
            "name": "python3",
            "display_name": "Python 3"
        }
    },
    "cells": [
        {
            "cell_type": "markdown",
            "metadata": {},
            "source": [
                "## Processando a Informa\u00e7\u00e3o: Cap. 1: Fundamentos - Pr\u00e1tica 2\n",
                "\n",
                "\n",
                "\n",
                "\n",
                "\n"
            ]
        },
        {
            "cell_type": "markdown",
            "metadata": {},
            "source": [
                "<img src=\"https://editora.ufabc.edu.br/images/Capa_Processando_Informacao.jpg\" alt=\"Capa\" width=\"150\" align=\"right\">\n",
                "\n",
                "![](\"figs/Capa_Processando_Informacao.jpg\")\n",
                "\n",
                "Este caderno (Notebook) \u00e9 parte complementar *online* do livro **[Processando a Informa\u00e7\u00e3o](https://editora.ufabc.edu.br/matematica-e-ciencias-da-computacao/58-processando-a-informacao): um livro pr\u00e1tico de programa\u00e7\u00e3o independente de linguagem**, que deve ser consultado no caso de d\u00favidas sobre os temas apresentados. \n",
                "\n",
                "> Este conte\u00fado pode ser copiado e alterado livremente e foi inspirado nesse livro. \n"
            ]
        },
        {
            "cell_type": "markdown",
            "metadata": {},
            "source": [
                "### Exerc\u00edcios\n",
                "\n",
                "[Fonte: https://wiki.python.org.br/EstruturaSequencial]"
            ]
        },
        {
            "cell_type": "markdown",
            "metadata": {},
            "source": [
                "---\n",
                "1.   Fa\u00e7a um programa que pe\u00e7a o raio ($R$) de um c\u00edrculo, calcule e mostre sua \u00e1rea ($\\pi R^2$) e seu per\u00edmetro ($2\\pi R$)."
            ]
        },
        {
            "cell_type": "markdown",
            "metadata": {},
            "source": [
                "---\n",
                "\n",
                "2.   Fa\u00e7a um programa que pe\u00e7a a Ap\u00f3tema ($a$, ver figura), o n\u00famero ($n$) de lados do pol\u00edgono regular e o comprimento $l$ de cada lado. Calcule e mostre a sua \u00c1rea ($A=nla/2$). Essa f\u00f3rmula funciona para tri\u00e2ngulo equil\u00e1tero e quadrado? [[fonte](https://www.todamateria.com.br/area-dos-poligonos/amp/)]\n",
                "\n",
                "![](\"figs/poligono.png\") \n",
                "<center>\n",
                "<img src=\"https://drive.google.com/uc?export=view&id=1QKF19g1xCbcIYm5f1V6ufdsOUjyFq6gR\" alt=\"Ap\u00f3tema\" width=\"250\" align=\"center\"><p>\n",
                "</center>\n"
            ]
        },
        {
            "cell_type": "markdown",
            "metadata": {},
            "source": [
                "---\n",
                "\n",
                "3.   Fa\u00e7a um programa que pergunte quanto voc\u00ea ganha por hora e o n\u00famero de horas trabalhadas por dia da semana (sem s\u00e1bados e domingos). Calcule e mostre o total do seu sal\u00e1rio semanal."
            ]
        },
        {
            "cell_type": "markdown",
            "metadata": {},
            "source": [
                "---\n",
                "\n",
                "4.  Fa\u00e7a um programa que pe\u00e7a a temperatura em graus Fahrenheit, transforme e mostre a temperatura em graus Celsius."
            ]
        },
        {
            "cell_type": "markdown",
            "metadata": {},
            "source": [
                "---\n",
                "\n",
                "5. Fa\u00e7a um programa que pe\u00e7a 2 n\u00fameros inteiros e um n\u00famero real. Calcule e mostre:\n",
                "  * o produto do dobro do primeiro com metade do segundo;\n",
                "  * a soma do triplo do primeiro com o terceiro;\n",
                "  * o terceiro elevado ao cubo."
            ]
        },
        {
            "cell_type": "markdown",
            "metadata": {},
            "source": [
                "---\n",
                "\n",
                "6. Tendo como dados de entrada a altura ($h$) de uma pessoa, construa um programa que calcule seu peso ideal, usando a seguinte f\u00f3rmula: \n",
                "$$72.7h - 58$$"
            ]
        },
        {
            "cell_type": "markdown",
            "metadata": {},
            "source": [
                "---\n",
                "\n",
                "7. Tendo como dado de entrada a altura ($h$) de uma pessoa, construa um programa que calcule seu peso ideal, utilizando as seguintes f\u00f3rmulas:\n",
                "  * homens: $72.7h - 58$\n",
                "  * mulheres: $62.1h - 44.7$"
            ]
        },
        {
            "cell_type": "markdown",
            "metadata": {},
            "source": [
                "---\n",
                "\n",
                "8. Jo\u00e3o Papo-de-Pescador, homem de bem, comprou um microcomputador para controlar o rendimento di\u00e1rio de seu trabalho. Considere que ele sempre traz um peso de peixes maior que o estabelecido pelo regulamento de pesca do estado de S\u00e3o Paulo (50 quilos), neste caso, com uma multa de R$ 4,00 por quilo excedente. Jo\u00e3o precisa que voc\u00ea fa\u00e7a um programa que leia a vari\u00e1vel peso (peso de peixes) e calcule o excesso. Gravar na vari\u00e1vel excesso a quantidade de quilos al\u00e9m do limite e na vari\u00e1vel multa o valor da multa que Jo\u00e3o dever\u00e1 pagar. Imprima os dados do programa com as mensagens adequadas."
            ]
        },
        {
            "cell_type": "markdown",
            "metadata": {},
            "source": [
                "---\n",
                "\n",
                "9. Fa\u00e7a um programa que pergunte quanto voc\u00ea ganha por hora e o n\u00famero de horas trabalhadas no m\u00eas. Calcule e mostre o total do seu sal\u00e1rio no referido m\u00eas, sabendo-se que s\u00e3o descontados 11% para o Imposto de Renda, 8% para o INSS e 5% para o sindicato, fa\u00e7a um programa que nos d\u00ea:\n",
                "  * sal\u00e1rio bruto.\n",
                "  * quanto pagou ao INSS.\n",
                "  * quanto pagou ao sindicato.\n",
                "  * o sal\u00e1rio l\u00edquido.\n",
                "  * calcule os descontos e o sal\u00e1rio l\u00edquido, conforme a tabela abaixo:\n",
                "\n",
                "```\n",
                "  + Sal\u00e1rio Bruto : R$\n",
                "  - IR (11%) : R$\n",
                "  - INSS (8%) : R$\n",
                "  - Sindicato  (5%) : R$\n",
                "  = Sal\u00e1rio Liquido : R$\n",
                "```\n",
                "\n",
                "  Obs.: Sal\u00e1rio Bruto - Descontos = Sal\u00e1rio L\u00edquido"
            ]
        },
        {
            "cell_type": "markdown",
            "metadata": {},
            "source": [
                "---\n",
                "\n",
                "10. Fa\u00e7a um programa para uma loja de tintas. O programa dever\u00e1 pedir o tamanho em metros quadrados da \u00e1rea a ser pintada. Considere que a cobertura da tinta \u00e9 de 1 litro para cada 3 metros quadrados e que a tinta \u00e9 vendida em latas de 18 litros, que custam R$ 80,00. Informe ao usu\u00e1rio a quantidade de latas de tinta a serem compradas e o pre\u00e7o total."
            ]
        }
    ]
}